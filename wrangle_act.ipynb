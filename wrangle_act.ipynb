{
 "cells": [
  {
   "cell_type": "code",
   "execution_count": 1,
   "metadata": {},
   "outputs": [],
   "source": [
    "# import all the needed liberaries and modules\n",
    "import pandas as pd\n",
    "import numpy as np\n",
    "import zipfile as zf\n",
    "import glob\n",
    "import os\n",
    "import requests\n",
    "import tweepy\n",
    "from tweepy import OAuthHandler\n",
    "import json\n",
    "from PIL import Image\n",
    "from io import BytesIO\n",
    "import matplotlib.pyplot as plt\n",
    "import seaborn as sns\n",
    "import datetime as dt\n",
    "import time\n",
    "import re\n",
    "from timeit import default_timer as timer"
   ]
  },
  {
   "cell_type": "markdown",
   "metadata": {},
   "source": [
    "# Step 1: Gathering Data\n"
   ]
  },
  {
   "cell_type": "markdown",
   "metadata": {},
   "source": [
    "### a) Open uploaded file"
   ]
  },
  {
   "cell_type": "code",
   "execution_count": 2,
   "metadata": {},
   "outputs": [],
   "source": [
    "#Open the given CSV file (file in hand)\n",
    "twitter_archive = pd.read_csv(\"twitter-archive-enhanced-2.csv\")"
   ]
  },
  {
   "cell_type": "markdown",
   "metadata": {},
   "source": [
    "### b) Download file from URL"
   ]
  },
  {
   "cell_type": "code",
   "execution_count": 3,
   "metadata": {},
   "outputs": [],
   "source": [
    "#Get file from the given link using requests\n",
    "img_predict_url = requests.get(\"https://d17h27t6h515a5.cloudfront.net/topher/2017/August/599fd2ad_image-predictions/image-predictions.tsv\")\n",
    "\n",
    "#Download and save the file with the name (image_predictions.tsv)\n",
    "open (\"image_predictions.tsv\", \"wb\").write(img_predict_url.content)\n",
    "\n",
    "#open the file using pandas\n",
    "img_predict = pd.read_csv(\"image_predictions.tsv\", sep='\\t')"
   ]
  },
  {
   "cell_type": "markdown",
   "metadata": {},
   "source": [
    "### c) Download file from Twitter API"
   ]
  },
  {
   "cell_type": "code",
   "execution_count": 4,
   "metadata": {},
   "outputs": [],
   "source": [
    "## Get the page object\n",
    "## Query Twitter API for each tweet in the Twitter archive and save JSON in a text file\n",
    "## These are hidden to comply with Twitter's API terms and conditions\n",
    "\n",
    "#consumer_key = 'Hidden'\n",
    "#consumer_secret = 'Hidden'\n",
    "#access_token = 'Hidden'\n",
    "#access_secret = 'Hidden'\n",
    "\n",
    "#auth = OAuthHandler(consumer_key, consumer_secret)\n",
    "#auth.set_access_token(access_token, access_secret)\n",
    "\n",
    "#api = tweepy.API(auth, wait_on_rate_limit=True)\n",
    "\n",
    "\n",
    "#tweet_ids = twitter_archive.tweet_id.values\n",
    "#len(tweet_ids)\n",
    "\n",
    "## Query Twitter's API for JSON data for each tweet ID in the Twitter archive\n",
    "#count = 0\n",
    "#fails_dict = {}\n",
    "#start = timer()\n",
    "## Save each tweet's returned JSON as a new line in a .txt file\n",
    "#with open('tweet_json.txt', 'w') as outfile:\n",
    "    ## This loop will likely take 20-30 minutes to run because of Twitter's rate limit\n",
    "    #for tweet_id in tweet_ids:\n",
    "        #count += 1\n",
    "        #print(str(count) + \": \" + str(tweet_id))\n",
    "        #try:\n",
    "            #tweet = api.get_status(tweet_id, tweet_mode='extended')\n",
    "            #print(\"Success\")\n",
    "            #json.dump(tweet._json, outfile)\n",
    "            #outfile.write('\\n')\n",
    "        #except tweepy.TweepError as e:\n",
    "            #print(\"Fail\")\n",
    "            #fails_dict[tweet_id] = e\n",
    "            #pass\n",
    "#end = timer()\n",
    "#print(end - start)\n",
    "#print(fails_dict)"
   ]
  },
  {
   "cell_type": "code",
   "execution_count": 5,
   "metadata": {},
   "outputs": [],
   "source": [
    "#Open txt file then convert it to json\n",
    "twitter_api = []\n",
    "\n",
    "with open (\"tweet_json.txt\", \"r\") as file:\n",
    "    for line in file:\n",
    "        json_object = json.loads(line)\n",
    "        tweet_id = json_object['id']\n",
    "        retweet_count = json_object['retweet_count']\n",
    "        fav_count = json_object['favorite_count']\n",
    "        \n",
    "        twitter_api.append({'tweet_id':tweet_id, 'retweet_count': retweet_count,'favorit_count': fav_count})\n",
    "        \n",
    "twitter_api_archive = pd.DataFrame(twitter_api)"
   ]
  },
  {
   "cell_type": "markdown",
   "metadata": {},
   "source": [
    "# Step 2: Data Assesing"
   ]
  },
  {
   "cell_type": "markdown",
   "metadata": {},
   "source": [
    "### a) Assessing (twitter_archive)"
   ]
  },
  {
   "cell_type": "code",
   "execution_count": 6,
   "metadata": {},
   "outputs": [
    {
     "data": {
      "text/html": [
       "<div>\n",
       "<style scoped>\n",
       "    .dataframe tbody tr th:only-of-type {\n",
       "        vertical-align: middle;\n",
       "    }\n",
       "\n",
       "    .dataframe tbody tr th {\n",
       "        vertical-align: top;\n",
       "    }\n",
       "\n",
       "    .dataframe thead th {\n",
       "        text-align: right;\n",
       "    }\n",
       "</style>\n",
       "<table border=\"1\" class=\"dataframe\">\n",
       "  <thead>\n",
       "    <tr style=\"text-align: right;\">\n",
       "      <th></th>\n",
       "      <th>tweet_id</th>\n",
       "      <th>in_reply_to_status_id</th>\n",
       "      <th>in_reply_to_user_id</th>\n",
       "      <th>timestamp</th>\n",
       "      <th>source</th>\n",
       "      <th>text</th>\n",
       "      <th>retweeted_status_id</th>\n",
       "      <th>retweeted_status_user_id</th>\n",
       "      <th>retweeted_status_timestamp</th>\n",
       "      <th>expanded_urls</th>\n",
       "      <th>rating_numerator</th>\n",
       "      <th>rating_denominator</th>\n",
       "      <th>name</th>\n",
       "      <th>doggo</th>\n",
       "      <th>floofer</th>\n",
       "      <th>pupper</th>\n",
       "      <th>puppo</th>\n",
       "    </tr>\n",
       "  </thead>\n",
       "  <tbody>\n",
       "    <tr>\n",
       "      <th>0</th>\n",
       "      <td>892420643555336193</td>\n",
       "      <td>NaN</td>\n",
       "      <td>NaN</td>\n",
       "      <td>2017-08-01 16:23:56 +0000</td>\n",
       "      <td>&lt;a href=\"http://twitter.com/download/iphone\" r...</td>\n",
       "      <td>This is Phineas. He's a mystical boy. Only eve...</td>\n",
       "      <td>NaN</td>\n",
       "      <td>NaN</td>\n",
       "      <td>NaN</td>\n",
       "      <td>https://twitter.com/dog_rates/status/892420643...</td>\n",
       "      <td>13</td>\n",
       "      <td>10</td>\n",
       "      <td>Phineas</td>\n",
       "      <td>None</td>\n",
       "      <td>None</td>\n",
       "      <td>None</td>\n",
       "      <td>None</td>\n",
       "    </tr>\n",
       "    <tr>\n",
       "      <th>1</th>\n",
       "      <td>892177421306343426</td>\n",
       "      <td>NaN</td>\n",
       "      <td>NaN</td>\n",
       "      <td>2017-08-01 00:17:27 +0000</td>\n",
       "      <td>&lt;a href=\"http://twitter.com/download/iphone\" r...</td>\n",
       "      <td>This is Tilly. She's just checking pup on you....</td>\n",
       "      <td>NaN</td>\n",
       "      <td>NaN</td>\n",
       "      <td>NaN</td>\n",
       "      <td>https://twitter.com/dog_rates/status/892177421...</td>\n",
       "      <td>13</td>\n",
       "      <td>10</td>\n",
       "      <td>Tilly</td>\n",
       "      <td>None</td>\n",
       "      <td>None</td>\n",
       "      <td>None</td>\n",
       "      <td>None</td>\n",
       "    </tr>\n",
       "    <tr>\n",
       "      <th>2</th>\n",
       "      <td>891815181378084864</td>\n",
       "      <td>NaN</td>\n",
       "      <td>NaN</td>\n",
       "      <td>2017-07-31 00:18:03 +0000</td>\n",
       "      <td>&lt;a href=\"http://twitter.com/download/iphone\" r...</td>\n",
       "      <td>This is Archie. He is a rare Norwegian Pouncin...</td>\n",
       "      <td>NaN</td>\n",
       "      <td>NaN</td>\n",
       "      <td>NaN</td>\n",
       "      <td>https://twitter.com/dog_rates/status/891815181...</td>\n",
       "      <td>12</td>\n",
       "      <td>10</td>\n",
       "      <td>Archie</td>\n",
       "      <td>None</td>\n",
       "      <td>None</td>\n",
       "      <td>None</td>\n",
       "      <td>None</td>\n",
       "    </tr>\n",
       "    <tr>\n",
       "      <th>3</th>\n",
       "      <td>891689557279858688</td>\n",
       "      <td>NaN</td>\n",
       "      <td>NaN</td>\n",
       "      <td>2017-07-30 15:58:51 +0000</td>\n",
       "      <td>&lt;a href=\"http://twitter.com/download/iphone\" r...</td>\n",
       "      <td>This is Darla. She commenced a snooze mid meal...</td>\n",
       "      <td>NaN</td>\n",
       "      <td>NaN</td>\n",
       "      <td>NaN</td>\n",
       "      <td>https://twitter.com/dog_rates/status/891689557...</td>\n",
       "      <td>13</td>\n",
       "      <td>10</td>\n",
       "      <td>Darla</td>\n",
       "      <td>None</td>\n",
       "      <td>None</td>\n",
       "      <td>None</td>\n",
       "      <td>None</td>\n",
       "    </tr>\n",
       "    <tr>\n",
       "      <th>4</th>\n",
       "      <td>891327558926688256</td>\n",
       "      <td>NaN</td>\n",
       "      <td>NaN</td>\n",
       "      <td>2017-07-29 16:00:24 +0000</td>\n",
       "      <td>&lt;a href=\"http://twitter.com/download/iphone\" r...</td>\n",
       "      <td>This is Franklin. He would like you to stop ca...</td>\n",
       "      <td>NaN</td>\n",
       "      <td>NaN</td>\n",
       "      <td>NaN</td>\n",
       "      <td>https://twitter.com/dog_rates/status/891327558...</td>\n",
       "      <td>12</td>\n",
       "      <td>10</td>\n",
       "      <td>Franklin</td>\n",
       "      <td>None</td>\n",
       "      <td>None</td>\n",
       "      <td>None</td>\n",
       "      <td>None</td>\n",
       "    </tr>\n",
       "    <tr>\n",
       "      <th>...</th>\n",
       "      <td>...</td>\n",
       "      <td>...</td>\n",
       "      <td>...</td>\n",
       "      <td>...</td>\n",
       "      <td>...</td>\n",
       "      <td>...</td>\n",
       "      <td>...</td>\n",
       "      <td>...</td>\n",
       "      <td>...</td>\n",
       "      <td>...</td>\n",
       "      <td>...</td>\n",
       "      <td>...</td>\n",
       "      <td>...</td>\n",
       "      <td>...</td>\n",
       "      <td>...</td>\n",
       "      <td>...</td>\n",
       "      <td>...</td>\n",
       "    </tr>\n",
       "    <tr>\n",
       "      <th>2351</th>\n",
       "      <td>666049248165822465</td>\n",
       "      <td>NaN</td>\n",
       "      <td>NaN</td>\n",
       "      <td>2015-11-16 00:24:50 +0000</td>\n",
       "      <td>&lt;a href=\"http://twitter.com/download/iphone\" r...</td>\n",
       "      <td>Here we have a 1949 1st generation vulpix. Enj...</td>\n",
       "      <td>NaN</td>\n",
       "      <td>NaN</td>\n",
       "      <td>NaN</td>\n",
       "      <td>https://twitter.com/dog_rates/status/666049248...</td>\n",
       "      <td>5</td>\n",
       "      <td>10</td>\n",
       "      <td>None</td>\n",
       "      <td>None</td>\n",
       "      <td>None</td>\n",
       "      <td>None</td>\n",
       "      <td>None</td>\n",
       "    </tr>\n",
       "    <tr>\n",
       "      <th>2352</th>\n",
       "      <td>666044226329800704</td>\n",
       "      <td>NaN</td>\n",
       "      <td>NaN</td>\n",
       "      <td>2015-11-16 00:04:52 +0000</td>\n",
       "      <td>&lt;a href=\"http://twitter.com/download/iphone\" r...</td>\n",
       "      <td>This is a purebred Piers Morgan. Loves to Netf...</td>\n",
       "      <td>NaN</td>\n",
       "      <td>NaN</td>\n",
       "      <td>NaN</td>\n",
       "      <td>https://twitter.com/dog_rates/status/666044226...</td>\n",
       "      <td>6</td>\n",
       "      <td>10</td>\n",
       "      <td>a</td>\n",
       "      <td>None</td>\n",
       "      <td>None</td>\n",
       "      <td>None</td>\n",
       "      <td>None</td>\n",
       "    </tr>\n",
       "    <tr>\n",
       "      <th>2353</th>\n",
       "      <td>666033412701032449</td>\n",
       "      <td>NaN</td>\n",
       "      <td>NaN</td>\n",
       "      <td>2015-11-15 23:21:54 +0000</td>\n",
       "      <td>&lt;a href=\"http://twitter.com/download/iphone\" r...</td>\n",
       "      <td>Here is a very happy pup. Big fan of well-main...</td>\n",
       "      <td>NaN</td>\n",
       "      <td>NaN</td>\n",
       "      <td>NaN</td>\n",
       "      <td>https://twitter.com/dog_rates/status/666033412...</td>\n",
       "      <td>9</td>\n",
       "      <td>10</td>\n",
       "      <td>a</td>\n",
       "      <td>None</td>\n",
       "      <td>None</td>\n",
       "      <td>None</td>\n",
       "      <td>None</td>\n",
       "    </tr>\n",
       "    <tr>\n",
       "      <th>2354</th>\n",
       "      <td>666029285002620928</td>\n",
       "      <td>NaN</td>\n",
       "      <td>NaN</td>\n",
       "      <td>2015-11-15 23:05:30 +0000</td>\n",
       "      <td>&lt;a href=\"http://twitter.com/download/iphone\" r...</td>\n",
       "      <td>This is a western brown Mitsubishi terrier. Up...</td>\n",
       "      <td>NaN</td>\n",
       "      <td>NaN</td>\n",
       "      <td>NaN</td>\n",
       "      <td>https://twitter.com/dog_rates/status/666029285...</td>\n",
       "      <td>7</td>\n",
       "      <td>10</td>\n",
       "      <td>a</td>\n",
       "      <td>None</td>\n",
       "      <td>None</td>\n",
       "      <td>None</td>\n",
       "      <td>None</td>\n",
       "    </tr>\n",
       "    <tr>\n",
       "      <th>2355</th>\n",
       "      <td>666020888022790149</td>\n",
       "      <td>NaN</td>\n",
       "      <td>NaN</td>\n",
       "      <td>2015-11-15 22:32:08 +0000</td>\n",
       "      <td>&lt;a href=\"http://twitter.com/download/iphone\" r...</td>\n",
       "      <td>Here we have a Japanese Irish Setter. Lost eye...</td>\n",
       "      <td>NaN</td>\n",
       "      <td>NaN</td>\n",
       "      <td>NaN</td>\n",
       "      <td>https://twitter.com/dog_rates/status/666020888...</td>\n",
       "      <td>8</td>\n",
       "      <td>10</td>\n",
       "      <td>None</td>\n",
       "      <td>None</td>\n",
       "      <td>None</td>\n",
       "      <td>None</td>\n",
       "      <td>None</td>\n",
       "    </tr>\n",
       "  </tbody>\n",
       "</table>\n",
       "<p>2356 rows × 17 columns</p>\n",
       "</div>"
      ],
      "text/plain": [
       "                tweet_id  in_reply_to_status_id  in_reply_to_user_id  \\\n",
       "0     892420643555336193                    NaN                  NaN   \n",
       "1     892177421306343426                    NaN                  NaN   \n",
       "2     891815181378084864                    NaN                  NaN   \n",
       "3     891689557279858688                    NaN                  NaN   \n",
       "4     891327558926688256                    NaN                  NaN   \n",
       "...                  ...                    ...                  ...   \n",
       "2351  666049248165822465                    NaN                  NaN   \n",
       "2352  666044226329800704                    NaN                  NaN   \n",
       "2353  666033412701032449                    NaN                  NaN   \n",
       "2354  666029285002620928                    NaN                  NaN   \n",
       "2355  666020888022790149                    NaN                  NaN   \n",
       "\n",
       "                      timestamp  \\\n",
       "0     2017-08-01 16:23:56 +0000   \n",
       "1     2017-08-01 00:17:27 +0000   \n",
       "2     2017-07-31 00:18:03 +0000   \n",
       "3     2017-07-30 15:58:51 +0000   \n",
       "4     2017-07-29 16:00:24 +0000   \n",
       "...                         ...   \n",
       "2351  2015-11-16 00:24:50 +0000   \n",
       "2352  2015-11-16 00:04:52 +0000   \n",
       "2353  2015-11-15 23:21:54 +0000   \n",
       "2354  2015-11-15 23:05:30 +0000   \n",
       "2355  2015-11-15 22:32:08 +0000   \n",
       "\n",
       "                                                 source  \\\n",
       "0     <a href=\"http://twitter.com/download/iphone\" r...   \n",
       "1     <a href=\"http://twitter.com/download/iphone\" r...   \n",
       "2     <a href=\"http://twitter.com/download/iphone\" r...   \n",
       "3     <a href=\"http://twitter.com/download/iphone\" r...   \n",
       "4     <a href=\"http://twitter.com/download/iphone\" r...   \n",
       "...                                                 ...   \n",
       "2351  <a href=\"http://twitter.com/download/iphone\" r...   \n",
       "2352  <a href=\"http://twitter.com/download/iphone\" r...   \n",
       "2353  <a href=\"http://twitter.com/download/iphone\" r...   \n",
       "2354  <a href=\"http://twitter.com/download/iphone\" r...   \n",
       "2355  <a href=\"http://twitter.com/download/iphone\" r...   \n",
       "\n",
       "                                                   text  retweeted_status_id  \\\n",
       "0     This is Phineas. He's a mystical boy. Only eve...                  NaN   \n",
       "1     This is Tilly. She's just checking pup on you....                  NaN   \n",
       "2     This is Archie. He is a rare Norwegian Pouncin...                  NaN   \n",
       "3     This is Darla. She commenced a snooze mid meal...                  NaN   \n",
       "4     This is Franklin. He would like you to stop ca...                  NaN   \n",
       "...                                                 ...                  ...   \n",
       "2351  Here we have a 1949 1st generation vulpix. Enj...                  NaN   \n",
       "2352  This is a purebred Piers Morgan. Loves to Netf...                  NaN   \n",
       "2353  Here is a very happy pup. Big fan of well-main...                  NaN   \n",
       "2354  This is a western brown Mitsubishi terrier. Up...                  NaN   \n",
       "2355  Here we have a Japanese Irish Setter. Lost eye...                  NaN   \n",
       "\n",
       "      retweeted_status_user_id retweeted_status_timestamp  \\\n",
       "0                          NaN                        NaN   \n",
       "1                          NaN                        NaN   \n",
       "2                          NaN                        NaN   \n",
       "3                          NaN                        NaN   \n",
       "4                          NaN                        NaN   \n",
       "...                        ...                        ...   \n",
       "2351                       NaN                        NaN   \n",
       "2352                       NaN                        NaN   \n",
       "2353                       NaN                        NaN   \n",
       "2354                       NaN                        NaN   \n",
       "2355                       NaN                        NaN   \n",
       "\n",
       "                                          expanded_urls  rating_numerator  \\\n",
       "0     https://twitter.com/dog_rates/status/892420643...                13   \n",
       "1     https://twitter.com/dog_rates/status/892177421...                13   \n",
       "2     https://twitter.com/dog_rates/status/891815181...                12   \n",
       "3     https://twitter.com/dog_rates/status/891689557...                13   \n",
       "4     https://twitter.com/dog_rates/status/891327558...                12   \n",
       "...                                                 ...               ...   \n",
       "2351  https://twitter.com/dog_rates/status/666049248...                 5   \n",
       "2352  https://twitter.com/dog_rates/status/666044226...                 6   \n",
       "2353  https://twitter.com/dog_rates/status/666033412...                 9   \n",
       "2354  https://twitter.com/dog_rates/status/666029285...                 7   \n",
       "2355  https://twitter.com/dog_rates/status/666020888...                 8   \n",
       "\n",
       "      rating_denominator      name doggo floofer pupper puppo  \n",
       "0                     10   Phineas  None    None   None  None  \n",
       "1                     10     Tilly  None    None   None  None  \n",
       "2                     10    Archie  None    None   None  None  \n",
       "3                     10     Darla  None    None   None  None  \n",
       "4                     10  Franklin  None    None   None  None  \n",
       "...                  ...       ...   ...     ...    ...   ...  \n",
       "2351                  10      None  None    None   None  None  \n",
       "2352                  10         a  None    None   None  None  \n",
       "2353                  10         a  None    None   None  None  \n",
       "2354                  10         a  None    None   None  None  \n",
       "2355                  10      None  None    None   None  None  \n",
       "\n",
       "[2356 rows x 17 columns]"
      ]
     },
     "execution_count": 6,
     "metadata": {},
     "output_type": "execute_result"
    }
   ],
   "source": [
    "#Visual_Assess\n",
    "twitter_archive\n",
    "    ##inspect it using Excel"
   ]
  },
  {
   "cell_type": "code",
   "execution_count": 7,
   "metadata": {},
   "outputs": [
    {
     "data": {
      "text/plain": [
       "['tweet_id',\n",
       " 'in_reply_to_status_id',\n",
       " 'in_reply_to_user_id',\n",
       " 'timestamp',\n",
       " 'source',\n",
       " 'text',\n",
       " 'retweeted_status_id',\n",
       " 'retweeted_status_user_id',\n",
       " 'retweeted_status_timestamp',\n",
       " 'expanded_urls',\n",
       " 'rating_numerator',\n",
       " 'rating_denominator',\n",
       " 'name',\n",
       " 'doggo',\n",
       " 'floofer',\n",
       " 'pupper',\n",
       " 'puppo']"
      ]
     },
     "execution_count": 7,
     "metadata": {},
     "output_type": "execute_result"
    }
   ],
   "source": [
    "# programatic_Assess\n",
    "list(twitter_archive)"
   ]
  },
  {
   "cell_type": "code",
   "execution_count": 8,
   "metadata": {},
   "outputs": [
    {
     "name": "stdout",
     "output_type": "stream",
     "text": [
      "<class 'pandas.core.frame.DataFrame'>\n",
      "RangeIndex: 2356 entries, 0 to 2355\n",
      "Data columns (total 17 columns):\n",
      " #   Column                      Non-Null Count  Dtype  \n",
      "---  ------                      --------------  -----  \n",
      " 0   tweet_id                    2356 non-null   int64  \n",
      " 1   in_reply_to_status_id       78 non-null     float64\n",
      " 2   in_reply_to_user_id         78 non-null     float64\n",
      " 3   timestamp                   2356 non-null   object \n",
      " 4   source                      2356 non-null   object \n",
      " 5   text                        2356 non-null   object \n",
      " 6   retweeted_status_id         181 non-null    float64\n",
      " 7   retweeted_status_user_id    181 non-null    float64\n",
      " 8   retweeted_status_timestamp  181 non-null    object \n",
      " 9   expanded_urls               2297 non-null   object \n",
      " 10  rating_numerator            2356 non-null   int64  \n",
      " 11  rating_denominator          2356 non-null   int64  \n",
      " 12  name                        2356 non-null   object \n",
      " 13  doggo                       2356 non-null   object \n",
      " 14  floofer                     2356 non-null   object \n",
      " 15  pupper                      2356 non-null   object \n",
      " 16  puppo                       2356 non-null   object \n",
      "dtypes: float64(4), int64(3), object(10)\n",
      "memory usage: 220.9+ KB\n"
     ]
    }
   ],
   "source": [
    "twitter_archive.info()"
   ]
  },
  {
   "cell_type": "code",
   "execution_count": 9,
   "metadata": {},
   "outputs": [
    {
     "data": {
      "text/plain": [
       "(2356, 17)"
      ]
     },
     "execution_count": 9,
     "metadata": {},
     "output_type": "execute_result"
    }
   ],
   "source": [
    "twitter_archive.shape"
   ]
  },
  {
   "cell_type": "code",
   "execution_count": 10,
   "metadata": {},
   "outputs": [
    {
     "data": {
      "text/plain": [
       "tweet_id                         0\n",
       "in_reply_to_status_id         2278\n",
       "in_reply_to_user_id           2278\n",
       "timestamp                        0\n",
       "source                           0\n",
       "text                             0\n",
       "retweeted_status_id           2175\n",
       "retweeted_status_user_id      2175\n",
       "retweeted_status_timestamp    2175\n",
       "expanded_urls                   59\n",
       "rating_numerator                 0\n",
       "rating_denominator               0\n",
       "name                             0\n",
       "doggo                            0\n",
       "floofer                          0\n",
       "pupper                           0\n",
       "puppo                            0\n",
       "dtype: int64"
      ]
     },
     "execution_count": 10,
     "metadata": {},
     "output_type": "execute_result"
    }
   ],
   "source": [
    "twitter_archive.isnull().sum()"
   ]
  },
  {
   "cell_type": "code",
   "execution_count": 11,
   "metadata": {},
   "outputs": [
    {
     "data": {
      "text/plain": [
       "79"
      ]
     },
     "execution_count": 11,
     "metadata": {},
     "output_type": "execute_result"
    }
   ],
   "source": [
    "twitter_archive[twitter_archive['name'].apply(len) <= 2].name.count()"
   ]
  },
  {
   "cell_type": "code",
   "execution_count": 12,
   "metadata": {},
   "outputs": [
    {
     "data": {
      "text/plain": [
       "a     55\n",
       "Bo     9\n",
       "an     7\n",
       "Mo     1\n",
       "my     1\n",
       "Al     1\n",
       "O      1\n",
       "Jo     1\n",
       "Ed     1\n",
       "by     1\n",
       "JD     1\n",
       "Name: name, dtype: int64"
      ]
     },
     "execution_count": 12,
     "metadata": {},
     "output_type": "execute_result"
    }
   ],
   "source": [
    "twitter_archive[twitter_archive['name'].apply(len) <= 2].name.value_counts()"
   ]
  },
  {
   "cell_type": "code",
   "execution_count": 13,
   "metadata": {},
   "outputs": [
    {
     "data": {
      "text/plain": [
       "None     2259\n",
       "doggo      97\n",
       "Name: doggo, dtype: int64"
      ]
     },
     "execution_count": 13,
     "metadata": {},
     "output_type": "execute_result"
    }
   ],
   "source": [
    "twitter_archive['doggo'].value_counts()"
   ]
  },
  {
   "cell_type": "code",
   "execution_count": 14,
   "metadata": {},
   "outputs": [
    {
     "data": {
      "text/plain": [
       "None       2346\n",
       "floofer      10\n",
       "Name: floofer, dtype: int64"
      ]
     },
     "execution_count": 14,
     "metadata": {},
     "output_type": "execute_result"
    }
   ],
   "source": [
    "twitter_archive['floofer'].value_counts()"
   ]
  },
  {
   "cell_type": "code",
   "execution_count": 15,
   "metadata": {},
   "outputs": [
    {
     "data": {
      "text/plain": [
       "None      2099\n",
       "pupper     257\n",
       "Name: pupper, dtype: int64"
      ]
     },
     "execution_count": 15,
     "metadata": {},
     "output_type": "execute_result"
    }
   ],
   "source": [
    "twitter_archive['pupper'].value_counts()"
   ]
  },
  {
   "cell_type": "code",
   "execution_count": 16,
   "metadata": {},
   "outputs": [
    {
     "data": {
      "text/plain": [
       "None     2326\n",
       "puppo      30\n",
       "Name: puppo, dtype: int64"
      ]
     },
     "execution_count": 16,
     "metadata": {},
     "output_type": "execute_result"
    }
   ],
   "source": [
    "twitter_archive['puppo'].value_counts()"
   ]
  },
  {
   "cell_type": "code",
   "execution_count": 17,
   "metadata": {},
   "outputs": [
    {
     "data": {
      "text/plain": [
       "count    2356.000000\n",
       "mean       13.126486\n",
       "std        45.876648\n",
       "min         0.000000\n",
       "25%        10.000000\n",
       "50%        11.000000\n",
       "75%        12.000000\n",
       "max      1776.000000\n",
       "Name: rating_numerator, dtype: float64"
      ]
     },
     "execution_count": 17,
     "metadata": {},
     "output_type": "execute_result"
    }
   ],
   "source": [
    "twitter_archive['rating_numerator'].describe()"
   ]
  },
  {
   "cell_type": "code",
   "execution_count": 18,
   "metadata": {},
   "outputs": [
    {
     "data": {
      "text/plain": [
       "count    2356.000000\n",
       "mean       10.455433\n",
       "std         6.745237\n",
       "min         0.000000\n",
       "25%        10.000000\n",
       "50%        10.000000\n",
       "75%        10.000000\n",
       "max       170.000000\n",
       "Name: rating_denominator, dtype: float64"
      ]
     },
     "execution_count": 18,
     "metadata": {},
     "output_type": "execute_result"
    }
   ],
   "source": [
    "twitter_archive['rating_denominator'].describe()"
   ]
  },
  {
   "cell_type": "code",
   "execution_count": 19,
   "metadata": {},
   "outputs": [
    {
     "data": {
      "text/plain": [
       "23"
      ]
     },
     "execution_count": 19,
     "metadata": {},
     "output_type": "execute_result"
    }
   ],
   "source": [
    "twitter_archive[twitter_archive['rating_denominator']!= 10].rating_denominator.count()"
   ]
  },
  {
   "cell_type": "code",
   "execution_count": 20,
   "metadata": {},
   "outputs": [
    {
     "data": {
      "text/plain": [
       "50     3\n",
       "11     3\n",
       "20     2\n",
       "80     2\n",
       "90     1\n",
       "40     1\n",
       "130    1\n",
       "2      1\n",
       "70     1\n",
       "7      1\n",
       "110    1\n",
       "170    1\n",
       "120    1\n",
       "15     1\n",
       "16     1\n",
       "150    1\n",
       "0      1\n",
       "Name: rating_denominator, dtype: int64"
      ]
     },
     "execution_count": 20,
     "metadata": {},
     "output_type": "execute_result"
    }
   ],
   "source": [
    "twitter_archive[twitter_archive['rating_denominator']!= 10].rating_denominator.value_counts()"
   ]
  },
  {
   "cell_type": "code",
   "execution_count": 21,
   "metadata": {},
   "outputs": [
    {
     "data": {
      "text/plain": [
       "26"
      ]
     },
     "execution_count": 21,
     "metadata": {},
     "output_type": "execute_result"
    }
   ],
   "source": [
    "twitter_archive[twitter_archive['rating_numerator'] > 15].rating_numerator.count()"
   ]
  },
  {
   "cell_type": "code",
   "execution_count": 22,
   "metadata": {},
   "outputs": [
    {
     "data": {
      "text/plain": [
       "420     2\n",
       "75      2\n",
       "60      1\n",
       "27      1\n",
       "99      1\n",
       "165     1\n",
       "80      1\n",
       "144     1\n",
       "44      1\n",
       "204     1\n",
       "45      1\n",
       "88      1\n",
       "143     1\n",
       "1776    1\n",
       "17      1\n",
       "50      1\n",
       "26      1\n",
       "84      1\n",
       "182     1\n",
       "20      1\n",
       "24      1\n",
       "121     1\n",
       "666     1\n",
       "960     1\n",
       "Name: rating_numerator, dtype: int64"
      ]
     },
     "execution_count": 22,
     "metadata": {},
     "output_type": "execute_result"
    }
   ],
   "source": [
    "twitter_archive[twitter_archive['rating_numerator'] > 15].rating_numerator.value_counts()"
   ]
  },
  {
   "cell_type": "code",
   "execution_count": 23,
   "metadata": {},
   "outputs": [
    {
     "data": {
      "text/plain": [
       "56"
      ]
     },
     "execution_count": 23,
     "metadata": {},
     "output_type": "execute_result"
    }
   ],
   "source": [
    "twitter_archive[twitter_archive['rating_numerator'] < 5 ].rating_numerator.count()"
   ]
  },
  {
   "cell_type": "code",
   "execution_count": 24,
   "metadata": {},
   "outputs": [
    {
     "data": {
      "text/plain": [
       "3    19\n",
       "4    17\n",
       "2     9\n",
       "1     9\n",
       "0     2\n",
       "Name: rating_numerator, dtype: int64"
      ]
     },
     "execution_count": 24,
     "metadata": {},
     "output_type": "execute_result"
    }
   ],
   "source": [
    "twitter_archive[twitter_archive['rating_numerator'] < 5].rating_numerator.value_counts()"
   ]
  },
  {
   "cell_type": "markdown",
   "metadata": {},
   "source": [
    "### b) Assessing (img_predict)"
   ]
  },
  {
   "cell_type": "code",
   "execution_count": 25,
   "metadata": {},
   "outputs": [
    {
     "data": {
      "text/html": [
       "<div>\n",
       "<style scoped>\n",
       "    .dataframe tbody tr th:only-of-type {\n",
       "        vertical-align: middle;\n",
       "    }\n",
       "\n",
       "    .dataframe tbody tr th {\n",
       "        vertical-align: top;\n",
       "    }\n",
       "\n",
       "    .dataframe thead th {\n",
       "        text-align: right;\n",
       "    }\n",
       "</style>\n",
       "<table border=\"1\" class=\"dataframe\">\n",
       "  <thead>\n",
       "    <tr style=\"text-align: right;\">\n",
       "      <th></th>\n",
       "      <th>tweet_id</th>\n",
       "      <th>jpg_url</th>\n",
       "      <th>img_num</th>\n",
       "      <th>p1</th>\n",
       "      <th>p1_conf</th>\n",
       "      <th>p1_dog</th>\n",
       "      <th>p2</th>\n",
       "      <th>p2_conf</th>\n",
       "      <th>p2_dog</th>\n",
       "      <th>p3</th>\n",
       "      <th>p3_conf</th>\n",
       "      <th>p3_dog</th>\n",
       "    </tr>\n",
       "  </thead>\n",
       "  <tbody>\n",
       "    <tr>\n",
       "      <th>0</th>\n",
       "      <td>666020888022790149</td>\n",
       "      <td>https://pbs.twimg.com/media/CT4udn0WwAA0aMy.jpg</td>\n",
       "      <td>1</td>\n",
       "      <td>Welsh_springer_spaniel</td>\n",
       "      <td>0.465074</td>\n",
       "      <td>True</td>\n",
       "      <td>collie</td>\n",
       "      <td>0.156665</td>\n",
       "      <td>True</td>\n",
       "      <td>Shetland_sheepdog</td>\n",
       "      <td>0.061428</td>\n",
       "      <td>True</td>\n",
       "    </tr>\n",
       "    <tr>\n",
       "      <th>1</th>\n",
       "      <td>666029285002620928</td>\n",
       "      <td>https://pbs.twimg.com/media/CT42GRgUYAA5iDo.jpg</td>\n",
       "      <td>1</td>\n",
       "      <td>redbone</td>\n",
       "      <td>0.506826</td>\n",
       "      <td>True</td>\n",
       "      <td>miniature_pinscher</td>\n",
       "      <td>0.074192</td>\n",
       "      <td>True</td>\n",
       "      <td>Rhodesian_ridgeback</td>\n",
       "      <td>0.072010</td>\n",
       "      <td>True</td>\n",
       "    </tr>\n",
       "    <tr>\n",
       "      <th>2</th>\n",
       "      <td>666033412701032449</td>\n",
       "      <td>https://pbs.twimg.com/media/CT4521TWwAEvMyu.jpg</td>\n",
       "      <td>1</td>\n",
       "      <td>German_shepherd</td>\n",
       "      <td>0.596461</td>\n",
       "      <td>True</td>\n",
       "      <td>malinois</td>\n",
       "      <td>0.138584</td>\n",
       "      <td>True</td>\n",
       "      <td>bloodhound</td>\n",
       "      <td>0.116197</td>\n",
       "      <td>True</td>\n",
       "    </tr>\n",
       "    <tr>\n",
       "      <th>3</th>\n",
       "      <td>666044226329800704</td>\n",
       "      <td>https://pbs.twimg.com/media/CT5Dr8HUEAA-lEu.jpg</td>\n",
       "      <td>1</td>\n",
       "      <td>Rhodesian_ridgeback</td>\n",
       "      <td>0.408143</td>\n",
       "      <td>True</td>\n",
       "      <td>redbone</td>\n",
       "      <td>0.360687</td>\n",
       "      <td>True</td>\n",
       "      <td>miniature_pinscher</td>\n",
       "      <td>0.222752</td>\n",
       "      <td>True</td>\n",
       "    </tr>\n",
       "    <tr>\n",
       "      <th>4</th>\n",
       "      <td>666049248165822465</td>\n",
       "      <td>https://pbs.twimg.com/media/CT5IQmsXIAAKY4A.jpg</td>\n",
       "      <td>1</td>\n",
       "      <td>miniature_pinscher</td>\n",
       "      <td>0.560311</td>\n",
       "      <td>True</td>\n",
       "      <td>Rottweiler</td>\n",
       "      <td>0.243682</td>\n",
       "      <td>True</td>\n",
       "      <td>Doberman</td>\n",
       "      <td>0.154629</td>\n",
       "      <td>True</td>\n",
       "    </tr>\n",
       "    <tr>\n",
       "      <th>...</th>\n",
       "      <td>...</td>\n",
       "      <td>...</td>\n",
       "      <td>...</td>\n",
       "      <td>...</td>\n",
       "      <td>...</td>\n",
       "      <td>...</td>\n",
       "      <td>...</td>\n",
       "      <td>...</td>\n",
       "      <td>...</td>\n",
       "      <td>...</td>\n",
       "      <td>...</td>\n",
       "      <td>...</td>\n",
       "    </tr>\n",
       "    <tr>\n",
       "      <th>2070</th>\n",
       "      <td>891327558926688256</td>\n",
       "      <td>https://pbs.twimg.com/media/DF6hr6BUMAAzZgT.jpg</td>\n",
       "      <td>2</td>\n",
       "      <td>basset</td>\n",
       "      <td>0.555712</td>\n",
       "      <td>True</td>\n",
       "      <td>English_springer</td>\n",
       "      <td>0.225770</td>\n",
       "      <td>True</td>\n",
       "      <td>German_short-haired_pointer</td>\n",
       "      <td>0.175219</td>\n",
       "      <td>True</td>\n",
       "    </tr>\n",
       "    <tr>\n",
       "      <th>2071</th>\n",
       "      <td>891689557279858688</td>\n",
       "      <td>https://pbs.twimg.com/media/DF_q7IAWsAEuuN8.jpg</td>\n",
       "      <td>1</td>\n",
       "      <td>paper_towel</td>\n",
       "      <td>0.170278</td>\n",
       "      <td>False</td>\n",
       "      <td>Labrador_retriever</td>\n",
       "      <td>0.168086</td>\n",
       "      <td>True</td>\n",
       "      <td>spatula</td>\n",
       "      <td>0.040836</td>\n",
       "      <td>False</td>\n",
       "    </tr>\n",
       "    <tr>\n",
       "      <th>2072</th>\n",
       "      <td>891815181378084864</td>\n",
       "      <td>https://pbs.twimg.com/media/DGBdLU1WsAANxJ9.jpg</td>\n",
       "      <td>1</td>\n",
       "      <td>Chihuahua</td>\n",
       "      <td>0.716012</td>\n",
       "      <td>True</td>\n",
       "      <td>malamute</td>\n",
       "      <td>0.078253</td>\n",
       "      <td>True</td>\n",
       "      <td>kelpie</td>\n",
       "      <td>0.031379</td>\n",
       "      <td>True</td>\n",
       "    </tr>\n",
       "    <tr>\n",
       "      <th>2073</th>\n",
       "      <td>892177421306343426</td>\n",
       "      <td>https://pbs.twimg.com/media/DGGmoV4XsAAUL6n.jpg</td>\n",
       "      <td>1</td>\n",
       "      <td>Chihuahua</td>\n",
       "      <td>0.323581</td>\n",
       "      <td>True</td>\n",
       "      <td>Pekinese</td>\n",
       "      <td>0.090647</td>\n",
       "      <td>True</td>\n",
       "      <td>papillon</td>\n",
       "      <td>0.068957</td>\n",
       "      <td>True</td>\n",
       "    </tr>\n",
       "    <tr>\n",
       "      <th>2074</th>\n",
       "      <td>892420643555336193</td>\n",
       "      <td>https://pbs.twimg.com/media/DGKD1-bXoAAIAUK.jpg</td>\n",
       "      <td>1</td>\n",
       "      <td>orange</td>\n",
       "      <td>0.097049</td>\n",
       "      <td>False</td>\n",
       "      <td>bagel</td>\n",
       "      <td>0.085851</td>\n",
       "      <td>False</td>\n",
       "      <td>banana</td>\n",
       "      <td>0.076110</td>\n",
       "      <td>False</td>\n",
       "    </tr>\n",
       "  </tbody>\n",
       "</table>\n",
       "<p>2075 rows × 12 columns</p>\n",
       "</div>"
      ],
      "text/plain": [
       "                tweet_id                                          jpg_url  \\\n",
       "0     666020888022790149  https://pbs.twimg.com/media/CT4udn0WwAA0aMy.jpg   \n",
       "1     666029285002620928  https://pbs.twimg.com/media/CT42GRgUYAA5iDo.jpg   \n",
       "2     666033412701032449  https://pbs.twimg.com/media/CT4521TWwAEvMyu.jpg   \n",
       "3     666044226329800704  https://pbs.twimg.com/media/CT5Dr8HUEAA-lEu.jpg   \n",
       "4     666049248165822465  https://pbs.twimg.com/media/CT5IQmsXIAAKY4A.jpg   \n",
       "...                  ...                                              ...   \n",
       "2070  891327558926688256  https://pbs.twimg.com/media/DF6hr6BUMAAzZgT.jpg   \n",
       "2071  891689557279858688  https://pbs.twimg.com/media/DF_q7IAWsAEuuN8.jpg   \n",
       "2072  891815181378084864  https://pbs.twimg.com/media/DGBdLU1WsAANxJ9.jpg   \n",
       "2073  892177421306343426  https://pbs.twimg.com/media/DGGmoV4XsAAUL6n.jpg   \n",
       "2074  892420643555336193  https://pbs.twimg.com/media/DGKD1-bXoAAIAUK.jpg   \n",
       "\n",
       "      img_num                      p1   p1_conf  p1_dog                  p2  \\\n",
       "0           1  Welsh_springer_spaniel  0.465074    True              collie   \n",
       "1           1                 redbone  0.506826    True  miniature_pinscher   \n",
       "2           1         German_shepherd  0.596461    True            malinois   \n",
       "3           1     Rhodesian_ridgeback  0.408143    True             redbone   \n",
       "4           1      miniature_pinscher  0.560311    True          Rottweiler   \n",
       "...       ...                     ...       ...     ...                 ...   \n",
       "2070        2                  basset  0.555712    True    English_springer   \n",
       "2071        1             paper_towel  0.170278   False  Labrador_retriever   \n",
       "2072        1               Chihuahua  0.716012    True            malamute   \n",
       "2073        1               Chihuahua  0.323581    True            Pekinese   \n",
       "2074        1                  orange  0.097049   False               bagel   \n",
       "\n",
       "       p2_conf  p2_dog                           p3   p3_conf  p3_dog  \n",
       "0     0.156665    True            Shetland_sheepdog  0.061428    True  \n",
       "1     0.074192    True          Rhodesian_ridgeback  0.072010    True  \n",
       "2     0.138584    True                   bloodhound  0.116197    True  \n",
       "3     0.360687    True           miniature_pinscher  0.222752    True  \n",
       "4     0.243682    True                     Doberman  0.154629    True  \n",
       "...        ...     ...                          ...       ...     ...  \n",
       "2070  0.225770    True  German_short-haired_pointer  0.175219    True  \n",
       "2071  0.168086    True                      spatula  0.040836   False  \n",
       "2072  0.078253    True                       kelpie  0.031379    True  \n",
       "2073  0.090647    True                     papillon  0.068957    True  \n",
       "2074  0.085851   False                       banana  0.076110   False  \n",
       "\n",
       "[2075 rows x 12 columns]"
      ]
     },
     "execution_count": 25,
     "metadata": {},
     "output_type": "execute_result"
    }
   ],
   "source": [
    "#Visual_Assess\n",
    "img_predict\n",
    "    ##inspect it using Excel"
   ]
  },
  {
   "cell_type": "code",
   "execution_count": 26,
   "metadata": {},
   "outputs": [
    {
     "data": {
      "text/plain": [
       "(2075, 12)"
      ]
     },
     "execution_count": 26,
     "metadata": {},
     "output_type": "execute_result"
    }
   ],
   "source": [
    "img_predict.shape"
   ]
  },
  {
   "cell_type": "code",
   "execution_count": 27,
   "metadata": {},
   "outputs": [
    {
     "data": {
      "text/plain": [
       "['tweet_id',\n",
       " 'jpg_url',\n",
       " 'img_num',\n",
       " 'p1',\n",
       " 'p1_conf',\n",
       " 'p1_dog',\n",
       " 'p2',\n",
       " 'p2_conf',\n",
       " 'p2_dog',\n",
       " 'p3',\n",
       " 'p3_conf',\n",
       " 'p3_dog']"
      ]
     },
     "execution_count": 27,
     "metadata": {},
     "output_type": "execute_result"
    }
   ],
   "source": [
    "list(img_predict)"
   ]
  },
  {
   "cell_type": "code",
   "execution_count": 28,
   "metadata": {},
   "outputs": [
    {
     "name": "stdout",
     "output_type": "stream",
     "text": [
      "<class 'pandas.core.frame.DataFrame'>\n",
      "RangeIndex: 2075 entries, 0 to 2074\n",
      "Data columns (total 12 columns):\n",
      " #   Column    Non-Null Count  Dtype  \n",
      "---  ------    --------------  -----  \n",
      " 0   tweet_id  2075 non-null   int64  \n",
      " 1   jpg_url   2075 non-null   object \n",
      " 2   img_num   2075 non-null   int64  \n",
      " 3   p1        2075 non-null   object \n",
      " 4   p1_conf   2075 non-null   float64\n",
      " 5   p1_dog    2075 non-null   bool   \n",
      " 6   p2        2075 non-null   object \n",
      " 7   p2_conf   2075 non-null   float64\n",
      " 8   p2_dog    2075 non-null   bool   \n",
      " 9   p3        2075 non-null   object \n",
      " 10  p3_conf   2075 non-null   float64\n",
      " 11  p3_dog    2075 non-null   bool   \n",
      "dtypes: bool(3), float64(3), int64(2), object(4)\n",
      "memory usage: 119.6+ KB\n"
     ]
    }
   ],
   "source": [
    "img_predict.info()"
   ]
  },
  {
   "cell_type": "code",
   "execution_count": 29,
   "metadata": {},
   "outputs": [
    {
     "data": {
      "text/plain": [
       "tweet_id    0\n",
       "jpg_url     0\n",
       "img_num     0\n",
       "p1          0\n",
       "p1_conf     0\n",
       "p1_dog      0\n",
       "p2          0\n",
       "p2_conf     0\n",
       "p2_dog      0\n",
       "p3          0\n",
       "p3_conf     0\n",
       "p3_dog      0\n",
       "dtype: int64"
      ]
     },
     "execution_count": 29,
     "metadata": {},
     "output_type": "execute_result"
    }
   ],
   "source": [
    "img_predict.isnull().sum()"
   ]
  },
  {
   "cell_type": "code",
   "execution_count": 30,
   "metadata": {},
   "outputs": [
    {
     "data": {
      "text/plain": [
       "True     1532\n",
       "False     543\n",
       "Name: p1_dog, dtype: int64"
      ]
     },
     "execution_count": 30,
     "metadata": {},
     "output_type": "execute_result"
    }
   ],
   "source": [
    "img_predict['p1_dog'].value_counts()"
   ]
  },
  {
   "cell_type": "code",
   "execution_count": 31,
   "metadata": {},
   "outputs": [
    {
     "data": {
      "text/plain": [
       "True     1553\n",
       "False     522\n",
       "Name: p2_dog, dtype: int64"
      ]
     },
     "execution_count": 31,
     "metadata": {},
     "output_type": "execute_result"
    }
   ],
   "source": [
    "img_predict['p2_dog'].value_counts()"
   ]
  },
  {
   "cell_type": "code",
   "execution_count": 32,
   "metadata": {},
   "outputs": [
    {
     "data": {
      "text/plain": [
       "True     1499\n",
       "False     576\n",
       "Name: p3_dog, dtype: int64"
      ]
     },
     "execution_count": 32,
     "metadata": {},
     "output_type": "execute_result"
    }
   ],
   "source": [
    "img_predict['p3_dog'].value_counts()"
   ]
  },
  {
   "cell_type": "code",
   "execution_count": 33,
   "metadata": {},
   "outputs": [
    {
     "data": {
      "text/plain": [
       "0"
      ]
     },
     "execution_count": 33,
     "metadata": {},
     "output_type": "execute_result"
    }
   ],
   "source": [
    "img_predict[img_predict['p1_conf']>1].p1_conf.value_counts().sum()"
   ]
  },
  {
   "cell_type": "code",
   "execution_count": 34,
   "metadata": {},
   "outputs": [
    {
     "data": {
      "text/plain": [
       "0"
      ]
     },
     "execution_count": 34,
     "metadata": {},
     "output_type": "execute_result"
    }
   ],
   "source": [
    "img_predict[img_predict['p2_conf']>1].p2_conf.value_counts().sum()"
   ]
  },
  {
   "cell_type": "code",
   "execution_count": 35,
   "metadata": {},
   "outputs": [
    {
     "data": {
      "text/plain": [
       "0"
      ]
     },
     "execution_count": 35,
     "metadata": {},
     "output_type": "execute_result"
    }
   ],
   "source": [
    "img_predict[img_predict['p3_conf']>1].p3_conf.value_counts().sum()"
   ]
  },
  {
   "cell_type": "markdown",
   "metadata": {},
   "source": [
    "### c) Assessing (twitter_api_archive)"
   ]
  },
  {
   "cell_type": "code",
   "execution_count": 36,
   "metadata": {},
   "outputs": [
    {
     "data": {
      "text/html": [
       "<div>\n",
       "<style scoped>\n",
       "    .dataframe tbody tr th:only-of-type {\n",
       "        vertical-align: middle;\n",
       "    }\n",
       "\n",
       "    .dataframe tbody tr th {\n",
       "        vertical-align: top;\n",
       "    }\n",
       "\n",
       "    .dataframe thead th {\n",
       "        text-align: right;\n",
       "    }\n",
       "</style>\n",
       "<table border=\"1\" class=\"dataframe\">\n",
       "  <thead>\n",
       "    <tr style=\"text-align: right;\">\n",
       "      <th></th>\n",
       "      <th>tweet_id</th>\n",
       "      <th>retweet_count</th>\n",
       "      <th>favorit_count</th>\n",
       "    </tr>\n",
       "  </thead>\n",
       "  <tbody>\n",
       "    <tr>\n",
       "      <th>0</th>\n",
       "      <td>892420643555336193</td>\n",
       "      <td>7456</td>\n",
       "      <td>35325</td>\n",
       "    </tr>\n",
       "    <tr>\n",
       "      <th>1</th>\n",
       "      <td>892177421306343426</td>\n",
       "      <td>5535</td>\n",
       "      <td>30577</td>\n",
       "    </tr>\n",
       "    <tr>\n",
       "      <th>2</th>\n",
       "      <td>891815181378084864</td>\n",
       "      <td>3661</td>\n",
       "      <td>23006</td>\n",
       "    </tr>\n",
       "    <tr>\n",
       "      <th>3</th>\n",
       "      <td>891689557279858688</td>\n",
       "      <td>7626</td>\n",
       "      <td>38619</td>\n",
       "    </tr>\n",
       "    <tr>\n",
       "      <th>4</th>\n",
       "      <td>891327558926688256</td>\n",
       "      <td>8226</td>\n",
       "      <td>36889</td>\n",
       "    </tr>\n",
       "    <tr>\n",
       "      <th>...</th>\n",
       "      <td>...</td>\n",
       "      <td>...</td>\n",
       "      <td>...</td>\n",
       "    </tr>\n",
       "    <tr>\n",
       "      <th>2326</th>\n",
       "      <td>666049248165822465</td>\n",
       "      <td>39</td>\n",
       "      <td>95</td>\n",
       "    </tr>\n",
       "    <tr>\n",
       "      <th>2327</th>\n",
       "      <td>666044226329800704</td>\n",
       "      <td>124</td>\n",
       "      <td>263</td>\n",
       "    </tr>\n",
       "    <tr>\n",
       "      <th>2328</th>\n",
       "      <td>666033412701032449</td>\n",
       "      <td>39</td>\n",
       "      <td>108</td>\n",
       "    </tr>\n",
       "    <tr>\n",
       "      <th>2329</th>\n",
       "      <td>666029285002620928</td>\n",
       "      <td>41</td>\n",
       "      <td>118</td>\n",
       "    </tr>\n",
       "    <tr>\n",
       "      <th>2330</th>\n",
       "      <td>666020888022790149</td>\n",
       "      <td>447</td>\n",
       "      <td>2357</td>\n",
       "    </tr>\n",
       "  </tbody>\n",
       "</table>\n",
       "<p>2331 rows × 3 columns</p>\n",
       "</div>"
      ],
      "text/plain": [
       "                tweet_id  retweet_count  favorit_count\n",
       "0     892420643555336193           7456          35325\n",
       "1     892177421306343426           5535          30577\n",
       "2     891815181378084864           3661          23006\n",
       "3     891689557279858688           7626          38619\n",
       "4     891327558926688256           8226          36889\n",
       "...                  ...            ...            ...\n",
       "2326  666049248165822465             39             95\n",
       "2327  666044226329800704            124            263\n",
       "2328  666033412701032449             39            108\n",
       "2329  666029285002620928             41            118\n",
       "2330  666020888022790149            447           2357\n",
       "\n",
       "[2331 rows x 3 columns]"
      ]
     },
     "execution_count": 36,
     "metadata": {},
     "output_type": "execute_result"
    }
   ],
   "source": [
    "#Visual_Assess\n",
    "twitter_api_archive"
   ]
  },
  {
   "cell_type": "code",
   "execution_count": 37,
   "metadata": {},
   "outputs": [
    {
     "data": {
      "text/plain": [
       "['tweet_id', 'retweet_count', 'favorit_count']"
      ]
     },
     "execution_count": 37,
     "metadata": {},
     "output_type": "execute_result"
    }
   ],
   "source": [
    "# programatic_Assess\n",
    "list(twitter_api_archive)"
   ]
  },
  {
   "cell_type": "code",
   "execution_count": 38,
   "metadata": {},
   "outputs": [
    {
     "name": "stdout",
     "output_type": "stream",
     "text": [
      "<class 'pandas.core.frame.DataFrame'>\n",
      "RangeIndex: 2331 entries, 0 to 2330\n",
      "Data columns (total 3 columns):\n",
      " #   Column         Non-Null Count  Dtype\n",
      "---  ------         --------------  -----\n",
      " 0   tweet_id       2331 non-null   int64\n",
      " 1   retweet_count  2331 non-null   int64\n",
      " 2   favorit_count  2331 non-null   int64\n",
      "dtypes: int64(3)\n",
      "memory usage: 54.7 KB\n"
     ]
    }
   ],
   "source": [
    "twitter_api_archive.info()"
   ]
  },
  {
   "cell_type": "code",
   "execution_count": 39,
   "metadata": {},
   "outputs": [
    {
     "data": {
      "text/plain": [
       "(2331, 3)"
      ]
     },
     "execution_count": 39,
     "metadata": {},
     "output_type": "execute_result"
    }
   ],
   "source": [
    "twitter_api_archive.shape"
   ]
  },
  {
   "cell_type": "code",
   "execution_count": 40,
   "metadata": {},
   "outputs": [
    {
     "data": {
      "text/plain": [
       "tweet_id         0\n",
       "retweet_count    0\n",
       "favorit_count    0\n",
       "dtype: int64"
      ]
     },
     "execution_count": 40,
     "metadata": {},
     "output_type": "execute_result"
    }
   ],
   "source": [
    "twitter_api_archive.isnull().sum()"
   ]
  },
  {
   "cell_type": "code",
   "execution_count": 41,
   "metadata": {},
   "outputs": [
    {
     "data": {
      "text/plain": [
       "count     2331.000000\n",
       "mean      2619.099957\n",
       "std       4431.518992\n",
       "min          1.000000\n",
       "25%        530.500000\n",
       "50%       1222.000000\n",
       "75%       3042.000000\n",
       "max      75257.000000\n",
       "Name: retweet_count, dtype: float64"
      ]
     },
     "execution_count": 41,
     "metadata": {},
     "output_type": "execute_result"
    }
   ],
   "source": [
    "twitter_api_archive.retweet_count.describe()"
   ]
  },
  {
   "cell_type": "code",
   "execution_count": 42,
   "metadata": {},
   "outputs": [
    {
     "data": {
      "text/plain": [
       "count      2331.000000\n",
       "mean       7381.400257\n",
       "std       11464.453977\n",
       "min           0.000000\n",
       "25%        1282.500000\n",
       "50%        3201.000000\n",
       "75%        9030.500000\n",
       "max      152201.000000\n",
       "Name: favorit_count, dtype: float64"
      ]
     },
     "execution_count": 42,
     "metadata": {},
     "output_type": "execute_result"
    }
   ],
   "source": [
    "twitter_api_archive.favorit_count.describe()"
   ]
  },
  {
   "cell_type": "markdown",
   "metadata": {},
   "source": [
    "#### Assessing Results"
   ]
  },
  {
   "cell_type": "markdown",
   "metadata": {},
   "source": [
    "- (1) twitter_archive assissment:\n",
    "\n",
    "    a) Quality Assessment\n",
    "    \n",
    "        1) Some columns have inappropriate names(time_stamp, source,text, name).\n",
    "        2) Column \"timestamp\" type is object need to be changed to timedate format.\n",
    "        3) Name column contains some inappropriate values (names < 2 letters).\n",
    "        4) In \"rating_denominator\" there are values != 10.\n",
    "        5) In \"rating_numerator\" there are values > 15.\n",
    "                \n",
    "    b) Tidiness Assessment\n",
    "        1) It contains retweet and tweet's replies columns that needed to be removed.\n",
    "        2) There are four columns for the dog stage."
   ]
  },
  {
   "cell_type": "markdown",
   "metadata": {},
   "source": [
    "- (2) img_predict assissment:\n",
    "\n",
    "    a) Quality Assessment\n",
    "        1) Some columns have inappropriate names(p1_conf, p1_dog, p1, ..etc).\n",
    "        2) Remove false values in \"p1_dog\".\n",
    "            \n",
    "    b) Tidiness Assessment\n",
    "        1) This data frame is better to be combined with \"twitter_archive\" dataframe  that would be more reasonable and both contain data for the same object.\n",
    "        2) There are three columns for prediction algorithms and same for results and is it a dog."
   ]
  },
  {
   "cell_type": "markdown",
   "metadata": {},
   "source": [
    "- (3) twitter_api_archive:\n",
    "\n",
    "    b) Tidiness Assessment\n",
    "        1)This data frame is better to be combined with \"twitter_archive\" dataframe  that would be more reasonable and both contain data for the same object."
   ]
  },
  {
   "cell_type": "markdown",
   "metadata": {},
   "source": [
    "# Step 3: Clean Data"
   ]
  },
  {
   "cell_type": "code",
   "execution_count": 43,
   "metadata": {},
   "outputs": [],
   "source": [
    "# creat a copy of all the 3 dataframes to modify and clean\n",
    "twitter_archive_new = twitter_archive.copy()\n",
    "img_predict_new = img_predict.copy()\n",
    "twitter_api_new = twitter_api_archive.copy()"
   ]
  },
  {
   "cell_type": "markdown",
   "metadata": {},
   "source": [
    "##### twitter_archive_new"
   ]
  },
  {
   "cell_type": "code",
   "execution_count": 44,
   "metadata": {},
   "outputs": [
    {
     "name": "stdout",
     "output_type": "stream",
     "text": [
      "<class 'pandas.core.frame.DataFrame'>\n",
      "RangeIndex: 2356 entries, 0 to 2355\n",
      "Data columns (total 17 columns):\n",
      " #   Column                      Non-Null Count  Dtype              \n",
      "---  ------                      --------------  -----              \n",
      " 0   tweet_id                    2356 non-null   int64              \n",
      " 1   in_reply_to_status_id       78 non-null     float64            \n",
      " 2   in_reply_to_user_id         78 non-null     float64            \n",
      " 3   timestamp                   2356 non-null   datetime64[ns, UTC]\n",
      " 4   source                      2356 non-null   object             \n",
      " 5   text                        2356 non-null   object             \n",
      " 6   retweeted_status_id         181 non-null    float64            \n",
      " 7   retweeted_status_user_id    181 non-null    float64            \n",
      " 8   retweeted_status_timestamp  181 non-null    object             \n",
      " 9   expanded_urls               2297 non-null   object             \n",
      " 10  rating_numerator            2356 non-null   int64              \n",
      " 11  rating_denominator          2356 non-null   int64              \n",
      " 12  name                        2356 non-null   object             \n",
      " 13  doggo                       2356 non-null   object             \n",
      " 14  floofer                     2356 non-null   object             \n",
      " 15  pupper                      2356 non-null   object             \n",
      " 16  puppo                       2356 non-null   object             \n",
      "dtypes: datetime64[ns, UTC](1), float64(4), int64(3), object(9)\n",
      "memory usage: 230.1+ KB\n"
     ]
    }
   ],
   "source": [
    "# change time_stamp column type from object to datetime formate\n",
    "twitter_archive_new['timestamp'] = pd.to_datetime(twitter_archive_new['timestamp'])\n",
    "# test\n",
    "twitter_archive_new.info()"
   ]
  },
  {
   "cell_type": "code",
   "execution_count": 45,
   "metadata": {
    "scrolled": true
   },
   "outputs": [
    {
     "name": "stdout",
     "output_type": "stream",
     "text": [
      "<class 'pandas.core.frame.DataFrame'>\n",
      "RangeIndex: 2356 entries, 0 to 2355\n",
      "Data columns (total 17 columns):\n",
      " #   Column                      Non-Null Count  Dtype              \n",
      "---  ------                      --------------  -----              \n",
      " 0   tweet_id                    2356 non-null   int64              \n",
      " 1   in_reply_to_status_id       78 non-null     float64            \n",
      " 2   in_reply_to_user_id         78 non-null     float64            \n",
      " 3   timestamp                   2356 non-null   datetime64[ns, UTC]\n",
      " 4   source                      2356 non-null   object             \n",
      " 5   text                        2356 non-null   object             \n",
      " 6   retweeted_status_id         181 non-null    float64            \n",
      " 7   retweeted_status_user_id    181 non-null    float64            \n",
      " 8   retweeted_status_timestamp  181 non-null    object             \n",
      " 9   expanded_urls               2297 non-null   object             \n",
      " 10  rating_numerator            2356 non-null   int64              \n",
      " 11  rating_denominator          2356 non-null   int64              \n",
      " 12  name                        2356 non-null   object             \n",
      " 13  doggo                       2356 non-null   object             \n",
      " 14  floofer                     2356 non-null   object             \n",
      " 15  pupper                      2356 non-null   object             \n",
      " 16  puppo                       2356 non-null   object             \n",
      "dtypes: datetime64[ns, UTC](1), float64(4), int64(3), object(9)\n",
      "memory usage: 230.1+ KB\n"
     ]
    }
   ],
   "source": [
    "# test\n",
    "twitter_archive_new.info()"
   ]
  },
  {
   "cell_type": "code",
   "execution_count": 46,
   "metadata": {},
   "outputs": [
    {
     "data": {
      "text/plain": [
       "         2259\n",
       "doggo      97\n",
       "Name: doggo, dtype: int64"
      ]
     },
     "execution_count": 46,
     "metadata": {},
     "output_type": "execute_result"
    }
   ],
   "source": [
    "# convert None values in \"doggo\" column with empty string \"\"\n",
    "twitter_archive_new.doggo.replace(to_replace=['None'], value=\"\", inplace=True)\n",
    "# test 1\n",
    "twitter_archive_new.doggo.value_counts()"
   ]
  },
  {
   "cell_type": "code",
   "execution_count": 47,
   "metadata": {},
   "outputs": [
    {
     "data": {
      "text/plain": [
       "           2346\n",
       "floofer      10\n",
       "Name: floofer, dtype: int64"
      ]
     },
     "execution_count": 47,
     "metadata": {},
     "output_type": "execute_result"
    }
   ],
   "source": [
    "# convert None values in \"floofer\" column with empty string \"\"\n",
    "twitter_archive_new.floofer.replace(to_replace=['None'], value=\"\", inplace=True)\n",
    "# test 1\n",
    "twitter_archive_new.floofer.value_counts()"
   ]
  },
  {
   "cell_type": "code",
   "execution_count": 48,
   "metadata": {},
   "outputs": [
    {
     "data": {
      "text/plain": [
       "          2099\n",
       "pupper     257\n",
       "Name: pupper, dtype: int64"
      ]
     },
     "execution_count": 48,
     "metadata": {},
     "output_type": "execute_result"
    }
   ],
   "source": [
    "# convert None values in \"pupper\" column with empty string \"\"\n",
    "twitter_archive_new.pupper.replace(to_replace=['None'], value=\"\", inplace=True)\n",
    "# test 1\n",
    "twitter_archive_new.pupper.value_counts()"
   ]
  },
  {
   "cell_type": "code",
   "execution_count": 49,
   "metadata": {},
   "outputs": [
    {
     "data": {
      "text/plain": [
       "         2326\n",
       "puppo      30\n",
       "Name: puppo, dtype: int64"
      ]
     },
     "execution_count": 49,
     "metadata": {},
     "output_type": "execute_result"
    }
   ],
   "source": [
    "# convert None values in \"puppo\" column with empty string \"\"\n",
    "twitter_archive_new.puppo.replace(to_replace=['None'], value=\"\", inplace=True)\n",
    "# test 1\n",
    "twitter_archive_new.puppo.value_counts()"
   ]
  },
  {
   "cell_type": "code",
   "execution_count": 50,
   "metadata": {},
   "outputs": [],
   "source": [
    "# combine the four columns (\"doggo\", \"floofer\", \"pupper\", \"puppo\") in (\"dog_stage\")\n",
    "twitter_archive_new[\"dog_stage\"] = twitter_archive_new[\"doggo\"] + twitter_archive_new[\"floofer\"] + twitter_archive_new[\"pupper\"] + twitter_archive_new[\"puppo\"]"
   ]
  },
  {
   "cell_type": "code",
   "execution_count": 51,
   "metadata": {},
   "outputs": [
    {
     "data": {
      "text/plain": [
       "                1976\n",
       "pupper           245\n",
       "doggo             83\n",
       "puppo             29\n",
       "doggopupper       12\n",
       "floofer            9\n",
       "doggopuppo         1\n",
       "doggofloofer       1\n",
       "Name: dog_stage, dtype: int64"
      ]
     },
     "execution_count": 51,
     "metadata": {},
     "output_type": "execute_result"
    }
   ],
   "source": [
    "#test\n",
    "twitter_archive_new[\"dog_stage\"].value_counts()"
   ]
  },
  {
   "cell_type": "code",
   "execution_count": 52,
   "metadata": {},
   "outputs": [],
   "source": [
    "# fixing combined values rows in \"dog_stage\" column\n",
    "for index, row in twitter_archive_new.iterrows():\n",
    "    twitter_archive_new.loc[twitter_archive_new[\"dog_stage\"] == \"doggopupper\", \"dog_stage\"] = \"doggo-Pupper\"\n",
    "    twitter_archive_new.loc[twitter_archive_new[\"dog_stage\"] == \"doggofloofer\", \"dog_stage\"] = \"doggo-Floofer\"\n",
    "    twitter_archive_new.loc[twitter_archive_new[\"dog_stage\"] == \"doggopuppo\", \"dog_stage\"] = \"doggo-Puppo\""
   ]
  },
  {
   "cell_type": "code",
   "execution_count": 53,
   "metadata": {},
   "outputs": [
    {
     "data": {
      "text/plain": [
       "                 1976\n",
       "pupper            245\n",
       "doggo              83\n",
       "puppo              29\n",
       "doggo-Pupper       12\n",
       "floofer             9\n",
       "doggo-Floofer       1\n",
       "doggo-Puppo         1\n",
       "Name: dog_stage, dtype: int64"
      ]
     },
     "execution_count": 53,
     "metadata": {},
     "output_type": "execute_result"
    }
   ],
   "source": [
    "#test\n",
    "twitter_archive_new[\"dog_stage\"].value_counts()"
   ]
  },
  {
   "cell_type": "code",
   "execution_count": 54,
   "metadata": {},
   "outputs": [],
   "source": [
    "# Make column \"dog_stage\" variables start with capital letters\n",
    "twitter_archive_new['dog_stage'] = twitter_archive_new['dog_stage'].str.capitalize()"
   ]
  },
  {
   "cell_type": "code",
   "execution_count": 55,
   "metadata": {},
   "outputs": [
    {
     "data": {
      "text/plain": [
       "                 1976\n",
       "Pupper            245\n",
       "Doggo              83\n",
       "Puppo              29\n",
       "Doggo-pupper       12\n",
       "Floofer             9\n",
       "Doggo-puppo         1\n",
       "Doggo-floofer       1\n",
       "Name: dog_stage, dtype: int64"
      ]
     },
     "execution_count": 55,
     "metadata": {},
     "output_type": "execute_result"
    }
   ],
   "source": [
    "#test\n",
    "twitter_archive_new[\"dog_stage\"].value_counts()"
   ]
  },
  {
   "cell_type": "code",
   "execution_count": 56,
   "metadata": {},
   "outputs": [],
   "source": [
    "# converting empty string \"\" in \"dog_stage\" column to Nan\n",
    "twitter_archive_new.dog_stage.replace(to_replace=[\"\"], value=np.nan, inplace=True)"
   ]
  },
  {
   "cell_type": "code",
   "execution_count": 57,
   "metadata": {},
   "outputs": [
    {
     "data": {
      "text/plain": [
       "1976"
      ]
     },
     "execution_count": 57,
     "metadata": {},
     "output_type": "execute_result"
    }
   ],
   "source": [
    "# test\n",
    "twitter_archive_new[\"dog_stage\"].isnull().sum()"
   ]
  },
  {
   "cell_type": "code",
   "execution_count": 58,
   "metadata": {},
   "outputs": [],
   "source": [
    "#Drop the four columns (\"doggo\", \"floofer\", \"pupper\", \"puppo\")\n",
    "col_drop_stage = [\"doggo\", \"floofer\", \"pupper\", \"puppo\"]\n",
    "twitter_archive_new.drop(col_drop_stage, inplace=True, axis=1)"
   ]
  },
  {
   "cell_type": "code",
   "execution_count": 59,
   "metadata": {},
   "outputs": [
    {
     "data": {
      "text/plain": [
       "['tweet_id',\n",
       " 'in_reply_to_status_id',\n",
       " 'in_reply_to_user_id',\n",
       " 'timestamp',\n",
       " 'source',\n",
       " 'text',\n",
       " 'retweeted_status_id',\n",
       " 'retweeted_status_user_id',\n",
       " 'retweeted_status_timestamp',\n",
       " 'expanded_urls',\n",
       " 'rating_numerator',\n",
       " 'rating_denominator',\n",
       " 'name',\n",
       " 'dog_stage']"
      ]
     },
     "execution_count": 59,
     "metadata": {},
     "output_type": "execute_result"
    }
   ],
   "source": [
    "# test\n",
    "list(twitter_archive_new)"
   ]
  },
  {
   "cell_type": "code",
   "execution_count": 60,
   "metadata": {},
   "outputs": [],
   "source": [
    "# give column appropriate names\n",
    "twitter_archive_new.rename(columns = {'timestamp':'tweet_timestamp', 'source':'tweet_source', 'text':'tweet_text', 'name':'dog_name'} , inplace=True)"
   ]
  },
  {
   "cell_type": "code",
   "execution_count": 61,
   "metadata": {},
   "outputs": [
    {
     "data": {
      "text/plain": [
       "['tweet_id',\n",
       " 'in_reply_to_status_id',\n",
       " 'in_reply_to_user_id',\n",
       " 'tweet_timestamp',\n",
       " 'tweet_source',\n",
       " 'tweet_text',\n",
       " 'retweeted_status_id',\n",
       " 'retweeted_status_user_id',\n",
       " 'retweeted_status_timestamp',\n",
       " 'expanded_urls',\n",
       " 'rating_numerator',\n",
       " 'rating_denominator',\n",
       " 'dog_name',\n",
       " 'dog_stage']"
      ]
     },
     "execution_count": 61,
     "metadata": {},
     "output_type": "execute_result"
    }
   ],
   "source": [
    "# test\n",
    "list(twitter_archive_new)"
   ]
  },
  {
   "cell_type": "markdown",
   "metadata": {},
   "source": [
    "##### img_predict_new"
   ]
  },
  {
   "cell_type": "code",
   "execution_count": 62,
   "metadata": {},
   "outputs": [],
   "source": [
    "# As the prediction \"p1\" is the most likely one. will drop the other 2 predictions column and depend only on \"p1\" results\n",
    "col_drop_pred = [\"p2\", \"p3\", \"p2_conf\", \"p2_dog\", \"p3_conf\", \"p3_dog\"]\n",
    "img_predict_new.drop(col_drop_pred, inplace=True, axis=1)"
   ]
  },
  {
   "cell_type": "code",
   "execution_count": 63,
   "metadata": {},
   "outputs": [
    {
     "data": {
      "text/plain": [
       "['tweet_id', 'jpg_url', 'img_num', 'p1', 'p1_conf', 'p1_dog']"
      ]
     },
     "execution_count": 63,
     "metadata": {},
     "output_type": "execute_result"
    }
   ],
   "source": [
    "# test\n",
    "list(img_predict_new)"
   ]
  },
  {
   "cell_type": "code",
   "execution_count": 64,
   "metadata": {
    "scrolled": true
   },
   "outputs": [
    {
     "name": "stdout",
     "output_type": "stream",
     "text": [
      "<class 'pandas.core.frame.DataFrame'>\n",
      "RangeIndex: 2075 entries, 0 to 2074\n",
      "Data columns (total 6 columns):\n",
      " #   Column    Non-Null Count  Dtype  \n",
      "---  ------    --------------  -----  \n",
      " 0   tweet_id  2075 non-null   int64  \n",
      " 1   jpg_url   2075 non-null   object \n",
      " 2   img_num   2075 non-null   int64  \n",
      " 3   p1        2075 non-null   object \n",
      " 4   p1_conf   2075 non-null   float64\n",
      " 5   p1_dog    2075 non-null   bool   \n",
      "dtypes: bool(1), float64(1), int64(2), object(2)\n",
      "memory usage: 66.9+ KB\n"
     ]
    }
   ],
   "source": [
    "# test\n",
    "img_predict_new.info()"
   ]
  },
  {
   "cell_type": "code",
   "execution_count": 65,
   "metadata": {},
   "outputs": [],
   "source": [
    "# change the column names to appropriate ones\n",
    "img_predict_new.rename(columns = {'p1':'predicted_type', 'p1_conf':'prediction_accuracy', 'p1_dog':'is_dog'} , inplace=True)"
   ]
  },
  {
   "cell_type": "code",
   "execution_count": 66,
   "metadata": {},
   "outputs": [
    {
     "data": {
      "text/plain": [
       "['tweet_id',\n",
       " 'jpg_url',\n",
       " 'img_num',\n",
       " 'predicted_type',\n",
       " 'prediction_accuracy',\n",
       " 'is_dog']"
      ]
     },
     "execution_count": 66,
     "metadata": {},
     "output_type": "execute_result"
    }
   ],
   "source": [
    "# test\n",
    "list(img_predict_new)"
   ]
  },
  {
   "cell_type": "markdown",
   "metadata": {},
   "source": [
    "##### combine \"img_predict_new\" and \"twitter_archive_new\" "
   ]
  },
  {
   "cell_type": "code",
   "execution_count": 67,
   "metadata": {},
   "outputs": [],
   "source": [
    "# combine both dataframes \"img_predict_new\" and \"twitter_archive_new\" as they are about the same object\n",
    "tweets_df = twitter_archive_new.join(img_predict_new.set_index(\"tweet_id\"), on = \"tweet_id\", how = \"left\")"
   ]
  },
  {
   "cell_type": "code",
   "execution_count": 68,
   "metadata": {
    "scrolled": true
   },
   "outputs": [
    {
     "data": {
      "text/plain": [
       "['tweet_id',\n",
       " 'in_reply_to_status_id',\n",
       " 'in_reply_to_user_id',\n",
       " 'tweet_timestamp',\n",
       " 'tweet_source',\n",
       " 'tweet_text',\n",
       " 'retweeted_status_id',\n",
       " 'retweeted_status_user_id',\n",
       " 'retweeted_status_timestamp',\n",
       " 'expanded_urls',\n",
       " 'rating_numerator',\n",
       " 'rating_denominator',\n",
       " 'dog_name',\n",
       " 'dog_stage',\n",
       " 'jpg_url',\n",
       " 'img_num',\n",
       " 'predicted_type',\n",
       " 'prediction_accuracy',\n",
       " 'is_dog']"
      ]
     },
     "execution_count": 68,
     "metadata": {},
     "output_type": "execute_result"
    }
   ],
   "source": [
    "# test 1\n",
    "list(tweets_df)"
   ]
  },
  {
   "cell_type": "code",
   "execution_count": 69,
   "metadata": {},
   "outputs": [
    {
     "data": {
      "text/plain": [
       "(2356, 19)"
      ]
     },
     "execution_count": 69,
     "metadata": {},
     "output_type": "execute_result"
    }
   ],
   "source": [
    "#test 2\n",
    "tweets_df.shape"
   ]
  },
  {
   "cell_type": "code",
   "execution_count": 70,
   "metadata": {},
   "outputs": [],
   "source": [
    "# drop rows with \"jpg_url\" is NaN\n",
    "tweets_df.drop(index=tweets_df[tweets_df[\"jpg_url\"].isnull()].index, inplace=True)"
   ]
  },
  {
   "cell_type": "code",
   "execution_count": 71,
   "metadata": {},
   "outputs": [
    {
     "data": {
      "text/plain": [
       "0"
      ]
     },
     "execution_count": 71,
     "metadata": {},
     "output_type": "execute_result"
    }
   ],
   "source": [
    "# test\n",
    "tweets_df[\"jpg_url\"].isnull().sum()"
   ]
  },
  {
   "cell_type": "code",
   "execution_count": 72,
   "metadata": {},
   "outputs": [
    {
     "data": {
      "text/plain": [
       "(2075, 19)"
      ]
     },
     "execution_count": 72,
     "metadata": {},
     "output_type": "execute_result"
    }
   ],
   "source": [
    "#test\n",
    "tweets_df.shape"
   ]
  },
  {
   "cell_type": "code",
   "execution_count": 73,
   "metadata": {},
   "outputs": [],
   "source": [
    "# drop rows with \"in_reply_to_status_id\" is not NaN\n",
    "tweets_df.drop(index=tweets_df[tweets_df[\"in_reply_to_status_id\"].notnull()].index, inplace=True)"
   ]
  },
  {
   "cell_type": "code",
   "execution_count": 74,
   "metadata": {},
   "outputs": [],
   "source": [
    "# drop rows with \"retweeted_status_id\" is not NaN\n",
    "tweets_df.drop(index=tweets_df[tweets_df[\"retweeted_status_id\"].notnull()].index, inplace=True)"
   ]
  },
  {
   "cell_type": "code",
   "execution_count": 75,
   "metadata": {},
   "outputs": [
    {
     "data": {
      "text/plain": [
       "0"
      ]
     },
     "execution_count": 75,
     "metadata": {},
     "output_type": "execute_result"
    }
   ],
   "source": [
    "# test\n",
    "tweets_df.retweeted_status_id.notnull().sum()"
   ]
  },
  {
   "cell_type": "code",
   "execution_count": 76,
   "metadata": {},
   "outputs": [
    {
     "data": {
      "text/plain": [
       "0"
      ]
     },
     "execution_count": 76,
     "metadata": {},
     "output_type": "execute_result"
    }
   ],
   "source": [
    "# test\n",
    "tweets_df.in_reply_to_status_id.notnull().sum()"
   ]
  },
  {
   "cell_type": "code",
   "execution_count": 77,
   "metadata": {},
   "outputs": [
    {
     "data": {
      "text/plain": [
       "(1971, 19)"
      ]
     },
     "execution_count": 77,
     "metadata": {},
     "output_type": "execute_result"
    }
   ],
   "source": [
    "# test\n",
    "tweets_df.shape"
   ]
  },
  {
   "cell_type": "code",
   "execution_count": 78,
   "metadata": {},
   "outputs": [],
   "source": [
    "# Drop columns of retweets and replies\n",
    "re_cols = ['in_reply_to_status_id','in_reply_to_user_id','retweeted_status_id','retweeted_status_user_id','retweeted_status_timestamp']\n",
    "tweets_df.drop(re_cols, inplace=True, axis=1)"
   ]
  },
  {
   "cell_type": "code",
   "execution_count": 79,
   "metadata": {},
   "outputs": [
    {
     "data": {
      "text/plain": [
       "['tweet_id',\n",
       " 'tweet_timestamp',\n",
       " 'tweet_source',\n",
       " 'tweet_text',\n",
       " 'expanded_urls',\n",
       " 'rating_numerator',\n",
       " 'rating_denominator',\n",
       " 'dog_name',\n",
       " 'dog_stage',\n",
       " 'jpg_url',\n",
       " 'img_num',\n",
       " 'predicted_type',\n",
       " 'prediction_accuracy',\n",
       " 'is_dog']"
      ]
     },
     "execution_count": 79,
     "metadata": {},
     "output_type": "execute_result"
    }
   ],
   "source": [
    "# test\n",
    "list(tweets_df)"
   ]
  },
  {
   "cell_type": "code",
   "execution_count": 80,
   "metadata": {},
   "outputs": [],
   "source": [
    "# drop rows with \"is_dog\" is False\n",
    "tweets_df.drop(index=tweets_df[tweets_df[\"is_dog\"] == False].index, inplace=True)"
   ]
  },
  {
   "cell_type": "code",
   "execution_count": 81,
   "metadata": {},
   "outputs": [
    {
     "data": {
      "text/plain": [
       "True    1463\n",
       "Name: is_dog, dtype: int64"
      ]
     },
     "execution_count": 81,
     "metadata": {},
     "output_type": "execute_result"
    }
   ],
   "source": [
    "# test\n",
    "tweets_df.is_dog.value_counts()"
   ]
  },
  {
   "cell_type": "code",
   "execution_count": 82,
   "metadata": {},
   "outputs": [],
   "source": [
    "# After removing false values from \"is_dog\" it is better to be removed it have no indication\n",
    "tweets_df.drop(\"is_dog\", inplace=True, axis=1)"
   ]
  },
  {
   "cell_type": "code",
   "execution_count": 83,
   "metadata": {},
   "outputs": [
    {
     "data": {
      "text/plain": [
       "['tweet_id',\n",
       " 'tweet_timestamp',\n",
       " 'tweet_source',\n",
       " 'tweet_text',\n",
       " 'expanded_urls',\n",
       " 'rating_numerator',\n",
       " 'rating_denominator',\n",
       " 'dog_name',\n",
       " 'dog_stage',\n",
       " 'jpg_url',\n",
       " 'img_num',\n",
       " 'predicted_type',\n",
       " 'prediction_accuracy']"
      ]
     },
     "execution_count": 83,
     "metadata": {},
     "output_type": "execute_result"
    }
   ],
   "source": [
    "# test\n",
    "list(tweets_df)"
   ]
  },
  {
   "cell_type": "code",
   "execution_count": 84,
   "metadata": {},
   "outputs": [
    {
     "data": {
      "text/plain": [
       "50     3\n",
       "80     2\n",
       "110    1\n",
       "11     1\n",
       "90     1\n",
       "150    1\n",
       "40     1\n",
       "7      1\n",
       "70     1\n",
       "20     1\n",
       "2      1\n",
       "Name: rating_denominator, dtype: int64"
      ]
     },
     "execution_count": 84,
     "metadata": {},
     "output_type": "execute_result"
    }
   ],
   "source": [
    "# More investigation for denominator and nominator columns\n",
    "tweets_df[tweets_df['rating_denominator']!= 10].rating_denominator.value_counts()"
   ]
  },
  {
   "cell_type": "code",
   "execution_count": 85,
   "metadata": {},
   "outputs": [
    {
     "data": {
      "text/html": [
       "<div>\n",
       "<style scoped>\n",
       "    .dataframe tbody tr th:only-of-type {\n",
       "        vertical-align: middle;\n",
       "    }\n",
       "\n",
       "    .dataframe tbody tr th {\n",
       "        vertical-align: top;\n",
       "    }\n",
       "\n",
       "    .dataframe thead th {\n",
       "        text-align: right;\n",
       "    }\n",
       "</style>\n",
       "<table border=\"1\" class=\"dataframe\">\n",
       "  <thead>\n",
       "    <tr style=\"text-align: right;\">\n",
       "      <th></th>\n",
       "      <th>tweet_id</th>\n",
       "      <th>tweet_timestamp</th>\n",
       "      <th>tweet_source</th>\n",
       "      <th>tweet_text</th>\n",
       "      <th>expanded_urls</th>\n",
       "      <th>rating_numerator</th>\n",
       "      <th>rating_denominator</th>\n",
       "      <th>dog_name</th>\n",
       "      <th>dog_stage</th>\n",
       "      <th>jpg_url</th>\n",
       "      <th>img_num</th>\n",
       "      <th>predicted_type</th>\n",
       "      <th>prediction_accuracy</th>\n",
       "    </tr>\n",
       "  </thead>\n",
       "  <tbody>\n",
       "    <tr>\n",
       "      <th>433</th>\n",
       "      <td>820690176645140481</td>\n",
       "      <td>2017-01-15 17:52:40+00:00</td>\n",
       "      <td>&lt;a href=\"http://twitter.com/download/iphone\" r...</td>\n",
       "      <td>The floofs have been released I repeat the flo...</td>\n",
       "      <td>https://twitter.com/dog_rates/status/820690176...</td>\n",
       "      <td>84</td>\n",
       "      <td>70</td>\n",
       "      <td>None</td>\n",
       "      <td>NaN</td>\n",
       "      <td>https://pbs.twimg.com/media/C2OtWr0VQAEnS9r.jpg</td>\n",
       "      <td>2.0</td>\n",
       "      <td>West_Highland_white_terrier</td>\n",
       "      <td>0.872064</td>\n",
       "    </tr>\n",
       "    <tr>\n",
       "      <th>516</th>\n",
       "      <td>810984652412424192</td>\n",
       "      <td>2016-12-19 23:06:23+00:00</td>\n",
       "      <td>&lt;a href=\"http://twitter.com/download/iphone\" r...</td>\n",
       "      <td>Meet Sam. She smiles 24/7 &amp;amp; secretly aspir...</td>\n",
       "      <td>https://www.gofundme.com/sams-smile,https://tw...</td>\n",
       "      <td>24</td>\n",
       "      <td>7</td>\n",
       "      <td>Sam</td>\n",
       "      <td>NaN</td>\n",
       "      <td>https://pbs.twimg.com/media/C0EyPZbXAAAceSc.jpg</td>\n",
       "      <td>1.0</td>\n",
       "      <td>golden_retriever</td>\n",
       "      <td>0.871342</td>\n",
       "    </tr>\n",
       "    <tr>\n",
       "      <th>902</th>\n",
       "      <td>758467244762497024</td>\n",
       "      <td>2016-07-28 01:00:57+00:00</td>\n",
       "      <td>&lt;a href=\"http://twitter.com/download/iphone\" r...</td>\n",
       "      <td>Why does this never happen at my front door......</td>\n",
       "      <td>https://twitter.com/dog_rates/status/758467244...</td>\n",
       "      <td>165</td>\n",
       "      <td>150</td>\n",
       "      <td>None</td>\n",
       "      <td>NaN</td>\n",
       "      <td>https://pbs.twimg.com/ext_tw_video_thumb/75846...</td>\n",
       "      <td>1.0</td>\n",
       "      <td>Labrador_retriever</td>\n",
       "      <td>0.436377</td>\n",
       "    </tr>\n",
       "    <tr>\n",
       "      <th>1068</th>\n",
       "      <td>740373189193256964</td>\n",
       "      <td>2016-06-08 02:41:38+00:00</td>\n",
       "      <td>&lt;a href=\"http://twitter.com/download/iphone\" r...</td>\n",
       "      <td>After so many requests, this is Bretagne. She ...</td>\n",
       "      <td>https://twitter.com/dog_rates/status/740373189...</td>\n",
       "      <td>9</td>\n",
       "      <td>11</td>\n",
       "      <td>None</td>\n",
       "      <td>NaN</td>\n",
       "      <td>https://pbs.twimg.com/media/CkZVdJ6WYAAXZ5A.jpg</td>\n",
       "      <td>3.0</td>\n",
       "      <td>golden_retriever</td>\n",
       "      <td>0.807644</td>\n",
       "    </tr>\n",
       "    <tr>\n",
       "      <th>1165</th>\n",
       "      <td>722974582966214656</td>\n",
       "      <td>2016-04-21 02:25:47+00:00</td>\n",
       "      <td>&lt;a href=\"http://twitter.com/download/iphone\" r...</td>\n",
       "      <td>Happy 4/20 from the squad! 13/10 for all https...</td>\n",
       "      <td>https://twitter.com/dog_rates/status/722974582...</td>\n",
       "      <td>4</td>\n",
       "      <td>20</td>\n",
       "      <td>None</td>\n",
       "      <td>NaN</td>\n",
       "      <td>https://pbs.twimg.com/media/CgiFjIpWgAA4wVp.jpg</td>\n",
       "      <td>1.0</td>\n",
       "      <td>Great_Dane</td>\n",
       "      <td>0.246762</td>\n",
       "    </tr>\n",
       "    <tr>\n",
       "      <th>1202</th>\n",
       "      <td>716439118184652801</td>\n",
       "      <td>2016-04-03 01:36:11+00:00</td>\n",
       "      <td>&lt;a href=\"http://twitter.com/download/iphone\" r...</td>\n",
       "      <td>This is Bluebert. He just saw that both #Final...</td>\n",
       "      <td>https://twitter.com/dog_rates/status/716439118...</td>\n",
       "      <td>50</td>\n",
       "      <td>50</td>\n",
       "      <td>Bluebert</td>\n",
       "      <td>NaN</td>\n",
       "      <td>https://pbs.twimg.com/media/CfFNk7cWAAA-hND.jpg</td>\n",
       "      <td>1.0</td>\n",
       "      <td>Siberian_husky</td>\n",
       "      <td>0.396495</td>\n",
       "    </tr>\n",
       "    <tr>\n",
       "      <th>1228</th>\n",
       "      <td>713900603437621249</td>\n",
       "      <td>2016-03-27 01:29:02+00:00</td>\n",
       "      <td>&lt;a href=\"http://twitter.com/download/iphone\" r...</td>\n",
       "      <td>Happy Saturday here's 9 puppers on a bench. 99...</td>\n",
       "      <td>https://twitter.com/dog_rates/status/713900603...</td>\n",
       "      <td>99</td>\n",
       "      <td>90</td>\n",
       "      <td>None</td>\n",
       "      <td>NaN</td>\n",
       "      <td>https://pbs.twimg.com/media/CehIzzZWQAEyHH5.jpg</td>\n",
       "      <td>1.0</td>\n",
       "      <td>golden_retriever</td>\n",
       "      <td>0.371816</td>\n",
       "    </tr>\n",
       "    <tr>\n",
       "      <th>1254</th>\n",
       "      <td>710658690886586372</td>\n",
       "      <td>2016-03-18 02:46:49+00:00</td>\n",
       "      <td>&lt;a href=\"http://twitter.com/download/iphone\" r...</td>\n",
       "      <td>Here's a brigade of puppers. All look very pre...</td>\n",
       "      <td>https://twitter.com/dog_rates/status/710658690...</td>\n",
       "      <td>80</td>\n",
       "      <td>80</td>\n",
       "      <td>None</td>\n",
       "      <td>NaN</td>\n",
       "      <td>https://pbs.twimg.com/media/CdzETn4W4AAVU5N.jpg</td>\n",
       "      <td>1.0</td>\n",
       "      <td>soft-coated_wheaten_terrier</td>\n",
       "      <td>0.948617</td>\n",
       "    </tr>\n",
       "    <tr>\n",
       "      <th>1274</th>\n",
       "      <td>709198395643068416</td>\n",
       "      <td>2016-03-14 02:04:08+00:00</td>\n",
       "      <td>&lt;a href=\"http://twitter.com/download/iphone\" r...</td>\n",
       "      <td>From left to right:\\nCletus, Jerome, Alejandro...</td>\n",
       "      <td>https://twitter.com/dog_rates/status/709198395...</td>\n",
       "      <td>45</td>\n",
       "      <td>50</td>\n",
       "      <td>None</td>\n",
       "      <td>NaN</td>\n",
       "      <td>https://pbs.twimg.com/media/CdeUKpcWoAAJAWJ.jpg</td>\n",
       "      <td>1.0</td>\n",
       "      <td>borzoi</td>\n",
       "      <td>0.490783</td>\n",
       "    </tr>\n",
       "    <tr>\n",
       "      <th>1351</th>\n",
       "      <td>704054845121142784</td>\n",
       "      <td>2016-02-28 21:25:30+00:00</td>\n",
       "      <td>&lt;a href=\"http://twitter.com/download/iphone\" r...</td>\n",
       "      <td>Here is a whole flock of puppers.  60/50 I'll ...</td>\n",
       "      <td>https://twitter.com/dog_rates/status/704054845...</td>\n",
       "      <td>60</td>\n",
       "      <td>50</td>\n",
       "      <td>a</td>\n",
       "      <td>NaN</td>\n",
       "      <td>https://pbs.twimg.com/media/CcVOJEcXEAM0FHL.jpg</td>\n",
       "      <td>1.0</td>\n",
       "      <td>Great_Pyrenees</td>\n",
       "      <td>0.667939</td>\n",
       "    </tr>\n",
       "    <tr>\n",
       "      <th>1433</th>\n",
       "      <td>697463031882764288</td>\n",
       "      <td>2016-02-10 16:51:59+00:00</td>\n",
       "      <td>&lt;a href=\"http://twitter.com/download/iphone\" r...</td>\n",
       "      <td>Happy Wednesday here's a bucket of pups. 44/40...</td>\n",
       "      <td>https://twitter.com/dog_rates/status/697463031...</td>\n",
       "      <td>44</td>\n",
       "      <td>40</td>\n",
       "      <td>None</td>\n",
       "      <td>NaN</td>\n",
       "      <td>https://pbs.twimg.com/media/Ca3i7CzXIAMLhg8.jpg</td>\n",
       "      <td>1.0</td>\n",
       "      <td>Labrador_retriever</td>\n",
       "      <td>0.999885</td>\n",
       "    </tr>\n",
       "    <tr>\n",
       "      <th>1635</th>\n",
       "      <td>684222868335505415</td>\n",
       "      <td>2016-01-05 04:00:18+00:00</td>\n",
       "      <td>&lt;a href=\"http://twitter.com/download/iphone\" r...</td>\n",
       "      <td>Someone help the girl is being mugged. Several...</td>\n",
       "      <td>https://twitter.com/dog_rates/status/684222868...</td>\n",
       "      <td>121</td>\n",
       "      <td>110</td>\n",
       "      <td>None</td>\n",
       "      <td>NaN</td>\n",
       "      <td>https://pbs.twimg.com/media/CX7Y_ByWwAEJdUy.jpg</td>\n",
       "      <td>1.0</td>\n",
       "      <td>soft-coated_wheaten_terrier</td>\n",
       "      <td>0.791182</td>\n",
       "    </tr>\n",
       "    <tr>\n",
       "      <th>1843</th>\n",
       "      <td>675853064436391936</td>\n",
       "      <td>2015-12-13 01:41:41+00:00</td>\n",
       "      <td>&lt;a href=\"http://twitter.com/download/iphone\" r...</td>\n",
       "      <td>Here we have an entire platoon of puppers. Tot...</td>\n",
       "      <td>https://twitter.com/dog_rates/status/675853064...</td>\n",
       "      <td>88</td>\n",
       "      <td>80</td>\n",
       "      <td>None</td>\n",
       "      <td>NaN</td>\n",
       "      <td>https://pbs.twimg.com/media/CWEcxqWVEAAHyGH.jpg</td>\n",
       "      <td>1.0</td>\n",
       "      <td>Labrador_retriever</td>\n",
       "      <td>0.868367</td>\n",
       "    </tr>\n",
       "    <tr>\n",
       "      <th>2335</th>\n",
       "      <td>666287406224695296</td>\n",
       "      <td>2015-11-16 16:11:11+00:00</td>\n",
       "      <td>&lt;a href=\"http://twitter.com/download/iphone\" r...</td>\n",
       "      <td>This is an Albanian 3 1/2 legged  Episcopalian...</td>\n",
       "      <td>https://twitter.com/dog_rates/status/666287406...</td>\n",
       "      <td>1</td>\n",
       "      <td>2</td>\n",
       "      <td>an</td>\n",
       "      <td>NaN</td>\n",
       "      <td>https://pbs.twimg.com/media/CT8g3BpUEAAuFjg.jpg</td>\n",
       "      <td>1.0</td>\n",
       "      <td>Maltese_dog</td>\n",
       "      <td>0.857531</td>\n",
       "    </tr>\n",
       "  </tbody>\n",
       "</table>\n",
       "</div>"
      ],
      "text/plain": [
       "                tweet_id           tweet_timestamp  \\\n",
       "433   820690176645140481 2017-01-15 17:52:40+00:00   \n",
       "516   810984652412424192 2016-12-19 23:06:23+00:00   \n",
       "902   758467244762497024 2016-07-28 01:00:57+00:00   \n",
       "1068  740373189193256964 2016-06-08 02:41:38+00:00   \n",
       "1165  722974582966214656 2016-04-21 02:25:47+00:00   \n",
       "1202  716439118184652801 2016-04-03 01:36:11+00:00   \n",
       "1228  713900603437621249 2016-03-27 01:29:02+00:00   \n",
       "1254  710658690886586372 2016-03-18 02:46:49+00:00   \n",
       "1274  709198395643068416 2016-03-14 02:04:08+00:00   \n",
       "1351  704054845121142784 2016-02-28 21:25:30+00:00   \n",
       "1433  697463031882764288 2016-02-10 16:51:59+00:00   \n",
       "1635  684222868335505415 2016-01-05 04:00:18+00:00   \n",
       "1843  675853064436391936 2015-12-13 01:41:41+00:00   \n",
       "2335  666287406224695296 2015-11-16 16:11:11+00:00   \n",
       "\n",
       "                                           tweet_source  \\\n",
       "433   <a href=\"http://twitter.com/download/iphone\" r...   \n",
       "516   <a href=\"http://twitter.com/download/iphone\" r...   \n",
       "902   <a href=\"http://twitter.com/download/iphone\" r...   \n",
       "1068  <a href=\"http://twitter.com/download/iphone\" r...   \n",
       "1165  <a href=\"http://twitter.com/download/iphone\" r...   \n",
       "1202  <a href=\"http://twitter.com/download/iphone\" r...   \n",
       "1228  <a href=\"http://twitter.com/download/iphone\" r...   \n",
       "1254  <a href=\"http://twitter.com/download/iphone\" r...   \n",
       "1274  <a href=\"http://twitter.com/download/iphone\" r...   \n",
       "1351  <a href=\"http://twitter.com/download/iphone\" r...   \n",
       "1433  <a href=\"http://twitter.com/download/iphone\" r...   \n",
       "1635  <a href=\"http://twitter.com/download/iphone\" r...   \n",
       "1843  <a href=\"http://twitter.com/download/iphone\" r...   \n",
       "2335  <a href=\"http://twitter.com/download/iphone\" r...   \n",
       "\n",
       "                                             tweet_text  \\\n",
       "433   The floofs have been released I repeat the flo...   \n",
       "516   Meet Sam. She smiles 24/7 &amp; secretly aspir...   \n",
       "902   Why does this never happen at my front door......   \n",
       "1068  After so many requests, this is Bretagne. She ...   \n",
       "1165  Happy 4/20 from the squad! 13/10 for all https...   \n",
       "1202  This is Bluebert. He just saw that both #Final...   \n",
       "1228  Happy Saturday here's 9 puppers on a bench. 99...   \n",
       "1254  Here's a brigade of puppers. All look very pre...   \n",
       "1274  From left to right:\\nCletus, Jerome, Alejandro...   \n",
       "1351  Here is a whole flock of puppers.  60/50 I'll ...   \n",
       "1433  Happy Wednesday here's a bucket of pups. 44/40...   \n",
       "1635  Someone help the girl is being mugged. Several...   \n",
       "1843  Here we have an entire platoon of puppers. Tot...   \n",
       "2335  This is an Albanian 3 1/2 legged  Episcopalian...   \n",
       "\n",
       "                                          expanded_urls  rating_numerator  \\\n",
       "433   https://twitter.com/dog_rates/status/820690176...                84   \n",
       "516   https://www.gofundme.com/sams-smile,https://tw...                24   \n",
       "902   https://twitter.com/dog_rates/status/758467244...               165   \n",
       "1068  https://twitter.com/dog_rates/status/740373189...                 9   \n",
       "1165  https://twitter.com/dog_rates/status/722974582...                 4   \n",
       "1202  https://twitter.com/dog_rates/status/716439118...                50   \n",
       "1228  https://twitter.com/dog_rates/status/713900603...                99   \n",
       "1254  https://twitter.com/dog_rates/status/710658690...                80   \n",
       "1274  https://twitter.com/dog_rates/status/709198395...                45   \n",
       "1351  https://twitter.com/dog_rates/status/704054845...                60   \n",
       "1433  https://twitter.com/dog_rates/status/697463031...                44   \n",
       "1635  https://twitter.com/dog_rates/status/684222868...               121   \n",
       "1843  https://twitter.com/dog_rates/status/675853064...                88   \n",
       "2335  https://twitter.com/dog_rates/status/666287406...                 1   \n",
       "\n",
       "      rating_denominator  dog_name dog_stage  \\\n",
       "433                   70      None       NaN   \n",
       "516                    7       Sam       NaN   \n",
       "902                  150      None       NaN   \n",
       "1068                  11      None       NaN   \n",
       "1165                  20      None       NaN   \n",
       "1202                  50  Bluebert       NaN   \n",
       "1228                  90      None       NaN   \n",
       "1254                  80      None       NaN   \n",
       "1274                  50      None       NaN   \n",
       "1351                  50         a       NaN   \n",
       "1433                  40      None       NaN   \n",
       "1635                 110      None       NaN   \n",
       "1843                  80      None       NaN   \n",
       "2335                   2        an       NaN   \n",
       "\n",
       "                                                jpg_url  img_num  \\\n",
       "433     https://pbs.twimg.com/media/C2OtWr0VQAEnS9r.jpg      2.0   \n",
       "516     https://pbs.twimg.com/media/C0EyPZbXAAAceSc.jpg      1.0   \n",
       "902   https://pbs.twimg.com/ext_tw_video_thumb/75846...      1.0   \n",
       "1068    https://pbs.twimg.com/media/CkZVdJ6WYAAXZ5A.jpg      3.0   \n",
       "1165    https://pbs.twimg.com/media/CgiFjIpWgAA4wVp.jpg      1.0   \n",
       "1202    https://pbs.twimg.com/media/CfFNk7cWAAA-hND.jpg      1.0   \n",
       "1228    https://pbs.twimg.com/media/CehIzzZWQAEyHH5.jpg      1.0   \n",
       "1254    https://pbs.twimg.com/media/CdzETn4W4AAVU5N.jpg      1.0   \n",
       "1274    https://pbs.twimg.com/media/CdeUKpcWoAAJAWJ.jpg      1.0   \n",
       "1351    https://pbs.twimg.com/media/CcVOJEcXEAM0FHL.jpg      1.0   \n",
       "1433    https://pbs.twimg.com/media/Ca3i7CzXIAMLhg8.jpg      1.0   \n",
       "1635    https://pbs.twimg.com/media/CX7Y_ByWwAEJdUy.jpg      1.0   \n",
       "1843    https://pbs.twimg.com/media/CWEcxqWVEAAHyGH.jpg      1.0   \n",
       "2335    https://pbs.twimg.com/media/CT8g3BpUEAAuFjg.jpg      1.0   \n",
       "\n",
       "                   predicted_type  prediction_accuracy  \n",
       "433   West_Highland_white_terrier             0.872064  \n",
       "516              golden_retriever             0.871342  \n",
       "902            Labrador_retriever             0.436377  \n",
       "1068             golden_retriever             0.807644  \n",
       "1165                   Great_Dane             0.246762  \n",
       "1202               Siberian_husky             0.396495  \n",
       "1228             golden_retriever             0.371816  \n",
       "1254  soft-coated_wheaten_terrier             0.948617  \n",
       "1274                       borzoi             0.490783  \n",
       "1351               Great_Pyrenees             0.667939  \n",
       "1433           Labrador_retriever             0.999885  \n",
       "1635  soft-coated_wheaten_terrier             0.791182  \n",
       "1843           Labrador_retriever             0.868367  \n",
       "2335                  Maltese_dog             0.857531  "
      ]
     },
     "execution_count": 85,
     "metadata": {},
     "output_type": "execute_result"
    }
   ],
   "source": [
    "tweets_df[tweets_df['rating_denominator']!= 10]"
   ]
  },
  {
   "cell_type": "code",
   "execution_count": 86,
   "metadata": {},
   "outputs": [],
   "source": [
    "# Fix \"rating_denominator\" manually row by row after investigating the tweet text\n",
    "# found some numbers are  multiplied by the number of dogs in picture \n",
    "# and some other are mistake in extracting the right info. from the text\n",
    "# fix that issue and fix the corresponding value in \"rating_numerator\"\n",
    "# one row found needed to be drop it contain no useful info. help in fixing (row No.516)\n",
    "\n",
    "tweets_df.loc[:,\"rating_denominator\"] = 10\n",
    "numerator_list_index_to_change = (433,902,1068,1165,1202,1228,1254,1274,1351,1433,1635,1843,2335)\n",
    "numerator_list_new_val = (12,11,14,13,11,11,10,8,12,11,11,11,9)\n",
    "tweets_df.loc[numerator_list_index_to_change,\"rating_numerator\"] = numerator_list_new_val\n",
    "\n",
    "# drop rows No.516\n",
    "tweets_df.drop(index=tweets_df[tweets_df[\"rating_denominator\"] == 7].index, inplace=True)"
   ]
  },
  {
   "cell_type": "code",
   "execution_count": 87,
   "metadata": {},
   "outputs": [
    {
     "data": {
      "text/plain": [
       "10    1463\n",
       "Name: rating_denominator, dtype: int64"
      ]
     },
     "execution_count": 87,
     "metadata": {},
     "output_type": "execute_result"
    }
   ],
   "source": [
    "# Test\n",
    "tweets_df.rating_denominator.value_counts()"
   ]
  },
  {
   "cell_type": "code",
   "execution_count": 88,
   "metadata": {
    "scrolled": true
   },
   "outputs": [
    {
     "data": {
      "text/plain": [
       "18"
      ]
     },
     "execution_count": 88,
     "metadata": {},
     "output_type": "execute_result"
    }
   ],
   "source": [
    "tweets_df[tweets_df['rating_numerator'] <= 5].rating_numerator.value_counts().sum()"
   ]
  },
  {
   "cell_type": "code",
   "execution_count": 89,
   "metadata": {},
   "outputs": [
    {
     "data": {
      "text/plain": [
       "5    10\n",
       "4     4\n",
       "3     3\n",
       "2     1\n",
       "Name: rating_numerator, dtype: int64"
      ]
     },
     "execution_count": 89,
     "metadata": {},
     "output_type": "execute_result"
    }
   ],
   "source": [
    "tweets_df[tweets_df['rating_numerator'] <= 5].rating_numerator.value_counts()"
   ]
  },
  {
   "cell_type": "code",
   "execution_count": 90,
   "metadata": {},
   "outputs": [
    {
     "data": {
      "text/html": [
       "<div>\n",
       "<style scoped>\n",
       "    .dataframe tbody tr th:only-of-type {\n",
       "        vertical-align: middle;\n",
       "    }\n",
       "\n",
       "    .dataframe tbody tr th {\n",
       "        vertical-align: top;\n",
       "    }\n",
       "\n",
       "    .dataframe thead th {\n",
       "        text-align: right;\n",
       "    }\n",
       "</style>\n",
       "<table border=\"1\" class=\"dataframe\">\n",
       "  <thead>\n",
       "    <tr style=\"text-align: right;\">\n",
       "      <th></th>\n",
       "      <th>tweet_id</th>\n",
       "      <th>tweet_timestamp</th>\n",
       "      <th>tweet_source</th>\n",
       "      <th>tweet_text</th>\n",
       "      <th>expanded_urls</th>\n",
       "      <th>rating_numerator</th>\n",
       "      <th>rating_denominator</th>\n",
       "      <th>dog_name</th>\n",
       "      <th>dog_stage</th>\n",
       "      <th>jpg_url</th>\n",
       "      <th>img_num</th>\n",
       "      <th>predicted_type</th>\n",
       "      <th>prediction_accuracy</th>\n",
       "    </tr>\n",
       "  </thead>\n",
       "  <tbody>\n",
       "    <tr>\n",
       "      <th>45</th>\n",
       "      <td>883482846933004288</td>\n",
       "      <td>2017-07-08 00:28:19+00:00</td>\n",
       "      <td>&lt;a href=\"http://twitter.com/download/iphone\" r...</td>\n",
       "      <td>This is Bella. She hopes her smile made you sm...</td>\n",
       "      <td>https://twitter.com/dog_rates/status/883482846...</td>\n",
       "      <td>5</td>\n",
       "      <td>10</td>\n",
       "      <td>Bella</td>\n",
       "      <td>NaN</td>\n",
       "      <td>https://pbs.twimg.com/media/DELC9dZXUAADqUk.jpg</td>\n",
       "      <td>1.0</td>\n",
       "      <td>golden_retriever</td>\n",
       "      <td>0.943082</td>\n",
       "    </tr>\n",
       "    <tr>\n",
       "      <th>730</th>\n",
       "      <td>781661882474196992</td>\n",
       "      <td>2016-09-30 01:08:10+00:00</td>\n",
       "      <td>&lt;a href=\"http://twitter.com/download/iphone\" r...</td>\n",
       "      <td>Who keeps sending in pictures without dogs in ...</td>\n",
       "      <td>https://twitter.com/dog_rates/status/781661882...</td>\n",
       "      <td>5</td>\n",
       "      <td>10</td>\n",
       "      <td>None</td>\n",
       "      <td>NaN</td>\n",
       "      <td>https://pbs.twimg.com/media/CtkFS72WcAAiUrs.jpg</td>\n",
       "      <td>1.0</td>\n",
       "      <td>Pembroke</td>\n",
       "      <td>0.438087</td>\n",
       "    </tr>\n",
       "    <tr>\n",
       "      <th>765</th>\n",
       "      <td>777885040357281792</td>\n",
       "      <td>2016-09-19 15:00:20+00:00</td>\n",
       "      <td>&lt;a href=\"http://twitter.com/download/iphone\" r...</td>\n",
       "      <td>This is Wesley. He's clearly trespassing. Seem...</td>\n",
       "      <td>https://twitter.com/dog_rates/status/777885040...</td>\n",
       "      <td>3</td>\n",
       "      <td>10</td>\n",
       "      <td>Wesley</td>\n",
       "      <td>NaN</td>\n",
       "      <td>https://pbs.twimg.com/media/CsuaUH2WAAAWJh1.jpg</td>\n",
       "      <td>1.0</td>\n",
       "      <td>Afghan_hound</td>\n",
       "      <td>0.123529</td>\n",
       "    </tr>\n",
       "    <tr>\n",
       "      <th>956</th>\n",
       "      <td>751583847268179968</td>\n",
       "      <td>2016-07-09 01:08:47+00:00</td>\n",
       "      <td>&lt;a href=\"http://twitter.com/download/iphone\" r...</td>\n",
       "      <td>Please stop sending it pictures that don't eve...</td>\n",
       "      <td>https://twitter.com/dog_rates/status/751583847...</td>\n",
       "      <td>5</td>\n",
       "      <td>10</td>\n",
       "      <td>None</td>\n",
       "      <td>Doggo-pupper</td>\n",
       "      <td>https://pbs.twimg.com/media/Cm4phTpWcAAgLsr.jpg</td>\n",
       "      <td>1.0</td>\n",
       "      <td>dalmatian</td>\n",
       "      <td>0.868304</td>\n",
       "    </tr>\n",
       "    <tr>\n",
       "      <th>1004</th>\n",
       "      <td>747816857231626240</td>\n",
       "      <td>2016-06-28 15:40:07+00:00</td>\n",
       "      <td>&lt;a href=\"http://twitter.com/download/iphone\" r...</td>\n",
       "      <td>Viewer discretion is advised. This is a terrib...</td>\n",
       "      <td>https://twitter.com/dog_rates/status/747816857...</td>\n",
       "      <td>4</td>\n",
       "      <td>10</td>\n",
       "      <td>a</td>\n",
       "      <td>NaN</td>\n",
       "      <td>https://pbs.twimg.com/media/CmDHdCoWkAACTB4.jpg</td>\n",
       "      <td>1.0</td>\n",
       "      <td>Pembroke</td>\n",
       "      <td>0.768923</td>\n",
       "    </tr>\n",
       "    <tr>\n",
       "      <th>1189</th>\n",
       "      <td>718246886998687744</td>\n",
       "      <td>2016-04-08 01:19:36+00:00</td>\n",
       "      <td>&lt;a href=\"http://twitter.com/download/iphone\" r...</td>\n",
       "      <td>This is Alexanderson. He's got a weird ass bir...</td>\n",
       "      <td>https://twitter.com/dog_rates/status/718246886...</td>\n",
       "      <td>3</td>\n",
       "      <td>10</td>\n",
       "      <td>Alexanderson</td>\n",
       "      <td>NaN</td>\n",
       "      <td>https://pbs.twimg.com/media/Cfe5tLWXEAIaoFO.jpg</td>\n",
       "      <td>1.0</td>\n",
       "      <td>Chihuahua</td>\n",
       "      <td>0.354488</td>\n",
       "    </tr>\n",
       "    <tr>\n",
       "      <th>1508</th>\n",
       "      <td>691483041324204033</td>\n",
       "      <td>2016-01-25 04:49:38+00:00</td>\n",
       "      <td>&lt;a href=\"http://twitter.com/download/iphone\" r...</td>\n",
       "      <td>When bae says they can't go out but you see th...</td>\n",
       "      <td>https://twitter.com/dog_rates/status/691483041...</td>\n",
       "      <td>5</td>\n",
       "      <td>10</td>\n",
       "      <td>None</td>\n",
       "      <td>NaN</td>\n",
       "      <td>https://pbs.twimg.com/media/CZikKBIWYAA40Az.jpg</td>\n",
       "      <td>1.0</td>\n",
       "      <td>bloodhound</td>\n",
       "      <td>0.886232</td>\n",
       "    </tr>\n",
       "    <tr>\n",
       "      <th>1701</th>\n",
       "      <td>680940246314430465</td>\n",
       "      <td>2015-12-27 02:36:20+00:00</td>\n",
       "      <td>&lt;a href=\"http://twitter.com/download/iphone\" r...</td>\n",
       "      <td>This is Alice. She's an idiot. 4/10 https://t....</td>\n",
       "      <td>https://twitter.com/dog_rates/status/680940246...</td>\n",
       "      <td>4</td>\n",
       "      <td>10</td>\n",
       "      <td>Alice</td>\n",
       "      <td>NaN</td>\n",
       "      <td>https://pbs.twimg.com/media/CXMvio7WQAAPZJj.jpg</td>\n",
       "      <td>1.0</td>\n",
       "      <td>soft-coated_wheaten_terrier</td>\n",
       "      <td>0.289598</td>\n",
       "    </tr>\n",
       "    <tr>\n",
       "      <th>1764</th>\n",
       "      <td>678424312106393600</td>\n",
       "      <td>2015-12-20 03:58:55+00:00</td>\n",
       "      <td>&lt;a href=\"http://twitter.com/download/iphone\" r...</td>\n",
       "      <td>This is Crystal. She's a shitty fireman. No se...</td>\n",
       "      <td>https://twitter.com/dog_rates/status/678424312...</td>\n",
       "      <td>2</td>\n",
       "      <td>10</td>\n",
       "      <td>Crystal</td>\n",
       "      <td>NaN</td>\n",
       "      <td>https://pbs.twimg.com/media/CWo_T8gW4AAgJNo.jpg</td>\n",
       "      <td>1.0</td>\n",
       "      <td>Maltese_dog</td>\n",
       "      <td>0.759945</td>\n",
       "    </tr>\n",
       "    <tr>\n",
       "      <th>1796</th>\n",
       "      <td>677301033169788928</td>\n",
       "      <td>2015-12-17 01:35:24+00:00</td>\n",
       "      <td>&lt;a href=\"http://twitter.com/download/iphone\" r...</td>\n",
       "      <td>This is Juckson. He's totally on his way to a ...</td>\n",
       "      <td>https://twitter.com/dog_rates/status/677301033...</td>\n",
       "      <td>5</td>\n",
       "      <td>10</td>\n",
       "      <td>Juckson</td>\n",
       "      <td>NaN</td>\n",
       "      <td>https://pbs.twimg.com/media/CWZBsjPWsAAZFFl.jpg</td>\n",
       "      <td>1.0</td>\n",
       "      <td>Japanese_spaniel</td>\n",
       "      <td>0.661178</td>\n",
       "    </tr>\n",
       "    <tr>\n",
       "      <th>1820</th>\n",
       "      <td>676588346097852417</td>\n",
       "      <td>2015-12-15 02:23:26+00:00</td>\n",
       "      <td>&lt;a href=\"http://twitter.com/download/iphone\" r...</td>\n",
       "      <td>This is Bubbles. He kinda resembles a fish. Al...</td>\n",
       "      <td>https://twitter.com/dog_rates/status/676588346...</td>\n",
       "      <td>5</td>\n",
       "      <td>10</td>\n",
       "      <td>Bubbles</td>\n",
       "      <td>NaN</td>\n",
       "      <td>https://pbs.twimg.com/media/CWO5gmCUYAAX4WA.jpg</td>\n",
       "      <td>1.0</td>\n",
       "      <td>Boston_bull</td>\n",
       "      <td>0.976577</td>\n",
       "    </tr>\n",
       "    <tr>\n",
       "      <th>1901</th>\n",
       "      <td>674646392044941312</td>\n",
       "      <td>2015-12-09 17:46:48+00:00</td>\n",
       "      <td>&lt;a href=\"http://twitter.com/download/iphone\" r...</td>\n",
       "      <td>Two gorgeous dogs here. Little waddling dog is...</td>\n",
       "      <td>https://twitter.com/dog_rates/status/674646392...</td>\n",
       "      <td>5</td>\n",
       "      <td>10</td>\n",
       "      <td>None</td>\n",
       "      <td>NaN</td>\n",
       "      <td>https://pbs.twimg.com/media/CVzTUGrW4AAirJH.jpg</td>\n",
       "      <td>1.0</td>\n",
       "      <td>flat-coated_retriever</td>\n",
       "      <td>0.837448</td>\n",
       "    </tr>\n",
       "    <tr>\n",
       "      <th>2092</th>\n",
       "      <td>670782429121134593</td>\n",
       "      <td>2015-11-29 01:52:48+00:00</td>\n",
       "      <td>&lt;a href=\"http://twitter.com/download/iphone\" r...</td>\n",
       "      <td>This dude slaps your girl's ass what do you do...</td>\n",
       "      <td>https://twitter.com/dog_rates/status/670782429...</td>\n",
       "      <td>5</td>\n",
       "      <td>10</td>\n",
       "      <td>None</td>\n",
       "      <td>NaN</td>\n",
       "      <td>https://pbs.twimg.com/media/CU8ZDu9WwAADg3N.jpg</td>\n",
       "      <td>1.0</td>\n",
       "      <td>Chihuahua</td>\n",
       "      <td>0.952963</td>\n",
       "    </tr>\n",
       "    <tr>\n",
       "      <th>2183</th>\n",
       "      <td>668989615043424256</td>\n",
       "      <td>2015-11-24 03:08:48+00:00</td>\n",
       "      <td>&lt;a href=\"http://twitter.com/download/iphone\" r...</td>\n",
       "      <td>This is Bernie. He's taking his Halloween cost...</td>\n",
       "      <td>https://twitter.com/dog_rates/status/668989615...</td>\n",
       "      <td>3</td>\n",
       "      <td>10</td>\n",
       "      <td>Bernie</td>\n",
       "      <td>NaN</td>\n",
       "      <td>https://pbs.twimg.com/media/CUi6geuUYAIvE9n.jpg</td>\n",
       "      <td>1.0</td>\n",
       "      <td>pug</td>\n",
       "      <td>0.917326</td>\n",
       "    </tr>\n",
       "    <tr>\n",
       "      <th>2206</th>\n",
       "      <td>668631377374486528</td>\n",
       "      <td>2015-11-23 03:25:17+00:00</td>\n",
       "      <td>&lt;a href=\"http://twitter.com/download/iphone\" r...</td>\n",
       "      <td>Meet Zeek. He is a grey Cumulonimbus. Zeek is ...</td>\n",
       "      <td>https://twitter.com/dog_rates/status/668631377...</td>\n",
       "      <td>5</td>\n",
       "      <td>10</td>\n",
       "      <td>Zeek</td>\n",
       "      <td>NaN</td>\n",
       "      <td>https://pbs.twimg.com/media/CUd0sSvWsAA85wO.jpg</td>\n",
       "      <td>1.0</td>\n",
       "      <td>miniature_schnauzer</td>\n",
       "      <td>0.904549</td>\n",
       "    </tr>\n",
       "    <tr>\n",
       "      <th>2288</th>\n",
       "      <td>667176164155375616</td>\n",
       "      <td>2015-11-19 03:02:47+00:00</td>\n",
       "      <td>&lt;a href=\"http://twitter.com/download/iphone\" r...</td>\n",
       "      <td>These are strange dogs. All have toupees. Long...</td>\n",
       "      <td>https://twitter.com/dog_rates/status/667176164...</td>\n",
       "      <td>4</td>\n",
       "      <td>10</td>\n",
       "      <td>None</td>\n",
       "      <td>NaN</td>\n",
       "      <td>https://pbs.twimg.com/media/CUJJLtWWsAE-go5.jpg</td>\n",
       "      <td>1.0</td>\n",
       "      <td>soft-coated_wheaten_terrier</td>\n",
       "      <td>0.318981</td>\n",
       "    </tr>\n",
       "    <tr>\n",
       "      <th>2316</th>\n",
       "      <td>666649482315059201</td>\n",
       "      <td>2015-11-17 16:09:56+00:00</td>\n",
       "      <td>&lt;a href=\"http://twitter.com/download/iphone\" r...</td>\n",
       "      <td>Cool dog. Enjoys couch. Low monotone bark. Ver...</td>\n",
       "      <td>https://twitter.com/dog_rates/status/666649482...</td>\n",
       "      <td>4</td>\n",
       "      <td>10</td>\n",
       "      <td>None</td>\n",
       "      <td>NaN</td>\n",
       "      <td>https://pbs.twimg.com/media/CUBqKnLWwAA5OQB.jpg</td>\n",
       "      <td>1.0</td>\n",
       "      <td>Border_collie</td>\n",
       "      <td>0.447803</td>\n",
       "    </tr>\n",
       "    <tr>\n",
       "      <th>2351</th>\n",
       "      <td>666049248165822465</td>\n",
       "      <td>2015-11-16 00:24:50+00:00</td>\n",
       "      <td>&lt;a href=\"http://twitter.com/download/iphone\" r...</td>\n",
       "      <td>Here we have a 1949 1st generation vulpix. Enj...</td>\n",
       "      <td>https://twitter.com/dog_rates/status/666049248...</td>\n",
       "      <td>5</td>\n",
       "      <td>10</td>\n",
       "      <td>None</td>\n",
       "      <td>NaN</td>\n",
       "      <td>https://pbs.twimg.com/media/CT5IQmsXIAAKY4A.jpg</td>\n",
       "      <td>1.0</td>\n",
       "      <td>miniature_pinscher</td>\n",
       "      <td>0.560311</td>\n",
       "    </tr>\n",
       "  </tbody>\n",
       "</table>\n",
       "</div>"
      ],
      "text/plain": [
       "                tweet_id           tweet_timestamp  \\\n",
       "45    883482846933004288 2017-07-08 00:28:19+00:00   \n",
       "730   781661882474196992 2016-09-30 01:08:10+00:00   \n",
       "765   777885040357281792 2016-09-19 15:00:20+00:00   \n",
       "956   751583847268179968 2016-07-09 01:08:47+00:00   \n",
       "1004  747816857231626240 2016-06-28 15:40:07+00:00   \n",
       "1189  718246886998687744 2016-04-08 01:19:36+00:00   \n",
       "1508  691483041324204033 2016-01-25 04:49:38+00:00   \n",
       "1701  680940246314430465 2015-12-27 02:36:20+00:00   \n",
       "1764  678424312106393600 2015-12-20 03:58:55+00:00   \n",
       "1796  677301033169788928 2015-12-17 01:35:24+00:00   \n",
       "1820  676588346097852417 2015-12-15 02:23:26+00:00   \n",
       "1901  674646392044941312 2015-12-09 17:46:48+00:00   \n",
       "2092  670782429121134593 2015-11-29 01:52:48+00:00   \n",
       "2183  668989615043424256 2015-11-24 03:08:48+00:00   \n",
       "2206  668631377374486528 2015-11-23 03:25:17+00:00   \n",
       "2288  667176164155375616 2015-11-19 03:02:47+00:00   \n",
       "2316  666649482315059201 2015-11-17 16:09:56+00:00   \n",
       "2351  666049248165822465 2015-11-16 00:24:50+00:00   \n",
       "\n",
       "                                           tweet_source  \\\n",
       "45    <a href=\"http://twitter.com/download/iphone\" r...   \n",
       "730   <a href=\"http://twitter.com/download/iphone\" r...   \n",
       "765   <a href=\"http://twitter.com/download/iphone\" r...   \n",
       "956   <a href=\"http://twitter.com/download/iphone\" r...   \n",
       "1004  <a href=\"http://twitter.com/download/iphone\" r...   \n",
       "1189  <a href=\"http://twitter.com/download/iphone\" r...   \n",
       "1508  <a href=\"http://twitter.com/download/iphone\" r...   \n",
       "1701  <a href=\"http://twitter.com/download/iphone\" r...   \n",
       "1764  <a href=\"http://twitter.com/download/iphone\" r...   \n",
       "1796  <a href=\"http://twitter.com/download/iphone\" r...   \n",
       "1820  <a href=\"http://twitter.com/download/iphone\" r...   \n",
       "1901  <a href=\"http://twitter.com/download/iphone\" r...   \n",
       "2092  <a href=\"http://twitter.com/download/iphone\" r...   \n",
       "2183  <a href=\"http://twitter.com/download/iphone\" r...   \n",
       "2206  <a href=\"http://twitter.com/download/iphone\" r...   \n",
       "2288  <a href=\"http://twitter.com/download/iphone\" r...   \n",
       "2316  <a href=\"http://twitter.com/download/iphone\" r...   \n",
       "2351  <a href=\"http://twitter.com/download/iphone\" r...   \n",
       "\n",
       "                                             tweet_text  \\\n",
       "45    This is Bella. She hopes her smile made you sm...   \n",
       "730   Who keeps sending in pictures without dogs in ...   \n",
       "765   This is Wesley. He's clearly trespassing. Seem...   \n",
       "956   Please stop sending it pictures that don't eve...   \n",
       "1004  Viewer discretion is advised. This is a terrib...   \n",
       "1189  This is Alexanderson. He's got a weird ass bir...   \n",
       "1508  When bae says they can't go out but you see th...   \n",
       "1701  This is Alice. She's an idiot. 4/10 https://t....   \n",
       "1764  This is Crystal. She's a shitty fireman. No se...   \n",
       "1796  This is Juckson. He's totally on his way to a ...   \n",
       "1820  This is Bubbles. He kinda resembles a fish. Al...   \n",
       "1901  Two gorgeous dogs here. Little waddling dog is...   \n",
       "2092  This dude slaps your girl's ass what do you do...   \n",
       "2183  This is Bernie. He's taking his Halloween cost...   \n",
       "2206  Meet Zeek. He is a grey Cumulonimbus. Zeek is ...   \n",
       "2288  These are strange dogs. All have toupees. Long...   \n",
       "2316  Cool dog. Enjoys couch. Low monotone bark. Ver...   \n",
       "2351  Here we have a 1949 1st generation vulpix. Enj...   \n",
       "\n",
       "                                          expanded_urls  rating_numerator  \\\n",
       "45    https://twitter.com/dog_rates/status/883482846...                 5   \n",
       "730   https://twitter.com/dog_rates/status/781661882...                 5   \n",
       "765   https://twitter.com/dog_rates/status/777885040...                 3   \n",
       "956   https://twitter.com/dog_rates/status/751583847...                 5   \n",
       "1004  https://twitter.com/dog_rates/status/747816857...                 4   \n",
       "1189  https://twitter.com/dog_rates/status/718246886...                 3   \n",
       "1508  https://twitter.com/dog_rates/status/691483041...                 5   \n",
       "1701  https://twitter.com/dog_rates/status/680940246...                 4   \n",
       "1764  https://twitter.com/dog_rates/status/678424312...                 2   \n",
       "1796  https://twitter.com/dog_rates/status/677301033...                 5   \n",
       "1820  https://twitter.com/dog_rates/status/676588346...                 5   \n",
       "1901  https://twitter.com/dog_rates/status/674646392...                 5   \n",
       "2092  https://twitter.com/dog_rates/status/670782429...                 5   \n",
       "2183  https://twitter.com/dog_rates/status/668989615...                 3   \n",
       "2206  https://twitter.com/dog_rates/status/668631377...                 5   \n",
       "2288  https://twitter.com/dog_rates/status/667176164...                 4   \n",
       "2316  https://twitter.com/dog_rates/status/666649482...                 4   \n",
       "2351  https://twitter.com/dog_rates/status/666049248...                 5   \n",
       "\n",
       "      rating_denominator      dog_name     dog_stage  \\\n",
       "45                    10         Bella           NaN   \n",
       "730                   10          None           NaN   \n",
       "765                   10        Wesley           NaN   \n",
       "956                   10          None  Doggo-pupper   \n",
       "1004                  10             a           NaN   \n",
       "1189                  10  Alexanderson           NaN   \n",
       "1508                  10          None           NaN   \n",
       "1701                  10         Alice           NaN   \n",
       "1764                  10       Crystal           NaN   \n",
       "1796                  10       Juckson           NaN   \n",
       "1820                  10       Bubbles           NaN   \n",
       "1901                  10          None           NaN   \n",
       "2092                  10          None           NaN   \n",
       "2183                  10        Bernie           NaN   \n",
       "2206                  10          Zeek           NaN   \n",
       "2288                  10          None           NaN   \n",
       "2316                  10          None           NaN   \n",
       "2351                  10          None           NaN   \n",
       "\n",
       "                                              jpg_url  img_num  \\\n",
       "45    https://pbs.twimg.com/media/DELC9dZXUAADqUk.jpg      1.0   \n",
       "730   https://pbs.twimg.com/media/CtkFS72WcAAiUrs.jpg      1.0   \n",
       "765   https://pbs.twimg.com/media/CsuaUH2WAAAWJh1.jpg      1.0   \n",
       "956   https://pbs.twimg.com/media/Cm4phTpWcAAgLsr.jpg      1.0   \n",
       "1004  https://pbs.twimg.com/media/CmDHdCoWkAACTB4.jpg      1.0   \n",
       "1189  https://pbs.twimg.com/media/Cfe5tLWXEAIaoFO.jpg      1.0   \n",
       "1508  https://pbs.twimg.com/media/CZikKBIWYAA40Az.jpg      1.0   \n",
       "1701  https://pbs.twimg.com/media/CXMvio7WQAAPZJj.jpg      1.0   \n",
       "1764  https://pbs.twimg.com/media/CWo_T8gW4AAgJNo.jpg      1.0   \n",
       "1796  https://pbs.twimg.com/media/CWZBsjPWsAAZFFl.jpg      1.0   \n",
       "1820  https://pbs.twimg.com/media/CWO5gmCUYAAX4WA.jpg      1.0   \n",
       "1901  https://pbs.twimg.com/media/CVzTUGrW4AAirJH.jpg      1.0   \n",
       "2092  https://pbs.twimg.com/media/CU8ZDu9WwAADg3N.jpg      1.0   \n",
       "2183  https://pbs.twimg.com/media/CUi6geuUYAIvE9n.jpg      1.0   \n",
       "2206  https://pbs.twimg.com/media/CUd0sSvWsAA85wO.jpg      1.0   \n",
       "2288  https://pbs.twimg.com/media/CUJJLtWWsAE-go5.jpg      1.0   \n",
       "2316  https://pbs.twimg.com/media/CUBqKnLWwAA5OQB.jpg      1.0   \n",
       "2351  https://pbs.twimg.com/media/CT5IQmsXIAAKY4A.jpg      1.0   \n",
       "\n",
       "                   predicted_type  prediction_accuracy  \n",
       "45               golden_retriever             0.943082  \n",
       "730                      Pembroke             0.438087  \n",
       "765                  Afghan_hound             0.123529  \n",
       "956                     dalmatian             0.868304  \n",
       "1004                     Pembroke             0.768923  \n",
       "1189                    Chihuahua             0.354488  \n",
       "1508                   bloodhound             0.886232  \n",
       "1701  soft-coated_wheaten_terrier             0.289598  \n",
       "1764                  Maltese_dog             0.759945  \n",
       "1796             Japanese_spaniel             0.661178  \n",
       "1820                  Boston_bull             0.976577  \n",
       "1901        flat-coated_retriever             0.837448  \n",
       "2092                    Chihuahua             0.952963  \n",
       "2183                          pug             0.917326  \n",
       "2206          miniature_schnauzer             0.904549  \n",
       "2288  soft-coated_wheaten_terrier             0.318981  \n",
       "2316                Border_collie             0.447803  \n",
       "2351           miniature_pinscher             0.560311  "
      ]
     },
     "execution_count": 90,
     "metadata": {},
     "output_type": "execute_result"
    }
   ],
   "source": [
    "tweets_df[tweets_df['rating_numerator'] <= 5]"
   ]
  },
  {
   "cell_type": "code",
   "execution_count": 91,
   "metadata": {},
   "outputs": [],
   "source": [
    "# Fix \"rating_numerator\" <= 5 manually row by row after investigating the tweet text\n",
    "# found some pics are not dogs will be removed\n",
    "# and some other are mistake in extracting the right info. from the text\n",
    "# others will remain the same that is the true rating\n",
    "\n",
    "numerator_list_index_to_change_1 = (45, 1901)\n",
    "numerator_list_new_val_1 = (13.5, 8)\n",
    "tweets_df.loc[numerator_list_index_to_change_1,\"rating_numerator\"] = numerator_list_new_val_1\n",
    "\n",
    "tweets_df.drop([765,1004,1189,1701,2288,2316], inplace=True)"
   ]
  },
  {
   "cell_type": "code",
   "execution_count": 92,
   "metadata": {},
   "outputs": [
    {
     "data": {
      "text/plain": [
       "5.0    8\n",
       "3.0    1\n",
       "2.0    1\n",
       "Name: rating_numerator, dtype: int64"
      ]
     },
     "execution_count": 92,
     "metadata": {},
     "output_type": "execute_result"
    }
   ],
   "source": [
    "# Test\n",
    "tweets_df[tweets_df['rating_numerator'] <= 5].rating_numerator.value_counts()"
   ]
  },
  {
   "cell_type": "code",
   "execution_count": 93,
   "metadata": {},
   "outputs": [
    {
     "data": {
      "text/plain": [
       "26.0    1\n",
       "27.0    1\n",
       "75.0    1\n",
       "24.0    1\n",
       "Name: rating_numerator, dtype: int64"
      ]
     },
     "execution_count": 93,
     "metadata": {},
     "output_type": "execute_result"
    }
   ],
   "source": [
    "tweets_df[tweets_df['rating_numerator'] > 15].rating_numerator.value_counts()"
   ]
  },
  {
   "cell_type": "code",
   "execution_count": 94,
   "metadata": {},
   "outputs": [
    {
     "data": {
      "text/html": [
       "<div>\n",
       "<style scoped>\n",
       "    .dataframe tbody tr th:only-of-type {\n",
       "        vertical-align: middle;\n",
       "    }\n",
       "\n",
       "    .dataframe tbody tr th {\n",
       "        vertical-align: top;\n",
       "    }\n",
       "\n",
       "    .dataframe thead th {\n",
       "        text-align: right;\n",
       "    }\n",
       "</style>\n",
       "<table border=\"1\" class=\"dataframe\">\n",
       "  <thead>\n",
       "    <tr style=\"text-align: right;\">\n",
       "      <th></th>\n",
       "      <th>tweet_id</th>\n",
       "      <th>tweet_timestamp</th>\n",
       "      <th>tweet_source</th>\n",
       "      <th>tweet_text</th>\n",
       "      <th>expanded_urls</th>\n",
       "      <th>rating_numerator</th>\n",
       "      <th>rating_denominator</th>\n",
       "      <th>dog_name</th>\n",
       "      <th>dog_stage</th>\n",
       "      <th>jpg_url</th>\n",
       "      <th>img_num</th>\n",
       "      <th>predicted_type</th>\n",
       "      <th>prediction_accuracy</th>\n",
       "    </tr>\n",
       "  </thead>\n",
       "  <tbody>\n",
       "    <tr>\n",
       "      <th>516</th>\n",
       "      <td>810984652412424192</td>\n",
       "      <td>2016-12-19 23:06:23+00:00</td>\n",
       "      <td>&lt;a href=\"http://twitter.com/download/iphone\" r...</td>\n",
       "      <td>Meet Sam. She smiles 24/7 &amp;amp; secretly aspir...</td>\n",
       "      <td>https://www.gofundme.com/sams-smile,https://tw...</td>\n",
       "      <td>24.0</td>\n",
       "      <td>10</td>\n",
       "      <td>Sam</td>\n",
       "      <td>NaN</td>\n",
       "      <td>https://pbs.twimg.com/media/C0EyPZbXAAAceSc.jpg</td>\n",
       "      <td>1.0</td>\n",
       "      <td>golden_retriever</td>\n",
       "      <td>0.871342</td>\n",
       "    </tr>\n",
       "    <tr>\n",
       "      <th>695</th>\n",
       "      <td>786709082849828864</td>\n",
       "      <td>2016-10-13 23:23:56+00:00</td>\n",
       "      <td>&lt;a href=\"http://twitter.com/download/iphone\" r...</td>\n",
       "      <td>This is Logan, the Chow who lived. He solemnly...</td>\n",
       "      <td>https://twitter.com/dog_rates/status/786709082...</td>\n",
       "      <td>75.0</td>\n",
       "      <td>10</td>\n",
       "      <td>Logan</td>\n",
       "      <td>NaN</td>\n",
       "      <td>https://pbs.twimg.com/media/CurzvFTXgAA2_AP.jpg</td>\n",
       "      <td>1.0</td>\n",
       "      <td>Pomeranian</td>\n",
       "      <td>0.467321</td>\n",
       "    </tr>\n",
       "    <tr>\n",
       "      <th>763</th>\n",
       "      <td>778027034220126208</td>\n",
       "      <td>2016-09-20 00:24:34+00:00</td>\n",
       "      <td>&lt;a href=\"http://twitter.com/download/iphone\" r...</td>\n",
       "      <td>This is Sophie. She's a Jubilant Bush Pupper. ...</td>\n",
       "      <td>https://twitter.com/dog_rates/status/778027034...</td>\n",
       "      <td>27.0</td>\n",
       "      <td>10</td>\n",
       "      <td>Sophie</td>\n",
       "      <td>Pupper</td>\n",
       "      <td>https://pbs.twimg.com/media/Cswbc2yWcAAVsCJ.jpg</td>\n",
       "      <td>1.0</td>\n",
       "      <td>clumber</td>\n",
       "      <td>0.946718</td>\n",
       "    </tr>\n",
       "    <tr>\n",
       "      <th>1712</th>\n",
       "      <td>680494726643068929</td>\n",
       "      <td>2015-12-25 21:06:00+00:00</td>\n",
       "      <td>&lt;a href=\"http://twitter.com/download/iphone\" r...</td>\n",
       "      <td>Here we have uncovered an entire battalion of ...</td>\n",
       "      <td>https://twitter.com/dog_rates/status/680494726...</td>\n",
       "      <td>26.0</td>\n",
       "      <td>10</td>\n",
       "      <td>None</td>\n",
       "      <td>NaN</td>\n",
       "      <td>https://pbs.twimg.com/media/CXGaVxOWAAADjhF.jpg</td>\n",
       "      <td>1.0</td>\n",
       "      <td>kuvasz</td>\n",
       "      <td>0.438627</td>\n",
       "    </tr>\n",
       "  </tbody>\n",
       "</table>\n",
       "</div>"
      ],
      "text/plain": [
       "                tweet_id           tweet_timestamp  \\\n",
       "516   810984652412424192 2016-12-19 23:06:23+00:00   \n",
       "695   786709082849828864 2016-10-13 23:23:56+00:00   \n",
       "763   778027034220126208 2016-09-20 00:24:34+00:00   \n",
       "1712  680494726643068929 2015-12-25 21:06:00+00:00   \n",
       "\n",
       "                                           tweet_source  \\\n",
       "516   <a href=\"http://twitter.com/download/iphone\" r...   \n",
       "695   <a href=\"http://twitter.com/download/iphone\" r...   \n",
       "763   <a href=\"http://twitter.com/download/iphone\" r...   \n",
       "1712  <a href=\"http://twitter.com/download/iphone\" r...   \n",
       "\n",
       "                                             tweet_text  \\\n",
       "516   Meet Sam. She smiles 24/7 &amp; secretly aspir...   \n",
       "695   This is Logan, the Chow who lived. He solemnly...   \n",
       "763   This is Sophie. She's a Jubilant Bush Pupper. ...   \n",
       "1712  Here we have uncovered an entire battalion of ...   \n",
       "\n",
       "                                          expanded_urls  rating_numerator  \\\n",
       "516   https://www.gofundme.com/sams-smile,https://tw...              24.0   \n",
       "695   https://twitter.com/dog_rates/status/786709082...              75.0   \n",
       "763   https://twitter.com/dog_rates/status/778027034...              27.0   \n",
       "1712  https://twitter.com/dog_rates/status/680494726...              26.0   \n",
       "\n",
       "      rating_denominator dog_name dog_stage  \\\n",
       "516                   10      Sam       NaN   \n",
       "695                   10    Logan       NaN   \n",
       "763                   10   Sophie    Pupper   \n",
       "1712                  10     None       NaN   \n",
       "\n",
       "                                              jpg_url  img_num  \\\n",
       "516   https://pbs.twimg.com/media/C0EyPZbXAAAceSc.jpg      1.0   \n",
       "695   https://pbs.twimg.com/media/CurzvFTXgAA2_AP.jpg      1.0   \n",
       "763   https://pbs.twimg.com/media/Cswbc2yWcAAVsCJ.jpg      1.0   \n",
       "1712  https://pbs.twimg.com/media/CXGaVxOWAAADjhF.jpg      1.0   \n",
       "\n",
       "        predicted_type  prediction_accuracy  \n",
       "516   golden_retriever             0.871342  \n",
       "695         Pomeranian             0.467321  \n",
       "763            clumber             0.946718  \n",
       "1712            kuvasz             0.438627  "
      ]
     },
     "execution_count": 94,
     "metadata": {},
     "output_type": "execute_result"
    }
   ],
   "source": [
    "tweets_df[tweets_df['rating_numerator'] > 15]"
   ]
  },
  {
   "cell_type": "code",
   "execution_count": 95,
   "metadata": {},
   "outputs": [],
   "source": [
    "# Fix \"rating_numerator\" > 15 manually row by row after investigating the tweet text\n",
    "# they are mistake in extracting the right info. from the text\n",
    "\n",
    "# Convert \"rating_numerator\" type from int64 to float64\n",
    "tweets_df.rating_numerator = tweets_df.rating_numerator.astype(float)\n",
    "\n",
    "numerator_list_index_to_change_2 = (695, 763,1712)\n",
    "numerator_list_new_val_2 = (9.75, 11.27,11.26)\n",
    "tweets_df.loc[numerator_list_index_to_change_2,\"rating_numerator\"] = numerator_list_new_val_2"
   ]
  },
  {
   "cell_type": "code",
   "execution_count": 96,
   "metadata": {},
   "outputs": [
    {
     "data": {
      "text/plain": [
       "1"
      ]
     },
     "execution_count": 96,
     "metadata": {},
     "output_type": "execute_result"
    }
   ],
   "source": [
    "#test\n",
    "tweets_df[tweets_df['rating_numerator'] > 15].rating_numerator.value_counts().sum()"
   ]
  },
  {
   "cell_type": "code",
   "execution_count": 97,
   "metadata": {},
   "outputs": [
    {
     "data": {
      "text/plain": [
       "(1457, 13)"
      ]
     },
     "execution_count": 97,
     "metadata": {},
     "output_type": "execute_result"
    }
   ],
   "source": [
    "tweets_df.shape"
   ]
  },
  {
   "cell_type": "code",
   "execution_count": 98,
   "metadata": {},
   "outputs": [
    {
     "data": {
      "text/plain": [
       "55"
      ]
     },
     "execution_count": 98,
     "metadata": {},
     "output_type": "execute_result"
    }
   ],
   "source": [
    "tweets_df[tweets_df['dog_name'].apply(len) <= 2].dog_name.value_counts().sum()"
   ]
  },
  {
   "cell_type": "code",
   "execution_count": 99,
   "metadata": {},
   "outputs": [
    {
     "data": {
      "text/plain": [
       "a     42\n",
       "Bo     5\n",
       "an     3\n",
       "my     1\n",
       "O      1\n",
       "JD     1\n",
       "Jo     1\n",
       "Ed     1\n",
       "Name: dog_name, dtype: int64"
      ]
     },
     "execution_count": 99,
     "metadata": {},
     "output_type": "execute_result"
    }
   ],
   "source": [
    "tweets_df[tweets_df['dog_name'].apply(len) <= 2].dog_name.value_counts()"
   ]
  },
  {
   "cell_type": "code",
   "execution_count": 100,
   "metadata": {},
   "outputs": [
    {
     "data": {
      "text/html": [
       "<div>\n",
       "<style scoped>\n",
       "    .dataframe tbody tr th:only-of-type {\n",
       "        vertical-align: middle;\n",
       "    }\n",
       "\n",
       "    .dataframe tbody tr th {\n",
       "        vertical-align: top;\n",
       "    }\n",
       "\n",
       "    .dataframe thead th {\n",
       "        text-align: right;\n",
       "    }\n",
       "</style>\n",
       "<table border=\"1\" class=\"dataframe\">\n",
       "  <thead>\n",
       "    <tr style=\"text-align: right;\">\n",
       "      <th></th>\n",
       "      <th>tweet_id</th>\n",
       "      <th>tweet_timestamp</th>\n",
       "      <th>tweet_source</th>\n",
       "      <th>tweet_text</th>\n",
       "      <th>expanded_urls</th>\n",
       "      <th>rating_numerator</th>\n",
       "      <th>rating_denominator</th>\n",
       "      <th>dog_name</th>\n",
       "      <th>dog_stage</th>\n",
       "      <th>jpg_url</th>\n",
       "      <th>img_num</th>\n",
       "      <th>predicted_type</th>\n",
       "      <th>prediction_accuracy</th>\n",
       "    </tr>\n",
       "  </thead>\n",
       "  <tbody>\n",
       "    <tr>\n",
       "      <th>56</th>\n",
       "      <td>881536004380872706</td>\n",
       "      <td>2017-07-02 15:32:16+00:00</td>\n",
       "      <td>&lt;a href=\"http://twitter.com/download/iphone\" r...</td>\n",
       "      <td>Here is a pupper approaching maximum borkdrive...</td>\n",
       "      <td>https://twitter.com/dog_rates/status/881536004...</td>\n",
       "      <td>14.0</td>\n",
       "      <td>10</td>\n",
       "      <td>a</td>\n",
       "      <td>Pupper</td>\n",
       "      <td>https://pbs.twimg.com/ext_tw_video_thumb/88153...</td>\n",
       "      <td>1.0</td>\n",
       "      <td>Samoyed</td>\n",
       "      <td>0.281463</td>\n",
       "    </tr>\n",
       "    <tr>\n",
       "      <th>449</th>\n",
       "      <td>819004803107983360</td>\n",
       "      <td>2017-01-11 02:15:36+00:00</td>\n",
       "      <td>&lt;a href=\"http://twitter.com/download/iphone\" r...</td>\n",
       "      <td>This is Bo. He was a very good First Doggo. 14...</td>\n",
       "      <td>https://twitter.com/dog_rates/status/819004803...</td>\n",
       "      <td>14.0</td>\n",
       "      <td>10</td>\n",
       "      <td>Bo</td>\n",
       "      <td>Doggo</td>\n",
       "      <td>https://pbs.twimg.com/media/C12whDoVEAALRxa.jpg</td>\n",
       "      <td>1.0</td>\n",
       "      <td>standard_poodle</td>\n",
       "      <td>0.351308</td>\n",
       "    </tr>\n",
       "    <tr>\n",
       "      <th>679</th>\n",
       "      <td>789137962068021249</td>\n",
       "      <td>2016-10-20 16:15:26+00:00</td>\n",
       "      <td>&lt;a href=\"http://twitter.com/download/iphone\" r...</td>\n",
       "      <td>This is Bo. He's a West Congolese Bugaboop Snu...</td>\n",
       "      <td>https://twitter.com/dog_rates/status/789137962...</td>\n",
       "      <td>12.0</td>\n",
       "      <td>10</td>\n",
       "      <td>Bo</td>\n",
       "      <td>NaN</td>\n",
       "      <td>https://pbs.twimg.com/media/CvOUw8vWYAAzJDq.jpg</td>\n",
       "      <td>2.0</td>\n",
       "      <td>Chihuahua</td>\n",
       "      <td>0.746135</td>\n",
       "    </tr>\n",
       "    <tr>\n",
       "      <th>775</th>\n",
       "      <td>776201521193218049</td>\n",
       "      <td>2016-09-14 23:30:38+00:00</td>\n",
       "      <td>&lt;a href=\"http://twitter.com/download/iphone\" r...</td>\n",
       "      <td>This is O'Malley. That is how he sleeps. Doesn...</td>\n",
       "      <td>https://twitter.com/dog_rates/status/776201521...</td>\n",
       "      <td>10.0</td>\n",
       "      <td>10</td>\n",
       "      <td>O</td>\n",
       "      <td>NaN</td>\n",
       "      <td>https://pbs.twimg.com/media/CsWfKadWEAAtmlS.jpg</td>\n",
       "      <td>1.0</td>\n",
       "      <td>Rottweiler</td>\n",
       "      <td>0.502228</td>\n",
       "    </tr>\n",
       "    <tr>\n",
       "      <th>801</th>\n",
       "      <td>772581559778025472</td>\n",
       "      <td>2016-09-04 23:46:12+00:00</td>\n",
       "      <td>&lt;a href=\"http://twitter.com/download/iphone\" r...</td>\n",
       "      <td>Guys this is getting so out of hand. We only r...</td>\n",
       "      <td>https://twitter.com/dog_rates/status/772581559...</td>\n",
       "      <td>10.0</td>\n",
       "      <td>10</td>\n",
       "      <td>a</td>\n",
       "      <td>NaN</td>\n",
       "      <td>https://pbs.twimg.com/media/CrjC0JAWAAAjz6n.jpg</td>\n",
       "      <td>3.0</td>\n",
       "      <td>Newfoundland</td>\n",
       "      <td>0.574345</td>\n",
       "    </tr>\n",
       "    <tr>\n",
       "      <th>852</th>\n",
       "      <td>765395769549590528</td>\n",
       "      <td>2016-08-16 03:52:26+00:00</td>\n",
       "      <td>&lt;a href=\"http://twitter.com/download/iphone\" r...</td>\n",
       "      <td>This is my dog. Her name is Zoey. She knows I'...</td>\n",
       "      <td>https://twitter.com/dog_rates/status/765395769...</td>\n",
       "      <td>13.0</td>\n",
       "      <td>10</td>\n",
       "      <td>my</td>\n",
       "      <td>NaN</td>\n",
       "      <td>https://pbs.twimg.com/media/Cp87Y0jXYAQyjuV.jpg</td>\n",
       "      <td>1.0</td>\n",
       "      <td>Pembroke</td>\n",
       "      <td>0.509491</td>\n",
       "    </tr>\n",
       "    <tr>\n",
       "      <th>876</th>\n",
       "      <td>761004547850530816</td>\n",
       "      <td>2016-08-04 01:03:17+00:00</td>\n",
       "      <td>&lt;a href=\"http://twitter.com/download/iphone\" r...</td>\n",
       "      <td>This is Bo and Ty. Bo eats paper and Ty felt l...</td>\n",
       "      <td>https://twitter.com/dog_rates/status/761004547...</td>\n",
       "      <td>11.0</td>\n",
       "      <td>10</td>\n",
       "      <td>Bo</td>\n",
       "      <td>NaN</td>\n",
       "      <td>https://pbs.twimg.com/media/Co-hmcYXYAASkiG.jpg</td>\n",
       "      <td>1.0</td>\n",
       "      <td>golden_retriever</td>\n",
       "      <td>0.735163</td>\n",
       "    </tr>\n",
       "    <tr>\n",
       "      <th>978</th>\n",
       "      <td>749996283729883136</td>\n",
       "      <td>2016-07-04 16:00:22+00:00</td>\n",
       "      <td>&lt;a href=\"https://about.twitter.com/products/tw...</td>\n",
       "      <td>This is Bo. He emanates happiness. 12/10 I cou...</td>\n",
       "      <td>https://twitter.com/dog_rates/status/749996283...</td>\n",
       "      <td>12.0</td>\n",
       "      <td>10</td>\n",
       "      <td>Bo</td>\n",
       "      <td>NaN</td>\n",
       "      <td>https://pbs.twimg.com/media/CmfoyrrW8AA8v7w.jpg</td>\n",
       "      <td>1.0</td>\n",
       "      <td>Old_English_sheepdog</td>\n",
       "      <td>0.515319</td>\n",
       "    </tr>\n",
       "    <tr>\n",
       "      <th>1002</th>\n",
       "      <td>747885874273214464</td>\n",
       "      <td>2016-06-28 20:14:22+00:00</td>\n",
       "      <td>&lt;a href=\"http://twitter.com/download/iphone\" r...</td>\n",
       "      <td>This is a mighty rare blue-tailed hammer sherk...</td>\n",
       "      <td>https://twitter.com/dog_rates/status/747885874...</td>\n",
       "      <td>8.0</td>\n",
       "      <td>10</td>\n",
       "      <td>a</td>\n",
       "      <td>NaN</td>\n",
       "      <td>https://pbs.twimg.com/media/CmEGMSvUYAAl3ZM.jpg</td>\n",
       "      <td>1.0</td>\n",
       "      <td>kuvasz</td>\n",
       "      <td>0.408450</td>\n",
       "    </tr>\n",
       "    <tr>\n",
       "      <th>1017</th>\n",
       "      <td>746872823977771008</td>\n",
       "      <td>2016-06-26 01:08:52+00:00</td>\n",
       "      <td>&lt;a href=\"http://twitter.com/download/iphone\" r...</td>\n",
       "      <td>This is a carrot. We only rate dogs. Please on...</td>\n",
       "      <td>https://twitter.com/dog_rates/status/746872823...</td>\n",
       "      <td>11.0</td>\n",
       "      <td>10</td>\n",
       "      <td>a</td>\n",
       "      <td>NaN</td>\n",
       "      <td>https://pbs.twimg.com/media/Cl1s1p7WMAA44Vk.jpg</td>\n",
       "      <td>1.0</td>\n",
       "      <td>Pembroke</td>\n",
       "      <td>0.540201</td>\n",
       "    </tr>\n",
       "    <tr>\n",
       "      <th>1025</th>\n",
       "      <td>746369468511756288</td>\n",
       "      <td>2016-06-24 15:48:42+00:00</td>\n",
       "      <td>&lt;a href=\"http://twitter.com/download/iphone\" r...</td>\n",
       "      <td>This is an Iraqi Speed Kangaroo. It is not a d...</td>\n",
       "      <td>https://twitter.com/dog_rates/status/746369468...</td>\n",
       "      <td>9.0</td>\n",
       "      <td>10</td>\n",
       "      <td>an</td>\n",
       "      <td>NaN</td>\n",
       "      <td>https://pbs.twimg.com/media/ClujESVXEAA4uH8.jpg</td>\n",
       "      <td>1.0</td>\n",
       "      <td>German_shepherd</td>\n",
       "      <td>0.622957</td>\n",
       "    </tr>\n",
       "    <tr>\n",
       "      <th>1049</th>\n",
       "      <td>743222593470234624</td>\n",
       "      <td>2016-06-15 23:24:09+00:00</td>\n",
       "      <td>&lt;a href=\"http://twitter.com/download/iphone\" r...</td>\n",
       "      <td>This is a very rare Great Alaskan Bush Pupper....</td>\n",
       "      <td>https://twitter.com/dog_rates/status/743222593...</td>\n",
       "      <td>12.0</td>\n",
       "      <td>10</td>\n",
       "      <td>a</td>\n",
       "      <td>Pupper</td>\n",
       "      <td>https://pbs.twimg.com/media/ClB09z0WYAAA1jz.jpg</td>\n",
       "      <td>1.0</td>\n",
       "      <td>kuvasz</td>\n",
       "      <td>0.350629</td>\n",
       "    </tr>\n",
       "    <tr>\n",
       "      <th>1193</th>\n",
       "      <td>717537687239008257</td>\n",
       "      <td>2016-04-06 02:21:30+00:00</td>\n",
       "      <td>&lt;a href=\"http://twitter.com/download/iphone\" r...</td>\n",
       "      <td>People please. This is a Deadly Mediterranean ...</td>\n",
       "      <td>https://twitter.com/dog_rates/status/717537687...</td>\n",
       "      <td>11.0</td>\n",
       "      <td>10</td>\n",
       "      <td>a</td>\n",
       "      <td>NaN</td>\n",
       "      <td>https://pbs.twimg.com/media/CfU0t75W4AAUo9V.jpg</td>\n",
       "      <td>1.0</td>\n",
       "      <td>golden_retriever</td>\n",
       "      <td>0.779356</td>\n",
       "    </tr>\n",
       "    <tr>\n",
       "      <th>1207</th>\n",
       "      <td>715733265223708672</td>\n",
       "      <td>2016-04-01 02:51:22+00:00</td>\n",
       "      <td>&lt;a href=\"http://twitter.com/download/iphone\" r...</td>\n",
       "      <td>This is a taco. We only rate dogs. Please only...</td>\n",
       "      <td>https://twitter.com/dog_rates/status/715733265...</td>\n",
       "      <td>10.0</td>\n",
       "      <td>10</td>\n",
       "      <td>a</td>\n",
       "      <td>NaN</td>\n",
       "      <td>https://pbs.twimg.com/media/Ce7LlUeUUAEQkQl.jpg</td>\n",
       "      <td>1.0</td>\n",
       "      <td>Dandie_Dinmont</td>\n",
       "      <td>0.740229</td>\n",
       "    </tr>\n",
       "    <tr>\n",
       "      <th>1340</th>\n",
       "      <td>704859558691414016</td>\n",
       "      <td>2016-03-02 02:43:09+00:00</td>\n",
       "      <td>&lt;a href=\"http://twitter.com/download/iphone\" r...</td>\n",
       "      <td>Here is a heartbreaking scene of an incredible...</td>\n",
       "      <td>https://twitter.com/dog_rates/status/704859558...</td>\n",
       "      <td>10.0</td>\n",
       "      <td>10</td>\n",
       "      <td>a</td>\n",
       "      <td>Pupper</td>\n",
       "      <td>https://pbs.twimg.com/media/CcgqBNVW8AE76lv.jpg</td>\n",
       "      <td>1.0</td>\n",
       "      <td>pug</td>\n",
       "      <td>0.284428</td>\n",
       "    </tr>\n",
       "    <tr>\n",
       "      <th>1351</th>\n",
       "      <td>704054845121142784</td>\n",
       "      <td>2016-02-28 21:25:30+00:00</td>\n",
       "      <td>&lt;a href=\"http://twitter.com/download/iphone\" r...</td>\n",
       "      <td>Here is a whole flock of puppers.  60/50 I'll ...</td>\n",
       "      <td>https://twitter.com/dog_rates/status/704054845...</td>\n",
       "      <td>12.0</td>\n",
       "      <td>10</td>\n",
       "      <td>a</td>\n",
       "      <td>NaN</td>\n",
       "      <td>https://pbs.twimg.com/media/CcVOJEcXEAM0FHL.jpg</td>\n",
       "      <td>1.0</td>\n",
       "      <td>Great_Pyrenees</td>\n",
       "      <td>0.667939</td>\n",
       "    </tr>\n",
       "    <tr>\n",
       "      <th>1361</th>\n",
       "      <td>703079050210877440</td>\n",
       "      <td>2016-02-26 04:48:02+00:00</td>\n",
       "      <td>&lt;a href=\"http://twitter.com/download/iphone\" r...</td>\n",
       "      <td>This is a Butternut Cumberfloof. It's not wind...</td>\n",
       "      <td>https://twitter.com/dog_rates/status/703079050...</td>\n",
       "      <td>11.0</td>\n",
       "      <td>10</td>\n",
       "      <td>a</td>\n",
       "      <td>NaN</td>\n",
       "      <td>https://pbs.twimg.com/media/CcHWqQCW8AEb0ZH.jpg</td>\n",
       "      <td>2.0</td>\n",
       "      <td>Pembroke</td>\n",
       "      <td>0.778503</td>\n",
       "    </tr>\n",
       "    <tr>\n",
       "      <th>1368</th>\n",
       "      <td>702539513671897089</td>\n",
       "      <td>2016-02-24 17:04:07+00:00</td>\n",
       "      <td>&lt;a href=\"http://twitter.com/download/iphone\" r...</td>\n",
       "      <td>This is a Wild Tuscan Poofwiggle. Careful not ...</td>\n",
       "      <td>https://twitter.com/dog_rates/status/702539513...</td>\n",
       "      <td>12.0</td>\n",
       "      <td>10</td>\n",
       "      <td>a</td>\n",
       "      <td>NaN</td>\n",
       "      <td>https://pbs.twimg.com/media/Cb_r8qTUsAASgdF.jpg</td>\n",
       "      <td>3.0</td>\n",
       "      <td>Pomeranian</td>\n",
       "      <td>0.714367</td>\n",
       "    </tr>\n",
       "    <tr>\n",
       "      <th>1382</th>\n",
       "      <td>700864154249383937</td>\n",
       "      <td>2016-02-20 02:06:50+00:00</td>\n",
       "      <td>&lt;a href=\"http://twitter.com/download/iphone\" r...</td>\n",
       "      <td>\"Pupper is a present to world. Here is a bow f...</td>\n",
       "      <td>https://twitter.com/dog_rates/status/700864154...</td>\n",
       "      <td>12.0</td>\n",
       "      <td>10</td>\n",
       "      <td>a</td>\n",
       "      <td>Pupper</td>\n",
       "      <td>https://pbs.twimg.com/media/Cbn4OqKWwAADGWt.jpg</td>\n",
       "      <td>1.0</td>\n",
       "      <td>kuvasz</td>\n",
       "      <td>0.805857</td>\n",
       "    </tr>\n",
       "    <tr>\n",
       "      <th>1499</th>\n",
       "      <td>692187005137076224</td>\n",
       "      <td>2016-01-27 03:26:56+00:00</td>\n",
       "      <td>&lt;a href=\"http://twitter.com/download/iphone\" r...</td>\n",
       "      <td>This is a rare Arctic Wubberfloof. Unamused by...</td>\n",
       "      <td>https://twitter.com/dog_rates/status/692187005...</td>\n",
       "      <td>12.0</td>\n",
       "      <td>10</td>\n",
       "      <td>a</td>\n",
       "      <td>NaN</td>\n",
       "      <td>https://pbs.twimg.com/media/CZskaEIWIAUeTr5.jpg</td>\n",
       "      <td>2.0</td>\n",
       "      <td>Siberian_husky</td>\n",
       "      <td>0.810592</td>\n",
       "    </tr>\n",
       "    <tr>\n",
       "      <th>1683</th>\n",
       "      <td>681694085539872773</td>\n",
       "      <td>2015-12-29 04:31:49+00:00</td>\n",
       "      <td>&lt;a href=\"http://twitter.com/download/iphone\" r...</td>\n",
       "      <td>This is Bo. He's a Benedoop Cumbersnatch. Seem...</td>\n",
       "      <td>https://twitter.com/dog_rates/status/681694085...</td>\n",
       "      <td>11.0</td>\n",
       "      <td>10</td>\n",
       "      <td>Bo</td>\n",
       "      <td>Pupper</td>\n",
       "      <td>https://pbs.twimg.com/media/CXXdJ7CVAAALu23.jpg</td>\n",
       "      <td>1.0</td>\n",
       "      <td>toy_poodle</td>\n",
       "      <td>0.920992</td>\n",
       "    </tr>\n",
       "    <tr>\n",
       "      <th>1737</th>\n",
       "      <td>679530280114372609</td>\n",
       "      <td>2015-12-23 05:13:38+00:00</td>\n",
       "      <td>&lt;a href=\"http://twitter.com/download/iphone\" r...</td>\n",
       "      <td>Guys this really needs to stop. We've been ove...</td>\n",
       "      <td>https://twitter.com/dog_rates/status/679530280...</td>\n",
       "      <td>7.0</td>\n",
       "      <td>10</td>\n",
       "      <td>a</td>\n",
       "      <td>NaN</td>\n",
       "      <td>https://pbs.twimg.com/media/CW4tL1vWcAIw1dw.jpg</td>\n",
       "      <td>1.0</td>\n",
       "      <td>dalmatian</td>\n",
       "      <td>0.750256</td>\n",
       "    </tr>\n",
       "    <tr>\n",
       "      <th>1785</th>\n",
       "      <td>677644091929329666</td>\n",
       "      <td>2015-12-18 00:18:36+00:00</td>\n",
       "      <td>&lt;a href=\"http://twitter.com/download/iphone\" r...</td>\n",
       "      <td>This is a dog swinging. I really enjoyed it so...</td>\n",
       "      <td>https://twitter.com/dog_rates/status/677644091...</td>\n",
       "      <td>11.0</td>\n",
       "      <td>10</td>\n",
       "      <td>a</td>\n",
       "      <td>NaN</td>\n",
       "      <td>https://pbs.twimg.com/ext_tw_video_thumb/67764...</td>\n",
       "      <td>1.0</td>\n",
       "      <td>Chihuahua</td>\n",
       "      <td>0.626236</td>\n",
       "    </tr>\n",
       "    <tr>\n",
       "      <th>1853</th>\n",
       "      <td>675706639471788032</td>\n",
       "      <td>2015-12-12 15:59:51+00:00</td>\n",
       "      <td>&lt;a href=\"http://twitter.com/download/iphone\" r...</td>\n",
       "      <td>This is a Sizzlin Menorah spaniel from Brookly...</td>\n",
       "      <td>https://twitter.com/dog_rates/status/675706639...</td>\n",
       "      <td>10.0</td>\n",
       "      <td>10</td>\n",
       "      <td>a</td>\n",
       "      <td>NaN</td>\n",
       "      <td>https://pbs.twimg.com/media/CWCXj35VEAIFvtk.jpg</td>\n",
       "      <td>1.0</td>\n",
       "      <td>English_springer</td>\n",
       "      <td>0.990300</td>\n",
       "    </tr>\n",
       "    <tr>\n",
       "      <th>1854</th>\n",
       "      <td>675534494439489536</td>\n",
       "      <td>2015-12-12 04:35:48+00:00</td>\n",
       "      <td>&lt;a href=\"http://twitter.com/download/iphone\" r...</td>\n",
       "      <td>Seriously guys?! Only send in dogs. I only rat...</td>\n",
       "      <td>https://twitter.com/dog_rates/status/675534494...</td>\n",
       "      <td>11.0</td>\n",
       "      <td>10</td>\n",
       "      <td>a</td>\n",
       "      <td>NaN</td>\n",
       "      <td>https://pbs.twimg.com/media/CV_7CV6XIAEV05u.jpg</td>\n",
       "      <td>1.0</td>\n",
       "      <td>chow</td>\n",
       "      <td>0.749368</td>\n",
       "    </tr>\n",
       "    <tr>\n",
       "      <th>1877</th>\n",
       "      <td>675109292475830276</td>\n",
       "      <td>2015-12-11 00:26:12+00:00</td>\n",
       "      <td>&lt;a href=\"http://twitter.com/download/iphone\" r...</td>\n",
       "      <td>C'mon guys. We've been over this. We only rate...</td>\n",
       "      <td>https://twitter.com/dog_rates/status/675109292...</td>\n",
       "      <td>9.0</td>\n",
       "      <td>10</td>\n",
       "      <td>a</td>\n",
       "      <td>NaN</td>\n",
       "      <td>https://pbs.twimg.com/media/CV54UQTXAAAGf-j.jpg</td>\n",
       "      <td>1.0</td>\n",
       "      <td>dalmatian</td>\n",
       "      <td>0.989519</td>\n",
       "    </tr>\n",
       "    <tr>\n",
       "      <th>1878</th>\n",
       "      <td>675047298674663426</td>\n",
       "      <td>2015-12-10 20:19:52+00:00</td>\n",
       "      <td>&lt;a href=\"http://twitter.com/download/iphone\" r...</td>\n",
       "      <td>This is a fluffy albino Bacardi Columbia mix. ...</td>\n",
       "      <td>https://twitter.com/dog_rates/status/675047298...</td>\n",
       "      <td>11.0</td>\n",
       "      <td>10</td>\n",
       "      <td>a</td>\n",
       "      <td>NaN</td>\n",
       "      <td>https://pbs.twimg.com/media/CV4_8FgXAAQOj4S.jpg</td>\n",
       "      <td>1.0</td>\n",
       "      <td>Samoyed</td>\n",
       "      <td>0.978007</td>\n",
       "    </tr>\n",
       "    <tr>\n",
       "      <th>1923</th>\n",
       "      <td>674082852460433408</td>\n",
       "      <td>2015-12-08 04:27:30+00:00</td>\n",
       "      <td>&lt;a href=\"http://twitter.com/download/iphone\" r...</td>\n",
       "      <td>This is a Sagitariot Baklava mix. Loves her ne...</td>\n",
       "      <td>https://twitter.com/dog_rates/status/674082852...</td>\n",
       "      <td>11.0</td>\n",
       "      <td>10</td>\n",
       "      <td>a</td>\n",
       "      <td>NaN</td>\n",
       "      <td>https://pbs.twimg.com/media/CVrSxy7WsAAFD2F.jpg</td>\n",
       "      <td>1.0</td>\n",
       "      <td>Pomeranian</td>\n",
       "      <td>0.666957</td>\n",
       "    </tr>\n",
       "    <tr>\n",
       "      <th>1988</th>\n",
       "      <td>672834301050937345</td>\n",
       "      <td>2015-12-04 17:46:12+00:00</td>\n",
       "      <td>&lt;a href=\"http://twitter.com/download/iphone\" r...</td>\n",
       "      <td>This is Ed. He's not mad, just disappointed. 1...</td>\n",
       "      <td>https://twitter.com/dog_rates/status/672834301...</td>\n",
       "      <td>10.0</td>\n",
       "      <td>10</td>\n",
       "      <td>Ed</td>\n",
       "      <td>NaN</td>\n",
       "      <td>https://pbs.twimg.com/media/CVZjOktVAAAtigw.jpg</td>\n",
       "      <td>1.0</td>\n",
       "      <td>Pembroke</td>\n",
       "      <td>0.582560</td>\n",
       "    </tr>\n",
       "    <tr>\n",
       "      <th>1994</th>\n",
       "      <td>672604026190569472</td>\n",
       "      <td>2015-12-04 02:31:10+00:00</td>\n",
       "      <td>&lt;a href=\"http://twitter.com/download/iphone\" r...</td>\n",
       "      <td>This is a baby Rand Paul. Curls for days. 11/1...</td>\n",
       "      <td>https://twitter.com/dog_rates/status/672604026...</td>\n",
       "      <td>11.0</td>\n",
       "      <td>10</td>\n",
       "      <td>a</td>\n",
       "      <td>NaN</td>\n",
       "      <td>https://pbs.twimg.com/media/CVWRyylWIAAMltv.jpg</td>\n",
       "      <td>1.0</td>\n",
       "      <td>toy_poodle</td>\n",
       "      <td>0.820158</td>\n",
       "    </tr>\n",
       "    <tr>\n",
       "      <th>2034</th>\n",
       "      <td>671743150407421952</td>\n",
       "      <td>2015-12-01 17:30:22+00:00</td>\n",
       "      <td>&lt;a href=\"http://twitter.com/download/iphone\" r...</td>\n",
       "      <td>This is a Tuscaloosa Alcatraz named Jacob (Yac...</td>\n",
       "      <td>https://twitter.com/dog_rates/status/671743150...</td>\n",
       "      <td>11.0</td>\n",
       "      <td>10</td>\n",
       "      <td>a</td>\n",
       "      <td>NaN</td>\n",
       "      <td>https://pbs.twimg.com/media/CVKC1IfWIAAsQks.jpg</td>\n",
       "      <td>1.0</td>\n",
       "      <td>toy_poodle</td>\n",
       "      <td>0.419427</td>\n",
       "    </tr>\n",
       "    <tr>\n",
       "      <th>2041</th>\n",
       "      <td>671542985629241344</td>\n",
       "      <td>2015-12-01 04:14:59+00:00</td>\n",
       "      <td>&lt;a href=\"http://twitter.com/download/iphone\" r...</td>\n",
       "      <td>This is JD (stands for \"just dog\"). He's like ...</td>\n",
       "      <td>https://twitter.com/dog_rates/status/671542985...</td>\n",
       "      <td>10.0</td>\n",
       "      <td>10</td>\n",
       "      <td>JD</td>\n",
       "      <td>NaN</td>\n",
       "      <td>https://pbs.twimg.com/media/CVHMyHMWwAALYXs.jpg</td>\n",
       "      <td>1.0</td>\n",
       "      <td>Shetland_sheepdog</td>\n",
       "      <td>0.980339</td>\n",
       "    </tr>\n",
       "    <tr>\n",
       "      <th>2066</th>\n",
       "      <td>671147085991960577</td>\n",
       "      <td>2015-11-30 02:01:49+00:00</td>\n",
       "      <td>&lt;a href=\"http://twitter.com/download/iphone\" r...</td>\n",
       "      <td>This is a Helvetica Listerine named Rufus. Thi...</td>\n",
       "      <td>https://twitter.com/dog_rates/status/671147085...</td>\n",
       "      <td>9.0</td>\n",
       "      <td>10</td>\n",
       "      <td>a</td>\n",
       "      <td>NaN</td>\n",
       "      <td>https://pbs.twimg.com/media/CVBktzQXAAAPpUA.jpg</td>\n",
       "      <td>1.0</td>\n",
       "      <td>Yorkshire_terrier</td>\n",
       "      <td>0.467202</td>\n",
       "    </tr>\n",
       "    <tr>\n",
       "      <th>2128</th>\n",
       "      <td>670303360680108032</td>\n",
       "      <td>2015-11-27 18:09:09+00:00</td>\n",
       "      <td>&lt;a href=\"http://twitter.com/download/iphone\" r...</td>\n",
       "      <td>This is a Speckled Cauliflower Yosemite named ...</td>\n",
       "      <td>https://twitter.com/dog_rates/status/670303360...</td>\n",
       "      <td>9.0</td>\n",
       "      <td>10</td>\n",
       "      <td>a</td>\n",
       "      <td>NaN</td>\n",
       "      <td>https://pbs.twimg.com/media/CU1lWFaVAAAl0HG.jpg</td>\n",
       "      <td>1.0</td>\n",
       "      <td>Shetland_sheepdog</td>\n",
       "      <td>0.380278</td>\n",
       "    </tr>\n",
       "    <tr>\n",
       "      <th>2161</th>\n",
       "      <td>669564461267722241</td>\n",
       "      <td>2015-11-25 17:13:02+00:00</td>\n",
       "      <td>&lt;a href=\"http://twitter.com/download/iphone\" r...</td>\n",
       "      <td>This is a Coriander Baton Rouge named Alfredo....</td>\n",
       "      <td>https://twitter.com/dog_rates/status/669564461...</td>\n",
       "      <td>10.0</td>\n",
       "      <td>10</td>\n",
       "      <td>a</td>\n",
       "      <td>NaN</td>\n",
       "      <td>https://pbs.twimg.com/media/CUrFUvDVAAA9H-F.jpg</td>\n",
       "      <td>1.0</td>\n",
       "      <td>toy_poodle</td>\n",
       "      <td>0.623685</td>\n",
       "    </tr>\n",
       "    <tr>\n",
       "      <th>2191</th>\n",
       "      <td>668955713004314625</td>\n",
       "      <td>2015-11-24 00:54:05+00:00</td>\n",
       "      <td>&lt;a href=\"http://twitter.com/download/iphone\" r...</td>\n",
       "      <td>This is a Slovakian Helter Skelter Feta named ...</td>\n",
       "      <td>https://twitter.com/dog_rates/status/668955713...</td>\n",
       "      <td>10.0</td>\n",
       "      <td>10</td>\n",
       "      <td>a</td>\n",
       "      <td>NaN</td>\n",
       "      <td>https://pbs.twimg.com/media/CUibq3uVAAAup_O.jpg</td>\n",
       "      <td>1.0</td>\n",
       "      <td>cocker_spaniel</td>\n",
       "      <td>0.367492</td>\n",
       "    </tr>\n",
       "    <tr>\n",
       "      <th>2198</th>\n",
       "      <td>668815180734689280</td>\n",
       "      <td>2015-11-23 15:35:39+00:00</td>\n",
       "      <td>&lt;a href=\"http://twitter.com/download/iphone\" r...</td>\n",
       "      <td>This is a wild Toblerone from Papua New Guinea...</td>\n",
       "      <td>https://twitter.com/dog_rates/status/668815180...</td>\n",
       "      <td>7.0</td>\n",
       "      <td>10</td>\n",
       "      <td>a</td>\n",
       "      <td>NaN</td>\n",
       "      <td>https://pbs.twimg.com/media/CUgb21RXIAAlff7.jpg</td>\n",
       "      <td>1.0</td>\n",
       "      <td>redbone</td>\n",
       "      <td>0.461172</td>\n",
       "    </tr>\n",
       "    <tr>\n",
       "      <th>2204</th>\n",
       "      <td>668636665813057536</td>\n",
       "      <td>2015-11-23 03:46:18+00:00</td>\n",
       "      <td>&lt;a href=\"http://twitter.com/download/iphone\" r...</td>\n",
       "      <td>This is an Irish Rigatoni terrier named Berta....</td>\n",
       "      <td>https://twitter.com/dog_rates/status/668636665...</td>\n",
       "      <td>10.0</td>\n",
       "      <td>10</td>\n",
       "      <td>an</td>\n",
       "      <td>NaN</td>\n",
       "      <td>https://pbs.twimg.com/media/CUd5gBGWwAA0IVA.jpg</td>\n",
       "      <td>1.0</td>\n",
       "      <td>komondor</td>\n",
       "      <td>0.999956</td>\n",
       "    </tr>\n",
       "    <tr>\n",
       "      <th>2218</th>\n",
       "      <td>668507509523615744</td>\n",
       "      <td>2015-11-22 19:13:05+00:00</td>\n",
       "      <td>&lt;a href=\"http://twitter.com/download/iphone\" r...</td>\n",
       "      <td>This is a Birmingham Quagmire named Chuk. Love...</td>\n",
       "      <td>https://twitter.com/dog_rates/status/668507509...</td>\n",
       "      <td>10.0</td>\n",
       "      <td>10</td>\n",
       "      <td>a</td>\n",
       "      <td>NaN</td>\n",
       "      <td>https://pbs.twimg.com/media/CUcECBYWcAAzFRg.jpg</td>\n",
       "      <td>1.0</td>\n",
       "      <td>basenji</td>\n",
       "      <td>0.055379</td>\n",
       "    </tr>\n",
       "    <tr>\n",
       "      <th>2219</th>\n",
       "      <td>668496999348633600</td>\n",
       "      <td>2015-11-22 18:31:19+00:00</td>\n",
       "      <td>&lt;a href=\"http://twitter.com/download/iphone\" r...</td>\n",
       "      <td>This is Jo. Jo is a Swedish Queso. Tongue bigg...</td>\n",
       "      <td>https://twitter.com/dog_rates/status/668496999...</td>\n",
       "      <td>8.0</td>\n",
       "      <td>10</td>\n",
       "      <td>Jo</td>\n",
       "      <td>NaN</td>\n",
       "      <td>https://pbs.twimg.com/media/CUb6ebKWcAAJkd0.jpg</td>\n",
       "      <td>1.0</td>\n",
       "      <td>Staffordshire_bullterrier</td>\n",
       "      <td>0.412879</td>\n",
       "    </tr>\n",
       "    <tr>\n",
       "      <th>2235</th>\n",
       "      <td>668171859951755264</td>\n",
       "      <td>2015-11-21 20:59:20+00:00</td>\n",
       "      <td>&lt;a href=\"http://twitter.com/download/iphone\" r...</td>\n",
       "      <td>This is a Trans Siberian Kellogg named Alfonso...</td>\n",
       "      <td>https://twitter.com/dog_rates/status/668171859...</td>\n",
       "      <td>7.0</td>\n",
       "      <td>10</td>\n",
       "      <td>a</td>\n",
       "      <td>NaN</td>\n",
       "      <td>https://pbs.twimg.com/media/CUXSwy8W4AA6uet.jpg</td>\n",
       "      <td>1.0</td>\n",
       "      <td>Chihuahua</td>\n",
       "      <td>0.664834</td>\n",
       "    </tr>\n",
       "    <tr>\n",
       "      <th>2249</th>\n",
       "      <td>667861340749471744</td>\n",
       "      <td>2015-11-21 00:25:26+00:00</td>\n",
       "      <td>&lt;a href=\"http://twitter.com/download/iphone\" r...</td>\n",
       "      <td>This is a Shotokon Macadamia mix named Cheryl....</td>\n",
       "      <td>https://twitter.com/dog_rates/status/667861340...</td>\n",
       "      <td>9.0</td>\n",
       "      <td>10</td>\n",
       "      <td>a</td>\n",
       "      <td>NaN</td>\n",
       "      <td>https://pbs.twimg.com/media/CUS4WJ-UsAEJj10.jpg</td>\n",
       "      <td>1.0</td>\n",
       "      <td>malamute</td>\n",
       "      <td>0.967275</td>\n",
       "    </tr>\n",
       "    <tr>\n",
       "      <th>2255</th>\n",
       "      <td>667773195014021121</td>\n",
       "      <td>2015-11-20 18:35:10+00:00</td>\n",
       "      <td>&lt;a href=\"http://twitter.com\" rel=\"nofollow\"&gt;Tw...</td>\n",
       "      <td>This is a rare Hungarian Pinot named Jessiga. ...</td>\n",
       "      <td>https://twitter.com/dog_rates/status/667773195...</td>\n",
       "      <td>8.0</td>\n",
       "      <td>10</td>\n",
       "      <td>a</td>\n",
       "      <td>NaN</td>\n",
       "      <td>https://pbs.twimg.com/media/CURoLrOVEAAaWdR.jpg</td>\n",
       "      <td>1.0</td>\n",
       "      <td>West_Highland_white_terrier</td>\n",
       "      <td>0.360465</td>\n",
       "    </tr>\n",
       "    <tr>\n",
       "      <th>2264</th>\n",
       "      <td>667538891197542400</td>\n",
       "      <td>2015-11-20 03:04:08+00:00</td>\n",
       "      <td>&lt;a href=\"http://twitter.com\" rel=\"nofollow\"&gt;Tw...</td>\n",
       "      <td>This is a southwest Coriander named Klint. Hat...</td>\n",
       "      <td>https://twitter.com/dog_rates/status/667538891...</td>\n",
       "      <td>9.0</td>\n",
       "      <td>10</td>\n",
       "      <td>a</td>\n",
       "      <td>NaN</td>\n",
       "      <td>https://pbs.twimg.com/media/CUOTFZOW4AABsfW.jpg</td>\n",
       "      <td>1.0</td>\n",
       "      <td>Yorkshire_terrier</td>\n",
       "      <td>0.618957</td>\n",
       "    </tr>\n",
       "    <tr>\n",
       "      <th>2273</th>\n",
       "      <td>667470559035432960</td>\n",
       "      <td>2015-11-19 22:32:36+00:00</td>\n",
       "      <td>&lt;a href=\"http://twitter.com\" rel=\"nofollow\"&gt;Tw...</td>\n",
       "      <td>This is a northern Wahoo named Kohl. He runs t...</td>\n",
       "      <td>https://twitter.com/dog_rates/status/667470559...</td>\n",
       "      <td>11.0</td>\n",
       "      <td>10</td>\n",
       "      <td>a</td>\n",
       "      <td>NaN</td>\n",
       "      <td>https://pbs.twimg.com/media/CUNU78YWEAECmpB.jpg</td>\n",
       "      <td>1.0</td>\n",
       "      <td>toy_poodle</td>\n",
       "      <td>0.304175</td>\n",
       "    </tr>\n",
       "    <tr>\n",
       "      <th>2287</th>\n",
       "      <td>667177989038297088</td>\n",
       "      <td>2015-11-19 03:10:02+00:00</td>\n",
       "      <td>&lt;a href=\"http://twitter.com/download/iphone\" r...</td>\n",
       "      <td>This is a Dasani Kingfisher from Maine. His na...</td>\n",
       "      <td>https://twitter.com/dog_rates/status/667177989...</td>\n",
       "      <td>8.0</td>\n",
       "      <td>10</td>\n",
       "      <td>a</td>\n",
       "      <td>NaN</td>\n",
       "      <td>https://pbs.twimg.com/media/CUJK18UWEAEg7AR.jpg</td>\n",
       "      <td>1.0</td>\n",
       "      <td>vizsla</td>\n",
       "      <td>0.259249</td>\n",
       "    </tr>\n",
       "    <tr>\n",
       "      <th>2311</th>\n",
       "      <td>666781792255496192</td>\n",
       "      <td>2015-11-18 00:55:42+00:00</td>\n",
       "      <td>&lt;a href=\"http://twitter.com/download/iphone\" r...</td>\n",
       "      <td>This is a purebred Bacardi named Octaviath. Ca...</td>\n",
       "      <td>https://twitter.com/dog_rates/status/666781792...</td>\n",
       "      <td>10.0</td>\n",
       "      <td>10</td>\n",
       "      <td>a</td>\n",
       "      <td>NaN</td>\n",
       "      <td>https://pbs.twimg.com/media/CUDigRXXIAATI_H.jpg</td>\n",
       "      <td>1.0</td>\n",
       "      <td>Italian_greyhound</td>\n",
       "      <td>0.618316</td>\n",
       "    </tr>\n",
       "    <tr>\n",
       "      <th>2314</th>\n",
       "      <td>666701168228331520</td>\n",
       "      <td>2015-11-17 19:35:19+00:00</td>\n",
       "      <td>&lt;a href=\"http://twitter.com/download/iphone\" r...</td>\n",
       "      <td>This is a golden Buckminsterfullerene named Jo...</td>\n",
       "      <td>https://twitter.com/dog_rates/status/666701168...</td>\n",
       "      <td>8.0</td>\n",
       "      <td>10</td>\n",
       "      <td>a</td>\n",
       "      <td>NaN</td>\n",
       "      <td>https://pbs.twimg.com/media/CUCZLHlUAAAeAig.jpg</td>\n",
       "      <td>1.0</td>\n",
       "      <td>Labrador_retriever</td>\n",
       "      <td>0.887707</td>\n",
       "    </tr>\n",
       "    <tr>\n",
       "      <th>2327</th>\n",
       "      <td>666407126856765440</td>\n",
       "      <td>2015-11-17 00:06:54+00:00</td>\n",
       "      <td>&lt;a href=\"http://twitter.com/download/iphone\" r...</td>\n",
       "      <td>This is a southern Vesuvius bumblegruff. Can d...</td>\n",
       "      <td>https://twitter.com/dog_rates/status/666407126...</td>\n",
       "      <td>7.0</td>\n",
       "      <td>10</td>\n",
       "      <td>a</td>\n",
       "      <td>NaN</td>\n",
       "      <td>https://pbs.twimg.com/media/CT-NvwmW4AAugGZ.jpg</td>\n",
       "      <td>1.0</td>\n",
       "      <td>black-and-tan_coonhound</td>\n",
       "      <td>0.529139</td>\n",
       "    </tr>\n",
       "    <tr>\n",
       "      <th>2335</th>\n",
       "      <td>666287406224695296</td>\n",
       "      <td>2015-11-16 16:11:11+00:00</td>\n",
       "      <td>&lt;a href=\"http://twitter.com/download/iphone\" r...</td>\n",
       "      <td>This is an Albanian 3 1/2 legged  Episcopalian...</td>\n",
       "      <td>https://twitter.com/dog_rates/status/666287406...</td>\n",
       "      <td>9.0</td>\n",
       "      <td>10</td>\n",
       "      <td>an</td>\n",
       "      <td>NaN</td>\n",
       "      <td>https://pbs.twimg.com/media/CT8g3BpUEAAuFjg.jpg</td>\n",
       "      <td>1.0</td>\n",
       "      <td>Maltese_dog</td>\n",
       "      <td>0.857531</td>\n",
       "    </tr>\n",
       "    <tr>\n",
       "      <th>2348</th>\n",
       "      <td>666055525042405380</td>\n",
       "      <td>2015-11-16 00:49:46+00:00</td>\n",
       "      <td>&lt;a href=\"http://twitter.com/download/iphone\" r...</td>\n",
       "      <td>Here is a Siberian heavily armored polar bear ...</td>\n",
       "      <td>https://twitter.com/dog_rates/status/666055525...</td>\n",
       "      <td>10.0</td>\n",
       "      <td>10</td>\n",
       "      <td>a</td>\n",
       "      <td>NaN</td>\n",
       "      <td>https://pbs.twimg.com/media/CT5N9tpXIAAifs1.jpg</td>\n",
       "      <td>1.0</td>\n",
       "      <td>chow</td>\n",
       "      <td>0.692517</td>\n",
       "    </tr>\n",
       "    <tr>\n",
       "      <th>2350</th>\n",
       "      <td>666050758794694657</td>\n",
       "      <td>2015-11-16 00:30:50+00:00</td>\n",
       "      <td>&lt;a href=\"http://twitter.com/download/iphone\" r...</td>\n",
       "      <td>This is a truly beautiful English Wilson Staff...</td>\n",
       "      <td>https://twitter.com/dog_rates/status/666050758...</td>\n",
       "      <td>10.0</td>\n",
       "      <td>10</td>\n",
       "      <td>a</td>\n",
       "      <td>NaN</td>\n",
       "      <td>https://pbs.twimg.com/media/CT5Jof1WUAEuVxN.jpg</td>\n",
       "      <td>1.0</td>\n",
       "      <td>Bernese_mountain_dog</td>\n",
       "      <td>0.651137</td>\n",
       "    </tr>\n",
       "    <tr>\n",
       "      <th>2352</th>\n",
       "      <td>666044226329800704</td>\n",
       "      <td>2015-11-16 00:04:52+00:00</td>\n",
       "      <td>&lt;a href=\"http://twitter.com/download/iphone\" r...</td>\n",
       "      <td>This is a purebred Piers Morgan. Loves to Netf...</td>\n",
       "      <td>https://twitter.com/dog_rates/status/666044226...</td>\n",
       "      <td>6.0</td>\n",
       "      <td>10</td>\n",
       "      <td>a</td>\n",
       "      <td>NaN</td>\n",
       "      <td>https://pbs.twimg.com/media/CT5Dr8HUEAA-lEu.jpg</td>\n",
       "      <td>1.0</td>\n",
       "      <td>Rhodesian_ridgeback</td>\n",
       "      <td>0.408143</td>\n",
       "    </tr>\n",
       "    <tr>\n",
       "      <th>2353</th>\n",
       "      <td>666033412701032449</td>\n",
       "      <td>2015-11-15 23:21:54+00:00</td>\n",
       "      <td>&lt;a href=\"http://twitter.com/download/iphone\" r...</td>\n",
       "      <td>Here is a very happy pup. Big fan of well-main...</td>\n",
       "      <td>https://twitter.com/dog_rates/status/666033412...</td>\n",
       "      <td>9.0</td>\n",
       "      <td>10</td>\n",
       "      <td>a</td>\n",
       "      <td>NaN</td>\n",
       "      <td>https://pbs.twimg.com/media/CT4521TWwAEvMyu.jpg</td>\n",
       "      <td>1.0</td>\n",
       "      <td>German_shepherd</td>\n",
       "      <td>0.596461</td>\n",
       "    </tr>\n",
       "    <tr>\n",
       "      <th>2354</th>\n",
       "      <td>666029285002620928</td>\n",
       "      <td>2015-11-15 23:05:30+00:00</td>\n",
       "      <td>&lt;a href=\"http://twitter.com/download/iphone\" r...</td>\n",
       "      <td>This is a western brown Mitsubishi terrier. Up...</td>\n",
       "      <td>https://twitter.com/dog_rates/status/666029285...</td>\n",
       "      <td>7.0</td>\n",
       "      <td>10</td>\n",
       "      <td>a</td>\n",
       "      <td>NaN</td>\n",
       "      <td>https://pbs.twimg.com/media/CT42GRgUYAA5iDo.jpg</td>\n",
       "      <td>1.0</td>\n",
       "      <td>redbone</td>\n",
       "      <td>0.506826</td>\n",
       "    </tr>\n",
       "  </tbody>\n",
       "</table>\n",
       "</div>"
      ],
      "text/plain": [
       "                tweet_id           tweet_timestamp  \\\n",
       "56    881536004380872706 2017-07-02 15:32:16+00:00   \n",
       "449   819004803107983360 2017-01-11 02:15:36+00:00   \n",
       "679   789137962068021249 2016-10-20 16:15:26+00:00   \n",
       "775   776201521193218049 2016-09-14 23:30:38+00:00   \n",
       "801   772581559778025472 2016-09-04 23:46:12+00:00   \n",
       "852   765395769549590528 2016-08-16 03:52:26+00:00   \n",
       "876   761004547850530816 2016-08-04 01:03:17+00:00   \n",
       "978   749996283729883136 2016-07-04 16:00:22+00:00   \n",
       "1002  747885874273214464 2016-06-28 20:14:22+00:00   \n",
       "1017  746872823977771008 2016-06-26 01:08:52+00:00   \n",
       "1025  746369468511756288 2016-06-24 15:48:42+00:00   \n",
       "1049  743222593470234624 2016-06-15 23:24:09+00:00   \n",
       "1193  717537687239008257 2016-04-06 02:21:30+00:00   \n",
       "1207  715733265223708672 2016-04-01 02:51:22+00:00   \n",
       "1340  704859558691414016 2016-03-02 02:43:09+00:00   \n",
       "1351  704054845121142784 2016-02-28 21:25:30+00:00   \n",
       "1361  703079050210877440 2016-02-26 04:48:02+00:00   \n",
       "1368  702539513671897089 2016-02-24 17:04:07+00:00   \n",
       "1382  700864154249383937 2016-02-20 02:06:50+00:00   \n",
       "1499  692187005137076224 2016-01-27 03:26:56+00:00   \n",
       "1683  681694085539872773 2015-12-29 04:31:49+00:00   \n",
       "1737  679530280114372609 2015-12-23 05:13:38+00:00   \n",
       "1785  677644091929329666 2015-12-18 00:18:36+00:00   \n",
       "1853  675706639471788032 2015-12-12 15:59:51+00:00   \n",
       "1854  675534494439489536 2015-12-12 04:35:48+00:00   \n",
       "1877  675109292475830276 2015-12-11 00:26:12+00:00   \n",
       "1878  675047298674663426 2015-12-10 20:19:52+00:00   \n",
       "1923  674082852460433408 2015-12-08 04:27:30+00:00   \n",
       "1988  672834301050937345 2015-12-04 17:46:12+00:00   \n",
       "1994  672604026190569472 2015-12-04 02:31:10+00:00   \n",
       "2034  671743150407421952 2015-12-01 17:30:22+00:00   \n",
       "2041  671542985629241344 2015-12-01 04:14:59+00:00   \n",
       "2066  671147085991960577 2015-11-30 02:01:49+00:00   \n",
       "2128  670303360680108032 2015-11-27 18:09:09+00:00   \n",
       "2161  669564461267722241 2015-11-25 17:13:02+00:00   \n",
       "2191  668955713004314625 2015-11-24 00:54:05+00:00   \n",
       "2198  668815180734689280 2015-11-23 15:35:39+00:00   \n",
       "2204  668636665813057536 2015-11-23 03:46:18+00:00   \n",
       "2218  668507509523615744 2015-11-22 19:13:05+00:00   \n",
       "2219  668496999348633600 2015-11-22 18:31:19+00:00   \n",
       "2235  668171859951755264 2015-11-21 20:59:20+00:00   \n",
       "2249  667861340749471744 2015-11-21 00:25:26+00:00   \n",
       "2255  667773195014021121 2015-11-20 18:35:10+00:00   \n",
       "2264  667538891197542400 2015-11-20 03:04:08+00:00   \n",
       "2273  667470559035432960 2015-11-19 22:32:36+00:00   \n",
       "2287  667177989038297088 2015-11-19 03:10:02+00:00   \n",
       "2311  666781792255496192 2015-11-18 00:55:42+00:00   \n",
       "2314  666701168228331520 2015-11-17 19:35:19+00:00   \n",
       "2327  666407126856765440 2015-11-17 00:06:54+00:00   \n",
       "2335  666287406224695296 2015-11-16 16:11:11+00:00   \n",
       "2348  666055525042405380 2015-11-16 00:49:46+00:00   \n",
       "2350  666050758794694657 2015-11-16 00:30:50+00:00   \n",
       "2352  666044226329800704 2015-11-16 00:04:52+00:00   \n",
       "2353  666033412701032449 2015-11-15 23:21:54+00:00   \n",
       "2354  666029285002620928 2015-11-15 23:05:30+00:00   \n",
       "\n",
       "                                           tweet_source  \\\n",
       "56    <a href=\"http://twitter.com/download/iphone\" r...   \n",
       "449   <a href=\"http://twitter.com/download/iphone\" r...   \n",
       "679   <a href=\"http://twitter.com/download/iphone\" r...   \n",
       "775   <a href=\"http://twitter.com/download/iphone\" r...   \n",
       "801   <a href=\"http://twitter.com/download/iphone\" r...   \n",
       "852   <a href=\"http://twitter.com/download/iphone\" r...   \n",
       "876   <a href=\"http://twitter.com/download/iphone\" r...   \n",
       "978   <a href=\"https://about.twitter.com/products/tw...   \n",
       "1002  <a href=\"http://twitter.com/download/iphone\" r...   \n",
       "1017  <a href=\"http://twitter.com/download/iphone\" r...   \n",
       "1025  <a href=\"http://twitter.com/download/iphone\" r...   \n",
       "1049  <a href=\"http://twitter.com/download/iphone\" r...   \n",
       "1193  <a href=\"http://twitter.com/download/iphone\" r...   \n",
       "1207  <a href=\"http://twitter.com/download/iphone\" r...   \n",
       "1340  <a href=\"http://twitter.com/download/iphone\" r...   \n",
       "1351  <a href=\"http://twitter.com/download/iphone\" r...   \n",
       "1361  <a href=\"http://twitter.com/download/iphone\" r...   \n",
       "1368  <a href=\"http://twitter.com/download/iphone\" r...   \n",
       "1382  <a href=\"http://twitter.com/download/iphone\" r...   \n",
       "1499  <a href=\"http://twitter.com/download/iphone\" r...   \n",
       "1683  <a href=\"http://twitter.com/download/iphone\" r...   \n",
       "1737  <a href=\"http://twitter.com/download/iphone\" r...   \n",
       "1785  <a href=\"http://twitter.com/download/iphone\" r...   \n",
       "1853  <a href=\"http://twitter.com/download/iphone\" r...   \n",
       "1854  <a href=\"http://twitter.com/download/iphone\" r...   \n",
       "1877  <a href=\"http://twitter.com/download/iphone\" r...   \n",
       "1878  <a href=\"http://twitter.com/download/iphone\" r...   \n",
       "1923  <a href=\"http://twitter.com/download/iphone\" r...   \n",
       "1988  <a href=\"http://twitter.com/download/iphone\" r...   \n",
       "1994  <a href=\"http://twitter.com/download/iphone\" r...   \n",
       "2034  <a href=\"http://twitter.com/download/iphone\" r...   \n",
       "2041  <a href=\"http://twitter.com/download/iphone\" r...   \n",
       "2066  <a href=\"http://twitter.com/download/iphone\" r...   \n",
       "2128  <a href=\"http://twitter.com/download/iphone\" r...   \n",
       "2161  <a href=\"http://twitter.com/download/iphone\" r...   \n",
       "2191  <a href=\"http://twitter.com/download/iphone\" r...   \n",
       "2198  <a href=\"http://twitter.com/download/iphone\" r...   \n",
       "2204  <a href=\"http://twitter.com/download/iphone\" r...   \n",
       "2218  <a href=\"http://twitter.com/download/iphone\" r...   \n",
       "2219  <a href=\"http://twitter.com/download/iphone\" r...   \n",
       "2235  <a href=\"http://twitter.com/download/iphone\" r...   \n",
       "2249  <a href=\"http://twitter.com/download/iphone\" r...   \n",
       "2255  <a href=\"http://twitter.com\" rel=\"nofollow\">Tw...   \n",
       "2264  <a href=\"http://twitter.com\" rel=\"nofollow\">Tw...   \n",
       "2273  <a href=\"http://twitter.com\" rel=\"nofollow\">Tw...   \n",
       "2287  <a href=\"http://twitter.com/download/iphone\" r...   \n",
       "2311  <a href=\"http://twitter.com/download/iphone\" r...   \n",
       "2314  <a href=\"http://twitter.com/download/iphone\" r...   \n",
       "2327  <a href=\"http://twitter.com/download/iphone\" r...   \n",
       "2335  <a href=\"http://twitter.com/download/iphone\" r...   \n",
       "2348  <a href=\"http://twitter.com/download/iphone\" r...   \n",
       "2350  <a href=\"http://twitter.com/download/iphone\" r...   \n",
       "2352  <a href=\"http://twitter.com/download/iphone\" r...   \n",
       "2353  <a href=\"http://twitter.com/download/iphone\" r...   \n",
       "2354  <a href=\"http://twitter.com/download/iphone\" r...   \n",
       "\n",
       "                                             tweet_text  \\\n",
       "56    Here is a pupper approaching maximum borkdrive...   \n",
       "449   This is Bo. He was a very good First Doggo. 14...   \n",
       "679   This is Bo. He's a West Congolese Bugaboop Snu...   \n",
       "775   This is O'Malley. That is how he sleeps. Doesn...   \n",
       "801   Guys this is getting so out of hand. We only r...   \n",
       "852   This is my dog. Her name is Zoey. She knows I'...   \n",
       "876   This is Bo and Ty. Bo eats paper and Ty felt l...   \n",
       "978   This is Bo. He emanates happiness. 12/10 I cou...   \n",
       "1002  This is a mighty rare blue-tailed hammer sherk...   \n",
       "1017  This is a carrot. We only rate dogs. Please on...   \n",
       "1025  This is an Iraqi Speed Kangaroo. It is not a d...   \n",
       "1049  This is a very rare Great Alaskan Bush Pupper....   \n",
       "1193  People please. This is a Deadly Mediterranean ...   \n",
       "1207  This is a taco. We only rate dogs. Please only...   \n",
       "1340  Here is a heartbreaking scene of an incredible...   \n",
       "1351  Here is a whole flock of puppers.  60/50 I'll ...   \n",
       "1361  This is a Butternut Cumberfloof. It's not wind...   \n",
       "1368  This is a Wild Tuscan Poofwiggle. Careful not ...   \n",
       "1382  \"Pupper is a present to world. Here is a bow f...   \n",
       "1499  This is a rare Arctic Wubberfloof. Unamused by...   \n",
       "1683  This is Bo. He's a Benedoop Cumbersnatch. Seem...   \n",
       "1737  Guys this really needs to stop. We've been ove...   \n",
       "1785  This is a dog swinging. I really enjoyed it so...   \n",
       "1853  This is a Sizzlin Menorah spaniel from Brookly...   \n",
       "1854  Seriously guys?! Only send in dogs. I only rat...   \n",
       "1877  C'mon guys. We've been over this. We only rate...   \n",
       "1878  This is a fluffy albino Bacardi Columbia mix. ...   \n",
       "1923  This is a Sagitariot Baklava mix. Loves her ne...   \n",
       "1988  This is Ed. He's not mad, just disappointed. 1...   \n",
       "1994  This is a baby Rand Paul. Curls for days. 11/1...   \n",
       "2034  This is a Tuscaloosa Alcatraz named Jacob (Yac...   \n",
       "2041  This is JD (stands for \"just dog\"). He's like ...   \n",
       "2066  This is a Helvetica Listerine named Rufus. Thi...   \n",
       "2128  This is a Speckled Cauliflower Yosemite named ...   \n",
       "2161  This is a Coriander Baton Rouge named Alfredo....   \n",
       "2191  This is a Slovakian Helter Skelter Feta named ...   \n",
       "2198  This is a wild Toblerone from Papua New Guinea...   \n",
       "2204  This is an Irish Rigatoni terrier named Berta....   \n",
       "2218  This is a Birmingham Quagmire named Chuk. Love...   \n",
       "2219  This is Jo. Jo is a Swedish Queso. Tongue bigg...   \n",
       "2235  This is a Trans Siberian Kellogg named Alfonso...   \n",
       "2249  This is a Shotokon Macadamia mix named Cheryl....   \n",
       "2255  This is a rare Hungarian Pinot named Jessiga. ...   \n",
       "2264  This is a southwest Coriander named Klint. Hat...   \n",
       "2273  This is a northern Wahoo named Kohl. He runs t...   \n",
       "2287  This is a Dasani Kingfisher from Maine. His na...   \n",
       "2311  This is a purebred Bacardi named Octaviath. Ca...   \n",
       "2314  This is a golden Buckminsterfullerene named Jo...   \n",
       "2327  This is a southern Vesuvius bumblegruff. Can d...   \n",
       "2335  This is an Albanian 3 1/2 legged  Episcopalian...   \n",
       "2348  Here is a Siberian heavily armored polar bear ...   \n",
       "2350  This is a truly beautiful English Wilson Staff...   \n",
       "2352  This is a purebred Piers Morgan. Loves to Netf...   \n",
       "2353  Here is a very happy pup. Big fan of well-main...   \n",
       "2354  This is a western brown Mitsubishi terrier. Up...   \n",
       "\n",
       "                                          expanded_urls  rating_numerator  \\\n",
       "56    https://twitter.com/dog_rates/status/881536004...              14.0   \n",
       "449   https://twitter.com/dog_rates/status/819004803...              14.0   \n",
       "679   https://twitter.com/dog_rates/status/789137962...              12.0   \n",
       "775   https://twitter.com/dog_rates/status/776201521...              10.0   \n",
       "801   https://twitter.com/dog_rates/status/772581559...              10.0   \n",
       "852   https://twitter.com/dog_rates/status/765395769...              13.0   \n",
       "876   https://twitter.com/dog_rates/status/761004547...              11.0   \n",
       "978   https://twitter.com/dog_rates/status/749996283...              12.0   \n",
       "1002  https://twitter.com/dog_rates/status/747885874...               8.0   \n",
       "1017  https://twitter.com/dog_rates/status/746872823...              11.0   \n",
       "1025  https://twitter.com/dog_rates/status/746369468...               9.0   \n",
       "1049  https://twitter.com/dog_rates/status/743222593...              12.0   \n",
       "1193  https://twitter.com/dog_rates/status/717537687...              11.0   \n",
       "1207  https://twitter.com/dog_rates/status/715733265...              10.0   \n",
       "1340  https://twitter.com/dog_rates/status/704859558...              10.0   \n",
       "1351  https://twitter.com/dog_rates/status/704054845...              12.0   \n",
       "1361  https://twitter.com/dog_rates/status/703079050...              11.0   \n",
       "1368  https://twitter.com/dog_rates/status/702539513...              12.0   \n",
       "1382  https://twitter.com/dog_rates/status/700864154...              12.0   \n",
       "1499  https://twitter.com/dog_rates/status/692187005...              12.0   \n",
       "1683  https://twitter.com/dog_rates/status/681694085...              11.0   \n",
       "1737  https://twitter.com/dog_rates/status/679530280...               7.0   \n",
       "1785  https://twitter.com/dog_rates/status/677644091...              11.0   \n",
       "1853  https://twitter.com/dog_rates/status/675706639...              10.0   \n",
       "1854  https://twitter.com/dog_rates/status/675534494...              11.0   \n",
       "1877  https://twitter.com/dog_rates/status/675109292...               9.0   \n",
       "1878  https://twitter.com/dog_rates/status/675047298...              11.0   \n",
       "1923  https://twitter.com/dog_rates/status/674082852...              11.0   \n",
       "1988  https://twitter.com/dog_rates/status/672834301...              10.0   \n",
       "1994  https://twitter.com/dog_rates/status/672604026...              11.0   \n",
       "2034  https://twitter.com/dog_rates/status/671743150...              11.0   \n",
       "2041  https://twitter.com/dog_rates/status/671542985...              10.0   \n",
       "2066  https://twitter.com/dog_rates/status/671147085...               9.0   \n",
       "2128  https://twitter.com/dog_rates/status/670303360...               9.0   \n",
       "2161  https://twitter.com/dog_rates/status/669564461...              10.0   \n",
       "2191  https://twitter.com/dog_rates/status/668955713...              10.0   \n",
       "2198  https://twitter.com/dog_rates/status/668815180...               7.0   \n",
       "2204  https://twitter.com/dog_rates/status/668636665...              10.0   \n",
       "2218  https://twitter.com/dog_rates/status/668507509...              10.0   \n",
       "2219  https://twitter.com/dog_rates/status/668496999...               8.0   \n",
       "2235  https://twitter.com/dog_rates/status/668171859...               7.0   \n",
       "2249  https://twitter.com/dog_rates/status/667861340...               9.0   \n",
       "2255  https://twitter.com/dog_rates/status/667773195...               8.0   \n",
       "2264  https://twitter.com/dog_rates/status/667538891...               9.0   \n",
       "2273  https://twitter.com/dog_rates/status/667470559...              11.0   \n",
       "2287  https://twitter.com/dog_rates/status/667177989...               8.0   \n",
       "2311  https://twitter.com/dog_rates/status/666781792...              10.0   \n",
       "2314  https://twitter.com/dog_rates/status/666701168...               8.0   \n",
       "2327  https://twitter.com/dog_rates/status/666407126...               7.0   \n",
       "2335  https://twitter.com/dog_rates/status/666287406...               9.0   \n",
       "2348  https://twitter.com/dog_rates/status/666055525...              10.0   \n",
       "2350  https://twitter.com/dog_rates/status/666050758...              10.0   \n",
       "2352  https://twitter.com/dog_rates/status/666044226...               6.0   \n",
       "2353  https://twitter.com/dog_rates/status/666033412...               9.0   \n",
       "2354  https://twitter.com/dog_rates/status/666029285...               7.0   \n",
       "\n",
       "      rating_denominator dog_name dog_stage  \\\n",
       "56                    10        a    Pupper   \n",
       "449                   10       Bo     Doggo   \n",
       "679                   10       Bo       NaN   \n",
       "775                   10        O       NaN   \n",
       "801                   10        a       NaN   \n",
       "852                   10       my       NaN   \n",
       "876                   10       Bo       NaN   \n",
       "978                   10       Bo       NaN   \n",
       "1002                  10        a       NaN   \n",
       "1017                  10        a       NaN   \n",
       "1025                  10       an       NaN   \n",
       "1049                  10        a    Pupper   \n",
       "1193                  10        a       NaN   \n",
       "1207                  10        a       NaN   \n",
       "1340                  10        a    Pupper   \n",
       "1351                  10        a       NaN   \n",
       "1361                  10        a       NaN   \n",
       "1368                  10        a       NaN   \n",
       "1382                  10        a    Pupper   \n",
       "1499                  10        a       NaN   \n",
       "1683                  10       Bo    Pupper   \n",
       "1737                  10        a       NaN   \n",
       "1785                  10        a       NaN   \n",
       "1853                  10        a       NaN   \n",
       "1854                  10        a       NaN   \n",
       "1877                  10        a       NaN   \n",
       "1878                  10        a       NaN   \n",
       "1923                  10        a       NaN   \n",
       "1988                  10       Ed       NaN   \n",
       "1994                  10        a       NaN   \n",
       "2034                  10        a       NaN   \n",
       "2041                  10       JD       NaN   \n",
       "2066                  10        a       NaN   \n",
       "2128                  10        a       NaN   \n",
       "2161                  10        a       NaN   \n",
       "2191                  10        a       NaN   \n",
       "2198                  10        a       NaN   \n",
       "2204                  10       an       NaN   \n",
       "2218                  10        a       NaN   \n",
       "2219                  10       Jo       NaN   \n",
       "2235                  10        a       NaN   \n",
       "2249                  10        a       NaN   \n",
       "2255                  10        a       NaN   \n",
       "2264                  10        a       NaN   \n",
       "2273                  10        a       NaN   \n",
       "2287                  10        a       NaN   \n",
       "2311                  10        a       NaN   \n",
       "2314                  10        a       NaN   \n",
       "2327                  10        a       NaN   \n",
       "2335                  10       an       NaN   \n",
       "2348                  10        a       NaN   \n",
       "2350                  10        a       NaN   \n",
       "2352                  10        a       NaN   \n",
       "2353                  10        a       NaN   \n",
       "2354                  10        a       NaN   \n",
       "\n",
       "                                                jpg_url  img_num  \\\n",
       "56    https://pbs.twimg.com/ext_tw_video_thumb/88153...      1.0   \n",
       "449     https://pbs.twimg.com/media/C12whDoVEAALRxa.jpg      1.0   \n",
       "679     https://pbs.twimg.com/media/CvOUw8vWYAAzJDq.jpg      2.0   \n",
       "775     https://pbs.twimg.com/media/CsWfKadWEAAtmlS.jpg      1.0   \n",
       "801     https://pbs.twimg.com/media/CrjC0JAWAAAjz6n.jpg      3.0   \n",
       "852     https://pbs.twimg.com/media/Cp87Y0jXYAQyjuV.jpg      1.0   \n",
       "876     https://pbs.twimg.com/media/Co-hmcYXYAASkiG.jpg      1.0   \n",
       "978     https://pbs.twimg.com/media/CmfoyrrW8AA8v7w.jpg      1.0   \n",
       "1002    https://pbs.twimg.com/media/CmEGMSvUYAAl3ZM.jpg      1.0   \n",
       "1017    https://pbs.twimg.com/media/Cl1s1p7WMAA44Vk.jpg      1.0   \n",
       "1025    https://pbs.twimg.com/media/ClujESVXEAA4uH8.jpg      1.0   \n",
       "1049    https://pbs.twimg.com/media/ClB09z0WYAAA1jz.jpg      1.0   \n",
       "1193    https://pbs.twimg.com/media/CfU0t75W4AAUo9V.jpg      1.0   \n",
       "1207    https://pbs.twimg.com/media/Ce7LlUeUUAEQkQl.jpg      1.0   \n",
       "1340    https://pbs.twimg.com/media/CcgqBNVW8AE76lv.jpg      1.0   \n",
       "1351    https://pbs.twimg.com/media/CcVOJEcXEAM0FHL.jpg      1.0   \n",
       "1361    https://pbs.twimg.com/media/CcHWqQCW8AEb0ZH.jpg      2.0   \n",
       "1368    https://pbs.twimg.com/media/Cb_r8qTUsAASgdF.jpg      3.0   \n",
       "1382    https://pbs.twimg.com/media/Cbn4OqKWwAADGWt.jpg      1.0   \n",
       "1499    https://pbs.twimg.com/media/CZskaEIWIAUeTr5.jpg      2.0   \n",
       "1683    https://pbs.twimg.com/media/CXXdJ7CVAAALu23.jpg      1.0   \n",
       "1737    https://pbs.twimg.com/media/CW4tL1vWcAIw1dw.jpg      1.0   \n",
       "1785  https://pbs.twimg.com/ext_tw_video_thumb/67764...      1.0   \n",
       "1853    https://pbs.twimg.com/media/CWCXj35VEAIFvtk.jpg      1.0   \n",
       "1854    https://pbs.twimg.com/media/CV_7CV6XIAEV05u.jpg      1.0   \n",
       "1877    https://pbs.twimg.com/media/CV54UQTXAAAGf-j.jpg      1.0   \n",
       "1878    https://pbs.twimg.com/media/CV4_8FgXAAQOj4S.jpg      1.0   \n",
       "1923    https://pbs.twimg.com/media/CVrSxy7WsAAFD2F.jpg      1.0   \n",
       "1988    https://pbs.twimg.com/media/CVZjOktVAAAtigw.jpg      1.0   \n",
       "1994    https://pbs.twimg.com/media/CVWRyylWIAAMltv.jpg      1.0   \n",
       "2034    https://pbs.twimg.com/media/CVKC1IfWIAAsQks.jpg      1.0   \n",
       "2041    https://pbs.twimg.com/media/CVHMyHMWwAALYXs.jpg      1.0   \n",
       "2066    https://pbs.twimg.com/media/CVBktzQXAAAPpUA.jpg      1.0   \n",
       "2128    https://pbs.twimg.com/media/CU1lWFaVAAAl0HG.jpg      1.0   \n",
       "2161    https://pbs.twimg.com/media/CUrFUvDVAAA9H-F.jpg      1.0   \n",
       "2191    https://pbs.twimg.com/media/CUibq3uVAAAup_O.jpg      1.0   \n",
       "2198    https://pbs.twimg.com/media/CUgb21RXIAAlff7.jpg      1.0   \n",
       "2204    https://pbs.twimg.com/media/CUd5gBGWwAA0IVA.jpg      1.0   \n",
       "2218    https://pbs.twimg.com/media/CUcECBYWcAAzFRg.jpg      1.0   \n",
       "2219    https://pbs.twimg.com/media/CUb6ebKWcAAJkd0.jpg      1.0   \n",
       "2235    https://pbs.twimg.com/media/CUXSwy8W4AA6uet.jpg      1.0   \n",
       "2249    https://pbs.twimg.com/media/CUS4WJ-UsAEJj10.jpg      1.0   \n",
       "2255    https://pbs.twimg.com/media/CURoLrOVEAAaWdR.jpg      1.0   \n",
       "2264    https://pbs.twimg.com/media/CUOTFZOW4AABsfW.jpg      1.0   \n",
       "2273    https://pbs.twimg.com/media/CUNU78YWEAECmpB.jpg      1.0   \n",
       "2287    https://pbs.twimg.com/media/CUJK18UWEAEg7AR.jpg      1.0   \n",
       "2311    https://pbs.twimg.com/media/CUDigRXXIAATI_H.jpg      1.0   \n",
       "2314    https://pbs.twimg.com/media/CUCZLHlUAAAeAig.jpg      1.0   \n",
       "2327    https://pbs.twimg.com/media/CT-NvwmW4AAugGZ.jpg      1.0   \n",
       "2335    https://pbs.twimg.com/media/CT8g3BpUEAAuFjg.jpg      1.0   \n",
       "2348    https://pbs.twimg.com/media/CT5N9tpXIAAifs1.jpg      1.0   \n",
       "2350    https://pbs.twimg.com/media/CT5Jof1WUAEuVxN.jpg      1.0   \n",
       "2352    https://pbs.twimg.com/media/CT5Dr8HUEAA-lEu.jpg      1.0   \n",
       "2353    https://pbs.twimg.com/media/CT4521TWwAEvMyu.jpg      1.0   \n",
       "2354    https://pbs.twimg.com/media/CT42GRgUYAA5iDo.jpg      1.0   \n",
       "\n",
       "                   predicted_type  prediction_accuracy  \n",
       "56                        Samoyed             0.281463  \n",
       "449               standard_poodle             0.351308  \n",
       "679                     Chihuahua             0.746135  \n",
       "775                    Rottweiler             0.502228  \n",
       "801                  Newfoundland             0.574345  \n",
       "852                      Pembroke             0.509491  \n",
       "876              golden_retriever             0.735163  \n",
       "978          Old_English_sheepdog             0.515319  \n",
       "1002                       kuvasz             0.408450  \n",
       "1017                     Pembroke             0.540201  \n",
       "1025              German_shepherd             0.622957  \n",
       "1049                       kuvasz             0.350629  \n",
       "1193             golden_retriever             0.779356  \n",
       "1207               Dandie_Dinmont             0.740229  \n",
       "1340                          pug             0.284428  \n",
       "1351               Great_Pyrenees             0.667939  \n",
       "1361                     Pembroke             0.778503  \n",
       "1368                   Pomeranian             0.714367  \n",
       "1382                       kuvasz             0.805857  \n",
       "1499               Siberian_husky             0.810592  \n",
       "1683                   toy_poodle             0.920992  \n",
       "1737                    dalmatian             0.750256  \n",
       "1785                    Chihuahua             0.626236  \n",
       "1853             English_springer             0.990300  \n",
       "1854                         chow             0.749368  \n",
       "1877                    dalmatian             0.989519  \n",
       "1878                      Samoyed             0.978007  \n",
       "1923                   Pomeranian             0.666957  \n",
       "1988                     Pembroke             0.582560  \n",
       "1994                   toy_poodle             0.820158  \n",
       "2034                   toy_poodle             0.419427  \n",
       "2041            Shetland_sheepdog             0.980339  \n",
       "2066            Yorkshire_terrier             0.467202  \n",
       "2128            Shetland_sheepdog             0.380278  \n",
       "2161                   toy_poodle             0.623685  \n",
       "2191               cocker_spaniel             0.367492  \n",
       "2198                      redbone             0.461172  \n",
       "2204                     komondor             0.999956  \n",
       "2218                      basenji             0.055379  \n",
       "2219    Staffordshire_bullterrier             0.412879  \n",
       "2235                    Chihuahua             0.664834  \n",
       "2249                     malamute             0.967275  \n",
       "2255  West_Highland_white_terrier             0.360465  \n",
       "2264            Yorkshire_terrier             0.618957  \n",
       "2273                   toy_poodle             0.304175  \n",
       "2287                       vizsla             0.259249  \n",
       "2311            Italian_greyhound             0.618316  \n",
       "2314           Labrador_retriever             0.887707  \n",
       "2327      black-and-tan_coonhound             0.529139  \n",
       "2335                  Maltese_dog             0.857531  \n",
       "2348                         chow             0.692517  \n",
       "2350         Bernese_mountain_dog             0.651137  \n",
       "2352          Rhodesian_ridgeback             0.408143  \n",
       "2353              German_shepherd             0.596461  \n",
       "2354                      redbone             0.506826  "
      ]
     },
     "execution_count": 100,
     "metadata": {},
     "output_type": "execute_result"
    }
   ],
   "source": [
    "tweets_df[tweets_df['dog_name'].apply(len) <= 2]"
   ]
  },
  {
   "cell_type": "code",
   "execution_count": 101,
   "metadata": {},
   "outputs": [],
   "source": [
    "# Fix len(\"dog_name\") <= 2 manually row by row after investigating the tweet text\n",
    "# found some values are the real dog names (Bo, Jo, Ed, JD)\n",
    "# and some are not a dog pic with row index=1025\n",
    "# others are mistake with extracting right info from text\n",
    "\n",
    "tweets_df.drop([1025,801,1737], inplace=True)\n",
    "\n",
    "dog_name_list_index_to_change = (1853,2034,2066,2128,2161,2191,2218,2235,2314,2311,2287,2273,2264,2249,2255,2204,2335,852,775)\n",
    "dog_name_list_new_val= (\"Wylie\",\"Jacob\",\"Rufus\",\"Hemry\",\"Alfredo\",\"Leroi\",\"Chuk\",\"Alfonso\",\"Johm\",\"Octaviath\",\"Darly\",\"Kohl\",\"Klint\",\"Cheryl\",\"Jessiga\",\"Berta\",\"No_name\",\"Zoey\",\"O'malley\")\n",
    "tweets_df.loc[dog_name_list_index_to_change,\"dog_name\"] = dog_name_list_new_val\n",
    "\n",
    "tweets_df.dog_name.replace(to_replace=[\"a\"], value=\"No_name\", inplace=True)"
   ]
  },
  {
   "cell_type": "code",
   "execution_count": 102,
   "metadata": {},
   "outputs": [
    {
     "data": {
      "text/plain": [
       "8"
      ]
     },
     "execution_count": 102,
     "metadata": {},
     "output_type": "execute_result"
    }
   ],
   "source": [
    "# test\n",
    "tweets_df[tweets_df['dog_name'].apply(len) <= 2].dog_name.value_counts().sum()"
   ]
  },
  {
   "cell_type": "code",
   "execution_count": 103,
   "metadata": {},
   "outputs": [
    {
     "data": {
      "text/plain": [
       "Bo    5\n",
       "Ed    1\n",
       "Jo    1\n",
       "JD    1\n",
       "Name: dog_name, dtype: int64"
      ]
     },
     "execution_count": 103,
     "metadata": {},
     "output_type": "execute_result"
    }
   ],
   "source": [
    "# test\n",
    "tweets_df[tweets_df['dog_name'].apply(len) <= 2].dog_name.value_counts()"
   ]
  },
  {
   "cell_type": "code",
   "execution_count": 104,
   "metadata": {},
   "outputs": [
    {
     "data": {
      "text/plain": [
       "None       347\n",
       "No_name     26\n",
       "Charlie     10\n",
       "Cooper      10\n",
       "Oliver       9\n",
       "          ... \n",
       "Harry        1\n",
       "Lilah        1\n",
       "Margo        1\n",
       "Perry        1\n",
       "Cheryl       1\n",
       "Name: dog_name, Length: 771, dtype: int64"
      ]
     },
     "execution_count": 104,
     "metadata": {},
     "output_type": "execute_result"
    }
   ],
   "source": [
    "tweets_df.dog_name.value_counts()"
   ]
  },
  {
   "cell_type": "code",
   "execution_count": 105,
   "metadata": {},
   "outputs": [],
   "source": [
    "#Convert no_name values to NaN in dog_name column\n",
    "tweets_df.dog_name.replace(to_replace=[\"No_name\"], value=np.nan, inplace=True)\n",
    "#Convert None values to NaN in dog_name column\n",
    "tweets_df.dog_name.replace(to_replace=[\"None\"], value=np.nan, inplace=True)"
   ]
  },
  {
   "cell_type": "code",
   "execution_count": 106,
   "metadata": {},
   "outputs": [
    {
     "data": {
      "text/plain": [
       "Charlie    10\n",
       "Cooper     10\n",
       "Oliver      9\n",
       "Lucy        8\n",
       "Tucker      8\n",
       "           ..\n",
       "Gin         1\n",
       "Loomis      1\n",
       "Harry       1\n",
       "Lilah       1\n",
       "Cheryl      1\n",
       "Name: dog_name, Length: 769, dtype: int64"
      ]
     },
     "execution_count": 106,
     "metadata": {},
     "output_type": "execute_result"
    }
   ],
   "source": [
    "# test\n",
    "tweets_df.dog_name.value_counts()"
   ]
  },
  {
   "cell_type": "markdown",
   "metadata": {},
   "source": [
    "##### combine \"tweets_df\" and \"twitter_api_archive\" "
   ]
  },
  {
   "cell_type": "code",
   "execution_count": 107,
   "metadata": {},
   "outputs": [],
   "source": [
    "# combine both dataframes \"\"tweets_df\" and \"twitter_api_archive\" as they are about the same object\n",
    "twitter_df = tweets_df.join(twitter_api_archive.set_index(\"tweet_id\"), on = \"tweet_id\", how = \"left\")"
   ]
  },
  {
   "cell_type": "code",
   "execution_count": 108,
   "metadata": {},
   "outputs": [
    {
     "data": {
      "text/plain": [
       "['tweet_id',\n",
       " 'tweet_timestamp',\n",
       " 'tweet_source',\n",
       " 'tweet_text',\n",
       " 'expanded_urls',\n",
       " 'rating_numerator',\n",
       " 'rating_denominator',\n",
       " 'dog_name',\n",
       " 'dog_stage',\n",
       " 'jpg_url',\n",
       " 'img_num',\n",
       " 'predicted_type',\n",
       " 'prediction_accuracy',\n",
       " 'retweet_count',\n",
       " 'favorit_count']"
      ]
     },
     "execution_count": 108,
     "metadata": {},
     "output_type": "execute_result"
    }
   ],
   "source": [
    "#test\n",
    "list(twitter_df)"
   ]
  },
  {
   "cell_type": "code",
   "execution_count": 109,
   "metadata": {},
   "outputs": [
    {
     "data": {
      "text/plain": [
       "(1454, 15)"
      ]
     },
     "execution_count": 109,
     "metadata": {},
     "output_type": "execute_result"
    }
   ],
   "source": [
    "#test\n",
    "twitter_df.shape"
   ]
  },
  {
   "cell_type": "code",
   "execution_count": 110,
   "metadata": {},
   "outputs": [
    {
     "data": {
      "text/plain": [
       "tweet_id                  0\n",
       "tweet_timestamp           0\n",
       "tweet_source              0\n",
       "tweet_text                0\n",
       "expanded_urls             0\n",
       "rating_numerator          0\n",
       "rating_denominator        0\n",
       "dog_name                373\n",
       "dog_stage              1227\n",
       "jpg_url                   0\n",
       "img_num                   0\n",
       "predicted_type            0\n",
       "prediction_accuracy       0\n",
       "retweet_count             7\n",
       "favorit_count             7\n",
       "dtype: int64"
      ]
     },
     "execution_count": 110,
     "metadata": {},
     "output_type": "execute_result"
    }
   ],
   "source": [
    "#test\n",
    "twitter_df.isnull().sum()"
   ]
  },
  {
   "cell_type": "code",
   "execution_count": 111,
   "metadata": {},
   "outputs": [],
   "source": [
    "#Convert Nan values to (0) in \"retweet_count\" & \"favorit_count\" columnn\n",
    "twitter_df['retweet_count'] = twitter_df['retweet_count'].fillna(0)\n",
    "twitter_df['favorit_count'] = twitter_df['favorit_count'].fillna(0)"
   ]
  },
  {
   "cell_type": "code",
   "execution_count": 112,
   "metadata": {},
   "outputs": [
    {
     "data": {
      "text/plain": [
       "tweet_id                  0\n",
       "tweet_timestamp           0\n",
       "tweet_source              0\n",
       "tweet_text                0\n",
       "expanded_urls             0\n",
       "rating_numerator          0\n",
       "rating_denominator        0\n",
       "dog_name                373\n",
       "dog_stage              1227\n",
       "jpg_url                   0\n",
       "img_num                   0\n",
       "predicted_type            0\n",
       "prediction_accuracy       0\n",
       "retweet_count             0\n",
       "favorit_count             0\n",
       "dtype: int64"
      ]
     },
     "execution_count": 112,
     "metadata": {},
     "output_type": "execute_result"
    }
   ],
   "source": [
    "#test\n",
    "twitter_df.isnull().sum()"
   ]
  },
  {
   "cell_type": "code",
   "execution_count": 113,
   "metadata": {},
   "outputs": [
    {
     "name": "stdout",
     "output_type": "stream",
     "text": [
      "<class 'pandas.core.frame.DataFrame'>\n",
      "Int64Index: 1454 entries, 1 to 2355\n",
      "Data columns (total 15 columns):\n",
      " #   Column               Non-Null Count  Dtype              \n",
      "---  ------               --------------  -----              \n",
      " 0   tweet_id             1454 non-null   int64              \n",
      " 1   tweet_timestamp      1454 non-null   datetime64[ns, UTC]\n",
      " 2   tweet_source         1454 non-null   object             \n",
      " 3   tweet_text           1454 non-null   object             \n",
      " 4   expanded_urls        1454 non-null   object             \n",
      " 5   rating_numerator     1454 non-null   float64            \n",
      " 6   rating_denominator   1454 non-null   int64              \n",
      " 7   dog_name             1081 non-null   object             \n",
      " 8   dog_stage            227 non-null    object             \n",
      " 9   jpg_url              1454 non-null   object             \n",
      " 10  img_num              1454 non-null   float64            \n",
      " 11  predicted_type       1454 non-null   object             \n",
      " 12  prediction_accuracy  1454 non-null   float64            \n",
      " 13  retweet_count        1454 non-null   float64            \n",
      " 14  favorit_count        1454 non-null   float64            \n",
      "dtypes: datetime64[ns, UTC](1), float64(5), int64(2), object(7)\n",
      "memory usage: 174.0+ KB\n"
     ]
    }
   ],
   "source": [
    "# test\n",
    "twitter_df.info()"
   ]
  },
  {
   "cell_type": "markdown",
   "metadata": {},
   "source": [
    "### some investigation for the full data set"
   ]
  },
  {
   "cell_type": "code",
   "execution_count": 114,
   "metadata": {
    "scrolled": false
   },
   "outputs": [
    {
     "data": {
      "text/plain": [
       "golden_retriever      137\n",
       "Labrador_retriever     94\n",
       "Pembroke               87\n",
       "Chihuahua              77\n",
       "pug                    54\n",
       "                     ... \n",
       "clumber                 1\n",
       "groenendael             1\n",
       "Japanese_spaniel        1\n",
       "EntleBucher             1\n",
       "Scotch_terrier          1\n",
       "Name: predicted_type, Length: 111, dtype: int64"
      ]
     },
     "execution_count": 114,
     "metadata": {},
     "output_type": "execute_result"
    }
   ],
   "source": [
    "twitter_df[\"predicted_type\"].value_counts()"
   ]
  },
  {
   "cell_type": "code",
   "execution_count": 115,
   "metadata": {},
   "outputs": [
    {
     "data": {
      "text/plain": [
       "False    1454\n",
       "dtype: int64"
      ]
     },
     "execution_count": 115,
     "metadata": {},
     "output_type": "execute_result"
    }
   ],
   "source": [
    "#find out if there are any duplicate row values in \"twitter_df\"\n",
    "twitter_df.duplicated(subset=None, keep='first').value_counts()"
   ]
  },
  {
   "cell_type": "code",
   "execution_count": 116,
   "metadata": {},
   "outputs": [
    {
     "data": {
      "text/plain": [
       "6"
      ]
     },
     "execution_count": 116,
     "metadata": {},
     "output_type": "execute_result"
    }
   ],
   "source": [
    "# Find if there are value in \"dog_name\" column == the\n",
    "twitter_df[twitter_df['dog_name']== \"the\"].dog_name.value_counts().sum()"
   ]
  },
  {
   "cell_type": "code",
   "execution_count": 117,
   "metadata": {},
   "outputs": [],
   "source": [
    "#after visual investigation found that all \"the\" values are four tweet without mentioned names\n",
    "twitter_df.dog_name.replace(to_replace=[\"the\"], value=\"No_name\", inplace=True)"
   ]
  },
  {
   "cell_type": "code",
   "execution_count": 118,
   "metadata": {},
   "outputs": [
    {
     "data": {
      "text/plain": [
       "0"
      ]
     },
     "execution_count": 118,
     "metadata": {},
     "output_type": "execute_result"
    }
   ],
   "source": [
    "#test\n",
    "twitter_df[twitter_df['dog_name'] == \"the\"].dog_name.value_counts().sum()"
   ]
  },
  {
   "cell_type": "code",
   "execution_count": 119,
   "metadata": {},
   "outputs": [],
   "source": [
    "#Save the final dataframe to CSV file (\"twitter_archive_master.csv\")\n",
    "twitter_df.to_csv(\"twitter_archive_master.csv\", index=False)"
   ]
  },
  {
   "cell_type": "markdown",
   "metadata": {},
   "source": [
    "# Step 4: Visualization and insights"
   ]
  },
  {
   "cell_type": "code",
   "execution_count": 157,
   "metadata": {},
   "outputs": [
    {
     "data": {
      "text/plain": [
       "<AxesSubplot:>"
      ]
     },
     "execution_count": 157,
     "metadata": {},
     "output_type": "execute_result"
    },
    {
     "data": {
      "image/png": "[encoded data removed]",
      "text/plain": [
       "<Figure size 720x432 with 1 Axes>"
      ]
     },
     "metadata": {},
     "output_type": "display_data"
    }
   ],
   "source": [
    "# Q1: What is the most popular dog breed \"predicted_type\"? is it associated with higher retweet and  favorit count?\n",
    "twitter_df[\"predicted_type\"].value_counts()[:15].plot(kind=\"bar\")"
   ]
  },
  {
   "cell_type": "code",
   "execution_count": 147,
   "metadata": {},
   "outputs": [],
   "source": [
    "predicted_type_df = twitter_df.groupby(\"predicted_type\").retweet_count.mean().reset_index()"
   ]
  },
  {
   "cell_type": "code",
   "execution_count": 148,
   "metadata": {},
   "outputs": [
    {
     "data": {
      "text/plain": [
       "6787.0"
      ]
     },
     "execution_count": 148,
     "metadata": {},
     "output_type": "execute_result"
    }
   ],
   "source": [
    "predicted_type_df[\"retweet_count\"].max()"
   ]
  },
  {
   "cell_type": "code",
   "execution_count": 149,
   "metadata": {},
   "outputs": [
    {
     "data": {
      "text/plain": [
       "array([0], dtype=int64)"
      ]
     },
     "execution_count": 149,
     "metadata": {},
     "output_type": "execute_result"
    }
   ],
   "source": [
    "predicted_type_df[predicted_type_df[\"retweet_count\"] == 6787.0].index.values"
   ]
  },
  {
   "cell_type": "code",
   "execution_count": 150,
   "metadata": {},
   "outputs": [
    {
     "data": {
      "text/plain": [
       "predicted_type    Afghan_hound\n",
       "retweet_count             6787\n",
       "Name: 0, dtype: object"
      ]
     },
     "execution_count": 150,
     "metadata": {},
     "output_type": "execute_result"
    }
   ],
   "source": [
    "predicted_type_df.iloc[0]"
   ]
  },
  {
   "cell_type": "code",
   "execution_count": 151,
   "metadata": {},
   "outputs": [],
   "source": [
    "predicted_type_df = twitter_df.groupby(\"predicted_type\").favorit_count.mean().reset_index()"
   ]
  },
  {
   "cell_type": "code",
   "execution_count": 152,
   "metadata": {},
   "outputs": [
    {
     "data": {
      "text/plain": [
       "21725.0"
      ]
     },
     "execution_count": 152,
     "metadata": {},
     "output_type": "execute_result"
    }
   ],
   "source": [
    "predicted_type_df[\"favorit_count\"].max()"
   ]
  },
  {
   "cell_type": "code",
   "execution_count": 153,
   "metadata": {},
   "outputs": [
    {
     "data": {
      "text/plain": [
       "array([52], dtype=int64)"
      ]
     },
     "execution_count": 153,
     "metadata": {},
     "output_type": "execute_result"
    }
   ],
   "source": [
    "predicted_type_df[predicted_type_df[\"favorit_count\"] == 21725.0].index.values"
   ]
  },
  {
   "cell_type": "code",
   "execution_count": 145,
   "metadata": {},
   "outputs": [
    {
     "data": {
      "text/plain": [
       "predicted_type    Saluki\n",
       "favorit_count      21725\n",
       "Name: 52, dtype: object"
      ]
     },
     "execution_count": 145,
     "metadata": {},
     "output_type": "execute_result"
    }
   ],
   "source": [
    "predicted_type_df.iloc[52]"
   ]
  },
  {
   "cell_type": "code",
   "execution_count": 129,
   "metadata": {
    "scrolled": false
   },
   "outputs": [
    {
     "data": {
      "text/plain": [
       "Text(0, 0.5, 'Mean Retweet Count')"
      ]
     },
     "execution_count": 129,
     "metadata": {},
     "output_type": "execute_result"
    },
    {
     "data": {
      "image/png": "[encoded data removed]",
      "text/plain": [
       "<Figure size 432x288 with 1 Axes>"
      ]
     },
     "metadata": {
      "needs_background": "light"
     },
     "output_type": "display_data"
    }
   ],
   "source": [
    "twitter_df.groupby('predicted_type').retweet_count.mean().sort_values(ascending=False)[:10].plot(kind=\"bar\", color=\"red\", alpha=0.7)\n",
    "plt.xlabel('Dog Breed')\n",
    "plt.ylabel(\"Mean Retweet Count\")"
   ]
  },
  {
   "cell_type": "code",
   "execution_count": 130,
   "metadata": {},
   "outputs": [
    {
     "data": {
      "text/plain": [
       "Text(0, 0.5, 'Mean Favorit Count')"
      ]
     },
     "execution_count": 130,
     "metadata": {},
     "output_type": "execute_result"
    },
    {
     "data": {
      "image/png": "[encoded data removed]",
      "text/plain": [
       "<Figure size 432x288 with 1 Axes>"
      ]
     },
     "metadata": {
      "needs_background": "light"
     },
     "output_type": "display_data"
    }
   ],
   "source": [
    "twitter_df.groupby('predicted_type').favorit_count.mean().sort_values(ascending=False)[:10].plot(kind=\"bar\")\n",
    "plt.xlabel(\"Dog Breed\", fontsize=12)\n",
    "plt.ylabel(\"Mean Favorit Count\", fontsize=12)"
   ]
  },
  {
   "cell_type": "markdown",
   "metadata": {},
   "source": [
    "Insight No. 1\n",
    "\n",
    "- From the previous investigation found that:\n",
    "    \n",
    "    (1) Most loved dog based on average favorit_count is \"Afghan_hound\" and it is not the most popular dog type in pics. \n",
    "    \n",
    "    (2) Most popular dog based on average retweet_count  is \"Saluki\" and it is not the most popular dog type in pics.\n",
    "    \n",
    "    (3) The most popular dog type in pics is \"golden_retriever\"."
   ]
  },
  {
   "cell_type": "code",
   "execution_count": 131,
   "metadata": {},
   "outputs": [
    {
     "data": {
      "text/plain": [
       "Pupper           144\n",
       "Doggo             48\n",
       "Puppo             19\n",
       "Floofer            7\n",
       "Doggo-pupper       7\n",
       "Doggo-puppo        1\n",
       "Doggo-floofer      1\n",
       "Name: dog_stage, dtype: int64"
      ]
     },
     "execution_count": 131,
     "metadata": {},
     "output_type": "execute_result"
    }
   ],
   "source": [
    "# Q2: What is the most popular dog stage \"dog_stage\" regarding \"retweet_count\" and \"favorit_count\" columns\n",
    "\n",
    "twitter_df.dog_stage.value_counts()"
   ]
  },
  {
   "cell_type": "code",
   "execution_count": 132,
   "metadata": {},
   "outputs": [],
   "source": [
    "sns.set_context(context='notebook')\n",
    "sns.set(rc={'figure.figsize':(10,6)})"
   ]
  },
  {
   "cell_type": "code",
   "execution_count": 133,
   "metadata": {},
   "outputs": [
    {
     "data": {
      "text/plain": [
       "<matplotlib.legend.Legend at 0x14cbc10>"
      ]
     },
     "execution_count": 133,
     "metadata": {},
     "output_type": "execute_result"
    },
    {
     "data": {
      "image/png": "[encoded data removed]",
      "text/plain": [
       "<Figure size 720x432 with 1 Axes>"
      ]
     },
     "metadata": {},
     "output_type": "display_data"
    }
   ],
   "source": [
    "avg_retweet_count_stage = twitter_df.groupby('dog_stage').retweet_count.mean()\n",
    "avg_favorite_count_stage = twitter_df.groupby('dog_stage').favorit_count.mean()  \n",
    "\n",
    "labels = ['Doggo', 'Doggo-floofer', 'Doggo-pupper', 'Doggo-puppo', 'Floofer', 'Pupper', 'Puppo']\n",
    "ind = np.arange(len(avg_favorite_count_stage))\n",
    "width = 0.3\n",
    "locations = ind + width / 2  # xtick locations\n",
    "\n",
    "plt.xlabel('Dog Stage')\n",
    "plt.title('Different Dog stages VS Favorit & Retweet')\n",
    "\n",
    "red_bars = plt.bar(ind, avg_retweet_count_stage, width, color='r', alpha=.9, label='Avg Retweet Count')\n",
    "white_bars = plt.bar(ind + width, avg_favorite_count_stage, width, color='b', alpha=.9, label='Avg Favorit Count')\n",
    "\n",
    "plt.xticks(locations, labels)\n",
    "\n",
    "plt.legend()"
   ]
  },
  {
   "cell_type": "markdown",
   "metadata": {},
   "source": [
    "Insight No.2\n",
    "\n",
    "- From the previous investigation found that:\n",
    "    \n",
    "    (1) Most popular dog stage based on both average retweet_count & favorit_count  is \"Doggo-puppo\" "
   ]
  },
  {
   "cell_type": "code",
   "execution_count": 134,
   "metadata": {},
   "outputs": [
    {
     "data": {
      "text/plain": [
       "(array([-5.,  0.,  5., 10., 15., 20., 25.]),\n",
       " [Text(-5.0, 0, '(2017, 4)'),\n",
       "  Text(0.0, 0, '(2015, 11)'),\n",
       "  Text(5.0, 0, '(2016, 4)'),\n",
       "  Text(10.0, 0, '(2016, 9)'),\n",
       "  Text(15.0, 0, '(2017, 2)'),\n",
       "  Text(20.0, 0, '(2017, 7)'),\n",
       "  Text(25.0, 0, '')])"
      ]
     },
     "execution_count": 134,
     "metadata": {},
     "output_type": "execute_result"
    },
    {
     "data": {
      "image/png": "[encoded data removed]",
      "text/plain": [
       "<Figure size 1080x720 with 1 Axes>"
      ]
     },
     "metadata": {},
     "output_type": "display_data"
    }
   ],
   "source": [
    "# Q3: What is the relation between time and rating_numerator\n",
    "\n",
    "# Creat a copy of original dataframe\n",
    "twitter_time_df = twitter_df.copy()\n",
    "\n",
    "# Set the time stamp column as the index of the dataframe\n",
    "twitter_time_df.index = twitter_time_df['tweet_timestamp']\n",
    "\n",
    "# Drop the column that is now used as an index\n",
    "twitter_time_df.drop(columns='tweet_timestamp',  inplace=True)\n",
    "\n",
    "# Sort the index\n",
    "twitter_time_df.sort_index(inplace=True)\n",
    "\n",
    "# Group by the time frame\n",
    "data = twitter_time_df.groupby([(twitter_time_df.index.year),(twitter_time_df.index.month)]).rating_numerator.mean()\n",
    "\n",
    "# Plot data\n",
    "data.plot(style='k--', figsize=(15,10),label='Average rating')\n",
    "plt.legend()\n",
    "plt.axhline(y=10.0, color='m', linestyle='--', label='Denominator')\n",
    "plt.legend()\n",
    "data.plot(xlabel=\"Date\", ylabel=\"Avg Rate value\")\n",
    "\n",
    "plt.xticks()\n",
    "\n"
   ]
  },
  {
   "cell_type": "markdown",
   "metadata": {},
   "source": [
    "Insight No.3\n",
    "\n",
    "- From the previous investigation found that:\n",
    "    \n",
    "    (1) The Avg Rating increase with time "
   ]
  },
  {
   "cell_type": "code",
   "execution_count": 135,
   "metadata": {},
   "outputs": [
    {
     "data": {
      "image/png": "[encoded data removed]",
      "text/plain": [
       "<Figure size 1080x720 with 2 Axes>"
      ]
     },
     "metadata": {},
     "output_type": "display_data"
    }
   ],
   "source": [
    "# Q4: What is the relation between time and retweet_count and favorit_count\n",
    "# Group by the time frame\n",
    "data_retweet = twitter_time_df.groupby([(twitter_time_df.index.year),(twitter_time_df.index.month)]).retweet_count.mean()\n",
    "data_favorit = twitter_time_df.groupby([(twitter_time_df.index.year),(twitter_time_df.index.month)]).favorit_count.mean()\n",
    "\n",
    "# Plot data\n",
    "\n",
    "retweet = data_retweet.plot(style='-ro', figsize=(15,10), label='Average Retweet Count')\n",
    "plt.legend(loc='upper right')\n",
    "\n",
    "\n",
    "fav = data_favorit.plot(secondary_y=True, style='k--', figsize=(15,10),label='Average favorit Count')\n",
    "plt.legend(loc=\"upper left\")\n",
    "\n",
    "data.plot(xlabel=\"Date\")\n",
    "retweet.set_ylabel(\"Avg retweet value\")\n",
    "fav.set_ylabel(\"Avg favorit value\")\n",
    "plt.xticks()\n",
    "\n",
    "plt.show()"
   ]
  },
  {
   "cell_type": "markdown",
   "metadata": {},
   "source": [
    "Insight No.4\n",
    "\n",
    "- From the previous investigation found that:\n",
    "    \n",
    "    (1) The Avg_retweet_count and Avg_favorit_count increase with time "
   ]
  },
  {
   "cell_type": "code",
   "execution_count": 136,
   "metadata": {
    "scrolled": false
   },
   "outputs": [
    {
     "data": {
      "text/plain": [
       "<AxesSubplot:>"
      ]
     },
     "execution_count": 136,
     "metadata": {},
     "output_type": "execute_result"
    },
    {
     "data": {
      "image/png": "[encoded data removed]",
      "text/plain": [
       "<Figure size 720x432 with 1 Axes>"
      ]
     },
     "metadata": {},
     "output_type": "display_data"
    }
   ],
   "source": [
    "# Q5: What is the most common dog name?\n",
    "twitter_df.dog_name.value_counts()[:15].plot(kind=\"bar\")"
   ]
  },
  {
   "cell_type": "code",
   "execution_count": null,
   "metadata": {},
   "outputs": [],
   "source": []
  },
  {
   "cell_type": "markdown",
   "metadata": {},
   "source": [
    "Insight No.5\n",
    "\n",
    "- From the previous investigation found that:\n",
    "    \n",
    "    (1) We cannot say that there is a more popular name than another one based on the data we have "
   ]
  }
 ],
 "metadata": {
  "kernelspec": {
   "display_name": "Python 3",
   "language": "python",
   "name": "python3"
  },
  "language_info": {
   "codemirror_mode": {
    "name": "ipython",
    "version": 3
   },
   "file_extension": ".py",
   "mimetype": "text/x-python",
   "name": "python",
   "nbconvert_exporter": "python",
   "pygments_lexer": "ipython3",
   "version": "3.8.5"
  }
 },
 "nbformat": 4,
 "nbformat_minor": 4
}
